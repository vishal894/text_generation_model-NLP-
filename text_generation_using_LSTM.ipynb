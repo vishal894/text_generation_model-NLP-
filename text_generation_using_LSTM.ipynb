{
  "nbformat": 4,
  "nbformat_minor": 0,
  "metadata": {
    "colab": {
      "name": "text generation using LSTM.ipynb",
      "provenance": [],
      "collapsed_sections": [],
      "authorship_tag": "ABX9TyMjw1cfa+R5icGyhgqBh3GN",
      "include_colab_link": true
    },
    "kernelspec": {
      "name": "python3",
      "display_name": "Python 3"
    },
    "accelerator": "GPU"
  },
  "cells": [
    {
      "cell_type": "markdown",
      "metadata": {
        "id": "view-in-github",
        "colab_type": "text"
      },
      "source": [
        "<a href=\"https://colab.research.google.com/github/vishal894/text_generation_model-NLP-/blob/main/text_generation_using_LSTM.ipynb\" target=\"_parent\"><img src=\"https://colab.research.google.com/assets/colab-badge.svg\" alt=\"Open In Colab\"/></a>"
      ]
    },
    {
      "cell_type": "code",
      "metadata": {
        "id": "hRoDFxplF-ph"
      },
      "source": [
        "import tensorflow as tf\n",
        "import string\n",
        "import requests"
      ],
      "execution_count": 1,
      "outputs": []
    },
    {
      "cell_type": "code",
      "metadata": {
        "id": "lxH9N4nPGaHf"
      },
      "source": [
        "response=requests.get('https://raw.githubusercontent.com/laxmimerit/poetry-data/master/adele.txt')"
      ],
      "execution_count": 2,
      "outputs": []
    },
    {
      "cell_type": "code",
      "metadata": {
        "id": "9_kpPtRaHbF1",
        "outputId": "7189eb2f-4855-436b-9a52-6c585467e470",
        "colab": {
          "base_uri": "https://localhost:8080/",
          "height": 120
        }
      },
      "source": [
        "response.text"
      ],
      "execution_count": 3,
      "outputs": [
        {
          "output_type": "execute_result",
          "data": {
            "application/vnd.google.colaboratory.intrinsic+json": {
              "type": "string"
            },
            "text/plain": [
              "'Looking for some education\\nMade my way into the night\\nAll that bullshit conversation\\nBaby, can\\'t you read the signs? I won\\'t bore you with the details, baby\\nI don\\'t even wanna waste your time\\nLet\\'s just say that maybe\\nYou could help me ease my mind\\nI ain\\'t Mr. Right But if you\\'re looking for fast love\\nIf that\\'s love in your eyes\\nIt\\'s more than enough\\nHad some bad love\\nSo fast love is all that I\\'ve got on my mind Ooh, ooh\\nOoh, ooh Looking for some affirmation\\nMade my way into the sun\\nMy friends got their ladies\\nAnd they\\'re all having babies\\nI just wanna have some fun I won\\'t bore you with the details, baby\\nI don\\'t even wanna waste your time\\nLet\\'s just say that maybe\\nYou could help me ease my mind\\nI ain\\'t Mr. Right But if you\\'re looking for fast love\\nIf that\\'s love in your eyes\\nIt\\'s more than enough\\nI\\'ve had some bad love\\nSo fast love is all that I\\'ve got on my mind Ooh, ooh\\nBaby, baby\\nOoh, ooh\\nBaby, baby\\nOoh, ooh\\nBaby, baby\\nOoh In the absence of security\\nI made my way into the night\\nStupid cupid keeps on calling me\\nAnd I see nothing in his eyes\\nI miss my baby\\nOh I, I miss my baby\\nI miss my baby\\nI miss, I miss, I miss, I miss my baby\\nOoh I, I miss my baby I don\\'t want you to be no slave\\nI don\\'t want you to work all day\\nBut I want you to be true\\nAnd I just want to make love to you\\nLove to you, ooh baby\\nLove to you, yeah All I want to do is wash your clothes\\nI don\\'t want to keep you indoors\\nThere is nothing you can\\'t do\\nBut keep me making love to me\\nLove to me, ooh baby\\nLove to you, yeah And I can tell by the way you walk that walk\\nAnd I can hear by the way you talk that talk\\nAnd I can know by the way you treat your girl\\nThat I can give you all the loving in the whole wide world All I want you to do is make your bread\\nJust to make sure you\\'re well fed\\nI don\\'t want you sad and blue\\nAnd I just want to make love to you\\nLove to you, ooh yeah\\nLove to you, yeah And I can tell by the way you walk that walk\\nAnd I can hear by the way you talk that talk\\nAnd I can know by the way you treat your girl\\nThat I can give you all the loving in the whole wide world All I want you to do baby is make your bread\\nJust to make sure you\\'re well fed\\nI don\\'t want you sad and blue\\nAnd I just want to make love to you\\nLove to you, ooh yeah\\nLove to you, yeah\\nOh I just want to make love to you Happy New Year! I heard that you\\'re settled down\\nThat you found a girl and you\\'re married now\\nI heard that your dreams came true\\nGuess she gave you things I didn\\'t give to you Old friend, why are you so shy?\\nAin\\'t like you to hold back or hide from the light I hate to turn up out of the blue, uninvited\\nBut I couldn\\'t stay away, I couldn\\'t fight it\\nI had hoped you\\'d see my face and that you\\'d be reminded\\nThat for me, it isn\\'t over Never mind, I\\'ll find someone like you\\nI wish nothing but the best for you two\\nDon\\'t forget me, I beg, I remember you said\\nSometimes it lasts in love, but sometimes it hurts instead\\nSometimes it lasts in love, but sometimes it hurts instead You know how the time flies\\nOnly yesterday was the time of our lives\\nWe were born and raised in a summer haze\\nBound by the surprise of our glory days I hate to turn up out of the blue, uninvited\\nBut I couldn\\'t stay away, I couldn\\'t fight it\\nI had hoped you\\'d see my face and that you\\'d be reminded\\nThat for me, it isn\\'t over Never mind, I\\'ll find someone like you\\nI wish nothing but the best for you two\\nDon\\'t forget me, I beg, I remember you said\\nSometimes it lasts in love, but sometimes it hurts instead, yeah Nothing compares, no worries or cares\\nRegrets and mistakes, they\\'re memories made\\nWho would have known how bittersweet this would taste? Never mind, I\\'ll find someone like you\\nI wish nothing but the best for you\\nDon\\'t forget me, I beg, I remember you said\\nSometimes it lasts in love, but sometimes it hurts instead Never mind, I\\'ll find someone like you\\nI wish nothing but the best for you two\\nDon\\'t forget me, I beg, I remember you said\\nSometimes it lasts in love, but sometimes it hurts instead\\nSometimes it lasts in love, but sometimes it hurts instead There\\'s a fire starting in my heart\\nReaching a fever pitch, it\\'s bringing me out the dark\\nFinally I can see you crystal clear\\n[Clean version:] Go \\'head and sell me out and I\\'ll lay your ship bare\\n[Explicit version:] Go \\'head and sell me out and I\\'ll lay your shit bare\\nSee how I leave with every piece of you\\nDon\\'t underestimate the things that I will do There\\'s a fire starting in my heart\\nReaching a fever pitch\\nAnd it\\'s bringing me out the dark The scars of your love remind me of us\\nThey keep me thinking that we almost had it all\\nThe scars of your love, they leave me breathless\\nI can\\'t help feeling\\nWe could have had it all\\n(You\\'re gonna wish you never had met me)\\nRolling in the deep\\n(Tears are gonna fall, rolling in the deep)\\nYou had my heart inside of your hand\\n(You\\'re gonna wish you never had met me)\\nAnd you played it, to the beat\\n(Tears are gonna fall, rolling in the deep) Baby, I have no story to be told\\nBut I\\'ve heard one on you\\nAnd I\\'m gonna make your head burn\\nThink of me in the depths of your despair\\nMake a home down there\\nAs mine sure won\\'t be shared (You\\'re gonna wish you never had met me)\\nThe scars of your love remind me of us\\n(Tears are gonna fall, rolling in the deep)\\nThey keep me thinking that we almost had it all\\n(You\\'re gonna wish you never had met me)\\nThe scars of your love, they leave me breathless\\n(Tears are gonna fall, rolling in the deep)\\nI can\\'t help feeling\\nWe could have had it all\\n(You\\'re gonna wish you never had met me)\\nRolling in the deep\\n(Tears are gonna fall, rolling in the deep)\\nYou had my heart inside of your hand\\n(You\\'re gonna wish you never had met me)\\nAnd you played it, to the beat\\n(Tears are gonna fall, rolling in the deep)\\nWe could have had it all\\nRolling in the deep\\nYou had my heart inside of your hand\\nBut you played it, with a beating Throw your soul through every open door (woah)\\nCount your blessings to find what you look for (woah)\\nTurn my sorrow into treasured gold (woah)\\nYou\\'ll pay me back in kind and reap just what you sow (woah)\\n(You\\'re gonna wish you never had met me)\\nWe could have had it all\\n(Tears are gonna fall, rolling in the deep)\\nWe could have had it all\\n(You\\'re gonna wish you never had met me)\\nIt all, it all, it all\\n(Tears are gonna fall, rolling in the deep) We could have had it all\\n(You\\'re gonna wish you never had met me)\\nRolling in the deep\\n(Tears are gonna fall, rolling in the deep)\\nYou had my heart inside of your hand\\n(You\\'re gonna wish you never had met me)\\nAnd you played it to the beat\\n(Tears are gonna fall, rolling in the deep) We could have had it all\\n(You\\'re gonna wish you never had met me)\\nRolling in the deep\\n(Tears are gonna fall, rolling in the deep)\\nYou had my heart inside of your hand\\n(You\\'re gonna wish you never had met me) But you played it\\nYou played it\\nYou played it\\nYou played it to the beat. Hello, it\\'s me\\nI was wondering if after all these years you\\'d like to meet\\nTo go over everything\\nThey say that time\\'s supposed to heal ya\\nBut I ain\\'t done much healing Hello, can you hear me?\\nI\\'m in California dreaming about who we used to be\\nWhen we were younger and free\\nI\\'ve forgotten how it felt before the world fell at our feet There\\'s such a difference between us\\nAnd a million miles Hello from the other side\\nI must\\'ve called a thousand times\\nTo tell you I\\'m sorry\\nFor everything that I\\'ve done\\nBut when I call you never\\nSeem to be home Hello from the outside\\nAt least I can say that I\\'ve tried\\nTo tell you I\\'m sorry\\nFor breaking your heart\\nBut it don\\'t matter, it clearly\\nDoesn\\'t tear you apart anymore Hello, how are you?\\nIt\\'s so typical of me to talk about myself, I\\'m sorry\\nI hope that you\\'re well\\nDid you ever make it out of that town\\nWhere nothing ever happened? It\\'s no secret\\nThat the both of us\\nAre running out of time So hello from the other side (other side)\\nI must\\'ve called a thousand times (thousand times)\\nTo tell you I\\'m sorry\\nFor everything that I\\'ve done\\nBut when I call you never\\nSeem to be home Hello from the outside (outside)\\nAt least I can say that I\\'ve tried (I\\'ve tried)\\nTo tell you I\\'m sorry\\nFor breaking your heart\\nBut it don\\'t matter, it clearly\\nDoesn\\'t tear you apart anymore Oh, anymore\\nOh, anymore\\nOh, anymore\\nAnymore Hello from the other side (other side)\\nI must\\'ve called a thousand times (thousand times)\\nTo tell you I\\'m sorry\\nFor everything that I\\'ve done\\nBut when I call you never\\nSeem to be home Hello from the outside (outside)\\nAt least I can say that I\\'ve tried (I\\'ve tried)\\nTo tell you I\\'m sorry\\nFor breaking your heart\\nBut it don\\'t matter, it clearly\\nDoesn\\'t tear you apart anymore I will leave my heart at the door\\nI won\\'t say a word\\nThey\\'ve all been said before you know\\nSo why don\\'t we just play pretend\\nLike we\\'re not scared of what\\'s coming next\\nOr scared of having nothing left Look, don\\'t get me wrong\\nI know there is no tomorrow\\nAll I ask is If this is my last night with you\\nHold me like I\\'m more than just a friend\\nGive me a memory I can use\\nTake me by the hand while we do what lovers do\\nIt matters how this ends\\n\\'Cause what if I never love again? I don\\'t need your honesty\\nIt\\'s already in your eyes\\nAnd I\\'m sure my eyes, they speak for me\\nNo one knows me like you do\\nAnd since you\\'re the only one that matters\\nTell me who do I run to? Look, don\\'t get me wrong\\nI know there is no tomorrow\\nAll I ask is If this is my last night with you\\nHold me like I\\'m more than just a friend\\nGive me a memory I can use\\nTake me by the hand while we do what lovers do\\nIt matters how this ends\\n\\'Cause what if I never love again? Let this be our lesson in love\\nLet this be the way we remember us\\nI don\\'t wanna be cruel or vicious\\nAnd I ain\\'t asking for forgiveness\\nAll I ask is If this is my last night with you\\nHold me like I\\'m more than just a friend\\nGive me a memory I can use\\nTake me by the hand while we do what lovers do\\nIt matters how this ends\\n\\'Cause what if I never love again? I let it fall, my heart,\\nAnd as it fell you rose to claim it\\nIt was dark and I was over\\nUntil you kissed my lips and you saved me My hands, they\\'re strong\\nBut my knees were far too weak\\nTo stand in your arms\\nWithout falling to your feet But there\\'s a side to you that I never knew, never knew\\nAll the things you\\'d say, they were never true, never true\\nAnd the games you\\'d play, you would always win, always win But I set fire to the rain\\nWatched it pour as I touched your face\\nLet it burn while I cry\\n\\'Cause I heard it screaming out your name, your name When laying with you\\nI could stay there, close my eyes\\nFeel you here, forever\\nYou and me together, nothing gets better Cause there\\'s a side to you that I never knew, never knew\\nAll the things you\\'d say, they were never true, never true\\nAnd the games you\\'d play, you would always win, always win But I set fire to the rain\\nWatched it pour as I touched your face\\nLet it burn while I cried\\n\\'Cause I heard it screaming out your name, your name I set fire to the rain\\nAnd I threw us into the flames\\nWhere I felt something die, \\'cause I knew that\\nThat was the last time, the last time Sometimes I wake up by the door\\nAs if that heart you caught is still waiting for you\\nEven now when it\\'s already over\\nI can\\'t help myself from looking for you I set fire to the rain\\nWatched it pour as I touched your face\\nLet it burn while I cried\\n\\'Cause I heard it screaming out your name, your name I set fire to the rain\\nAnd I threw us into the flames\\nWhere I felt something die\\n\\'Cause I knew that that was the last time, the last time, oh\\nOh, oh Let it burn, oh\\nLet it burn\\nLet it burn Everybody loves the things you do\\nFrom the way you talk\\nTo the way you move\\nEverybody here is watching you\\n\\'Cause you feel like home\\nYou\\'re like a dream come true\\nBut if by chance you\\'re here alone\\nCan I have a moment\\nBefore I go?\\n\\'Cause I\\'ve been by myself all night long\\nHoping you\\'re someone I used to know You look like a movie\\nYou sound like a song\\nMy God, this reminds me\\nOf when we were young Let me photograph you in this light\\nIn case it is the last time\\nThat we might be exactly like we were\\nBefore we realized\\nWe were sad of getting old\\nIt made us restless\\nIt was just like a movie\\nIt was just like a song I was so scared to face my fears\\nNobody told me that you\\'d be here\\nAnd I swore you moved overseas\\nThat\\'s what you said, when you left me You still look like a movie\\nYou still sound like a song\\nMy God, this reminds me\\nOf when we were young Let me photograph you in this light\\nIn case it is the last time\\nThat we might be exactly like we were\\nBefore we realized\\nWe were sad of getting old\\nIt made us restless\\nIt was just like a movie\\nIt was just like a song When we were young\\nWhen we were young\\nWhen we were young\\nWhen we were young It\\'s hard to win me back\\nEverything just takes me back\\nTo when you were there\\nTo when you were there\\nAnd a part of me keeps holding on\\nJust in case it hasn\\'t gone\\nI guess I still care\\nDo you still care? It was just like a movie\\nIt was just like a song\\nMy God, this reminds me\\nOf when we were young When we were young\\nWhen we were young\\nWhen we were young\\nWhen we were young Let me photograph you in this light\\nIn case it is the last time\\nThat we might be exactly like we were\\nBefore we realized\\nWe were sad of getting old\\nIt made us restless\\nOh, I\\'m so mad I\\'m getting old\\nIt makes me reckless\\nIt was just like a movie\\nIt was just like a song\\nWhen we were young Whenever I\\'m alone with you\\nYou make me feel like I am home again\\nWhenever I\\'m alone with you\\nYou make me feel like I am whole again Whenever I\\'m alone with you\\nYou make me feel like I am young again\\nWhenever I\\'m alone with you\\nYou make me feel like I am fun again However far away I will always love you\\nHowever long I stay I will always love you\\nWhatever words I say I will always love you\\nI will always love you Whenever I\\'m alone with you\\nYou make me feel like I am free again\\nWhenever I\\'m alone with you\\nYou make me feel like I am clean again However far away I will always love you\\nHowever long I stay I will always love you\\nWhatever words I say I will always love you\\nI will always love you However far away I will always love you\\nHowever long I stay I will always love you\\nWhatever words I say I will always love you\\nI will always love you\\nI will always love you\\n\\'Cause I love you When the rain is blowing in your face\\nAnd the whole world is on your case\\nI could offer you a warm embrace\\nTo make you feel my love When the evening shadows and the stars appear\\nAnd there is no one there to dry your tears\\nI could hold you for a million years\\nTo make you feel my love I know you haven\\'t made your mind up yet\\nBut I would never do you wrong\\nI\\'ve known it from the moment that we met\\nno doubt in my mind were you belong I\\'d go hungry, I\\'d go black and blue\\nI\\'d go crawling down the avenue\\nNo, there\\'s nothing that I wouldn\\'t do\\nTo make you feel my love The storms are raging on the rolling sea\\nAnd on the highway of regret\\nThe winds of change are blowing wild and free\\nYou ain\\'t seen nothing like me yet I could make you happy, make your dreams come true\\nNothing that I wouldn\\'t do\\nGo to the ends of the Earth for you\\nTo make you feel my love To make you feel my love I\\'ve made up my mind\\nDon\\'t need to think it over\\nIf I\\'m wrong I am right\\nDon\\'t need to look no further\\nThis ain\\'t lust\\nI know this is love but If I tell the world\\nI\\'ll never say enough\\nCause it was not said to you\\nAnd that\\'s exactly what I need to do\\nIf I\\'m in love with you Should I give up\\nOr should I just keep chasing pavements?\\nEven if it leads nowhere\\nOr would it be a waste?\\nEven If I knew my place should I leave it there?\\nShould I give up\\nOr should I just keep chasing pavements?\\nEven if it leads nowhere I\\'d build myself up\\nAnd fly around in circles\\nWaiting as my heart drops\\nAnd my back begins to tingle\\nFinally could this be it or Should I give up\\nOr should I just keep chasing pavements?\\nEven if it leads nowhere\\nOr would it be a waste?\\nEven if I knew my place should I leave it there?\\nShould I give up\\nOr should I just keep chasing pavements?\\nEven if it leads nowhere yeah Should I give up\\nOr should I just keep chasing pavements?\\nEven if, it leads nowhere\\nOr would it be a waste?\\nEven if I knew my place should I leave it there?\\nShould I give up,\\nOr should I just keep on chasing pavements?\\nShould I just keep on chasing pavements? Or Should I give up\\nOr should I just keep chasing pavements?\\nEven if it leads nowhere\\nOr would it be a waste?\\nEven if I knew my place should I leave it there?\\nShould I give up\\nOr should I just keep chasing pavements?\\nEven if it leads nowhere When will I see you again?\\nYou left with no goodbye, not a single word was said\\nNo final kiss to seal anything\\nI had no idea of the state we were in I know I have a fickle heart and a bitterness\\nAnd a wandering eye, and a heaviness in my head\\nBut don\\'t you remember, don\\'t you remember?\\nThe reason you loved me before,\\nBaby please remember me once more When was the last time you thought of me?\\nOr have you completely erased me from your memories?\\nI often think about where I went wrong\\nThe more I do, the less I know But I know I have a fickle heart and a bitterness\\nAnd a wandering eye, and a heaviness in my head\\nBut don\\'t you remember, don\\'t you remember?\\nThe reason you loved me before\\nBaby please remember me once more Oh, I gave you the space so you could breathe\\nI kept my distance so you would be free\\nIn hope that you find the missing piece\\nTo bring you back to me Why don\\'t you remember, don\\'t you remember?\\nThe reason you loved me before\\nBaby please remember me once more\\nWhen will I see you again? She, she ain\\'t real\\nShe ain\\'t gonna be able to love you like I will\\nShe is a stranger\\nYou and I have history\\nOr don\\'t you remember\\nSure, she\\'s got it all\\nBut, baby, is that really what you want Bless your soul, you\\'ve got you\\'re head in the clouds\\nYou made a fool out of you\\nAnd, boy, she\\'s bringing you down\\nShe made your heart melt\\nBut you\\'re cold to the core\\nNow rumor has it she ain\\'t got your love anymore Rumor has it, ooh\\nRumor has it, ooh\\nRumor has it, ooh\\nRumor has it, ooh\\nRumor has it, ooh\\nRumor has it, ooh\\nRumor has it, ooh\\nRumor has it, ooh She is half your age\\nBut I\\'m guessing that\\'s the reason that you stayed\\nI heard you\\'ve been missing me\\nYou\\'ve been telling people things that you shouldn\\'t be\\nLike when we creep out and she ain\\'t around\\nHaven\\'t you heard the rumors Bless your soul, you\\'ve got your head in the clouds\\nYou made a fool out of me\\nAnd, boy, you\\'re bringing me down\\nYou made my heart melt, yet I\\'m cold to the core\\nBut rumor has it I\\'m the one you\\'re leaving her for Rumor has it, ooh\\nRumor has it, ooh\\nRumor has it, ooh\\nRumor has it, ooh\\nRumor has it, ooh\\nRumor has it, ooh\\nRumor has it, ooh\\nRumor has it, ooh All of these words whispered in my ear\\nTell a story that I cannot bear to hear\\nJust \\'cause I said it, it don\\'t mean that I meant it\\nPeople say crazy things\\nJust \\'cause I said it, don\\'t mean that I meant it\\nJust \\'cause you heard it Rumor has it, ooh,\\nRumor has it, ooh,\\nRumor has it, ooh,\\nRumor has it, ooh,\\nRumor has it, ooh,\\nRumor has it, ooh,\\nRumor has it, ooh,\\nRumor has it, ooh,\\nRumor has it, ooh,\\nRumor has it, ooh,\\nRumor has it, ooh,\\nRumor has it, ooh,\\nRumor has it, ooh,\\nRumor has it, ooh But rumor has it he\\'s the one I\\'m leaving you for You\\'ve been on my mind\\nI grow fonder every day\\nLose myself in time\\nJust thinking of your face\\nGod only knows why it\\'s taken me\\nSo long to let my doubts go\\nYou\\'re the only one that I want I don\\'t know why I\\'m scared\\nI\\'ve been here before\\nEvery feeling, every word\\nI\\'ve imagined it all\\nYou\\'ll never know if you never try\\nTo forget your past and simply be mine I dare you to let me be your, your one and only\\nI promise I\\'m worthy\\nTo hold in your arms\\nSo come on and give me the chance\\nTo prove I am the one who can walk that mile\\nUntil the end starts If I\\'ve been on your mind\\nYou hang on every word I say\\nLose yourself in time\\nAt the mention of my name\\nWill I ever know how it feels to hold you close\\nAnd have you tell me\\nWhichever road I choose, you\\'ll go? I don\\'t know why I\\'m scared\\n\\'Cause I\\'ve been here before\\nEvery feeling, every word\\nI\\'ve imagined it all\\nYou\\'ll never know if you never try\\nTo forget your past and simply be mine I dare you to let me be your, your one and only\\nI promise I\\'m worthy, mm\\nTo hold in your arms\\nSo come on and give me the chance\\nTo prove I am the one who can walk that mile\\nUntil the end starts I know it ain\\'t easy giving up your heart\\nI know it ain\\'t easy giving up your heart\\nNobody\\'s perfect\\n(I know it ain\\'t easy giving up your heart)\\nTrust me I\\'ve learned it\\nNobody\\'s perfect\\n(I know it ain\\'t easy giving up your heart)\\nTrust me I\\'ve learned it\\nNobody\\'s perfect\\n(I know it ain\\'t easy giving up your heart)\\nTrust me I\\'ve learned it\\nNobody\\'s perfect\\n(I know it ain\\'t easy giving up your heart)\\nTrust me I\\'ve learned it So I dare you to let me be your, your one and only\\nI promise I\\'m worthy\\nTo hold in your arms\\nSo come on and give me the chance\\nTo prove that I am the, one who can walk that mile\\nUntil the end starts Come on and give me the chance\\nTo prove that I am the one who can, walk that mile\\nUntil the end starts If you\\'re not the one for me\\nThen I\\'ll come back and bring you to your knees\\nIf you\\'re not the one for me\\nWhy do I hate the idea of being free?\\nAnd if I\\'m not the one for you\\nYou\\'ve gotta stop holding me the way you do\\nOh when you found that the one for you\\nWhy have we been through what we have been through It\\'s so cold out here in your wilderness\\nI want you to be my keeper\\nBut not if you are so reckless If you\\'re gonna let me down, let me down gently\\nDon\\'t pretend that you don\\'t want me\\nOur love ain\\'t water under the bridge\\nIf you\\'re gonna let me down, let me down gently\\nDon\\'t pretend that you don\\'t want me\\nOur love ain\\'t water under the bridge\\nSay that our love ain\\'t water under the bridge What are you waiting for?\\nYou never seem to make it through the door\\nAnd who are you hiding from?\\nIt ain\\'t no life to live like you\\'re on the run\\nHave I ever asked for much?\\nThe only thing that I want is your love If you\\'re gonna let me down, let me down gently\\nDon\\'t pretend that you don\\'t want me\\nOur love ain\\'t water under the bridge\\nIf you\\'re gonna let me down, let me down gently\\nDon\\'t pretend that you don\\'t want me\\nOur love ain\\'t water under the bridge\\nSay that our love ain\\'t water under the bridge It\\'s so cold in your wilderness\\nI want you to be my keeper\\nBut not if you are so reckless If you\\'re gonna let me down, let me down gently\\nDon\\'t pretend that you don\\'t want me\\nOur love ain\\'t water under the bridge\\nIf you\\'re gonna let me down, let me down gently\\nDon\\'t pretend that you don\\'t want me\\nOur love ain\\'t water under the bridge Say it ain\\'t so, say it ain\\'t so\\nSay it ain\\'t so, say it ain\\'t so\\nSay it ain\\'t so, say it ain\\'t so\\nSay it ain\\'t so, say it ain\\'t so\\nSay it ain\\'t so, say it ain\\'t so\\nSay it ain\\'t so, say it ain\\'t so\\nSay it ain\\'t so, say it ain\\'t so\\nSay it ain\\'t so, say it ain\\'t so\\nSay that our love ain\\'t water under the bridge I\\'ve been walking in the same way as I did\\nMissing out the cracks in the pavement\\nAnd turning my heel and strutting my feet\\n\"Is there anything I can do for you dear?\\nIs there anyone I could call?\"\\n\"No and thank you, please Madam.\\nI ain\\'t lost, just wandering\" Round my hometown\\nMemories are fresh\\nRound my hometown\\nOoh the people I\\'ve met\\nAre the wonders of my world\\nAre the wonders of my world\\nAre the wonders of this world\\nAre the wonders of now I like it in the city when the air is so thick and opaque\\nI love to see everybody in short skirts, shorts and shades\\nI like it in the city when two worlds collide\\nYou get the people and the government\\nEverybody taking different sides Shows that we ain\\'t gonna stand shit\\nShows that we are united\\nShows that we ain\\'t gonna take it\\nShows that we ain\\'t gonna stand shit\\nShows that we are united Round my hometown\\nMemories are fresh\\nRound my hometown\\nOoh the people I\\'ve met yea Are the wonders of my world\\nAre the wonders of my world\\nAre the wonders of this world\\nAre the wonders of my world\\nOf my world, yeah\\nOf my world\\nOf my world, yeah Close enough to start a war\\nAll that I have is on the floor\\nGod only knows what we\\'re fighting for\\nAll that I say, you always say more I can\\'t keep up with your turning tables\\nUnder your thumb, I can\\'t breathe So I won\\'t let you close enough to hurt me\\nNo, I won\\'t ask you, you to just desert me\\nI can\\'t give you what you think you gave me\\nIt\\'s time to say goodbye to turning tables, to turning tables Under haunted skies I see\\nWhere love is lost, your ghost is found\\nI\\'ve braved a hundred storms to leave you\\nAs hard as you try, no, I will never be knocked down I can\\'t keep up with your turning tables\\nUnder your thumb, I can\\'t breathe So I won\\'t let you close enough to hurt me, no\\nI won\\'t ask you, you to just desert me\\nI can\\'t give you what you think you gave me\\nIt\\'s time to say goodbye to turning tables, turning tables Next time I\\'ll be braver, I\\'ll be my own savior\\nWhen the thunder calls to me\\nNext time I\\'ll be braver, I\\'ll be my own savior\\nStanding on my own two feet I won\\'t let you close enough to hurt me, no\\nI won\\'t ask you, you to just desert me\\nI can\\'t give you what you think you gave me\\nIt\\'s time to say goodbye to turning tables, to turning tables\\nTurning tables, yeah, turning This is the end\\nHold your breath and count to ten\\nFeel the earth move and then\\nHear my heart burst again For this is the end\\nI\\'ve drowned and dreamt this moment\\nSo overdue I owe them\\nSwept away, I\\'m stolen Let the sky fall\\nWhen it crumbles\\nWe will stand tall\\nFace it all together Let the sky fall\\nWhen it crumbles\\nWe will stand tall\\nFace it all together\\nAt skyfall\\nAt skyfall Skyfall is where we start\\nA thousand miles and poles apart\\nWhere worlds collide and days are dark\\nYou may have my number, you can take my name\\nBut you\\'ll never have my heart Let the sky fall\\nWhen it crumbles\\nWe will stand tall\\nFace it all together Let the sky fall\\nWhen it crumbles\\nWe will stand tall\\nFace it all together\\nAt skyfall Where you go I go\\nWhat you see I see\\nI know I\\'d never be me\\nWithout the security\\nOf your loving arms\\nKeeping me from harm\\nPut your hand in my hand\\nAnd we\\'ll stand Let the sky fall\\nWhen it crumbles\\nWe will stand tall\\nFace it all together Let the sky fall\\nWhen it crumbles\\nWe will stand tall\\nFace it all together\\nAt skyfall Let the sky fall\\nWe will stand tall\\nAt skyfall Just the guitar This was all you, none of it me\\nYou put your hands all over my body and told me, umm\\nYou told me you were ready\\nFor the big one, for the big jump\\nI\\'d be your last love everlasting you and me\\nThat was what you told me I\\'m giving you up\\nI\\'ve forgiven it all\\nYou set me free, oh Send my love to your new lover\\nTreat her better\\nWe\\'ve gotta let go of all of our ghosts\\nWe both know we ain\\'t kids no more\\nSend my love to your new lover\\nTreat her better\\nWe\\'ve gotta let go of all of our ghosts\\nWe both know we ain\\'t kids no more I was too strong you were trembling\\nYou couldn\\'t handle the hot heat rising (rising), umm\\nBaby I\\'m so rising\\nI was running, you were walking\\nYou couldn\\'t keep up, you were falling down (down), umm\\nThere\\'s only one way down I\\'m giving you up\\nI\\'ve forgiven it all\\nYou set me free, oh Send my love to your new lover\\nTreat her better\\nWe gotta let go of all of our ghosts\\nWe\\'ve both know we ain\\'t kids no more\\nSend my love to your new lover\\nTreat her better\\nWe\\'ve gotta let go of all of our ghosts\\nWe both know we ain\\'t kids no more If you\\'re ready, if you\\'re ready\\nIf you\\'re ready, I am ready\\nIf you\\'re ready, if you\\'re ready\\nWe both know we ain\\'t kids no more\\nNo, we ain\\'t kids no more I\\'m giving you up\\nI\\'ve forgiven it all\\nYou set me free Send my love to your new lover\\nTreat her better\\nWe\\'ve gotta let go of all of our ghosts\\nWe both know we ain\\'t kids no more\\nSend my love to your new lover\\nTreat her better\\nWe\\'ve gotta let go of all of our ghosts\\nWe both know we ain\\'t kids no more If you\\'re ready, if you\\'re ready (Send my love to your new lover)\\nIf you\\'re ready, are you ready? (Treat her better)\\nWe\\'ve gotta let go of all of our ghosts\\nWe both know we ain\\'t kids no more\\nIf you\\'re ready, if you\\'re ready (Send my love to your new lover)\\nIf you\\'re ready, are you ready? (Treat her better)\\nWe\\'ve gotta let go of all of our ghosts\\nWe both know we ain\\'t kids no more Just the guitar This was all you, none of it me\\nYou put your hands all over my body and told me, umm\\nYou told me you were ready\\nFor the big one, for the big jump\\nI\\'d be your last love everlasting you and me\\nThat was what you told me I\\'m giving you up\\nI\\'ve forgiven it all\\nYou set me free, oh Send my love to your new lover\\nTreat her better\\nWe\\'ve gotta let go of all of our ghosts\\nWe both know we ain\\'t kids no more\\nSend my love to your new lover\\nTreat her better\\nWe\\'ve gotta let go of all of our ghosts\\nWe both know we ain\\'t kids no more I was too strong you were trembling\\nYou couldn\\'t handle the hot heat rising (rising), umm\\nBaby I\\'m so rising\\nI was running, you were walking\\nYou couldn\\'t keep up, you were falling down (down), umm\\nThere\\'s only one way down I\\'m giving you up\\nI\\'ve forgiven it all\\nYou set me free, oh Send my love to your new lover\\nTreat her better\\nWe gotta let go of all of our ghosts\\nWe\\'ve both know we ain\\'t kids no more\\nSend my love to your new lover\\nTreat her better\\nWe\\'ve gotta let go of all of our ghosts\\nWe both know we ain\\'t kids no more If you\\'re ready, if you\\'re ready\\nIf you\\'re ready, I am ready\\nIf you\\'re ready, if you\\'re ready\\nWe both know we ain\\'t kids no more\\nNo, we ain\\'t kids no more I\\'m giving you up\\nI\\'ve forgiven it all\\nYou set me free Send my love to your new lover\\nTreat her better\\nWe\\'ve gotta let go of all of our ghosts\\nWe both know we ain\\'t kids no more\\nSend my love to your new lover\\nTreat her better\\nWe\\'ve gotta let go of all of our ghosts\\nWe both know we ain\\'t kids no more If you\\'re ready, if you\\'re ready (Send my love to your new lover)\\nIf you\\'re ready, are you ready? (Treat her better)\\nWe\\'ve gotta let go of all of our ghosts\\nWe both know we ain\\'t kids no more\\nIf you\\'re ready, if you\\'re ready (Send my love to your new lover)\\nIf you\\'re ready, are you ready? (Treat her better)\\nWe\\'ve gotta let go of all of our ghosts\\nWe both know we ain\\'t kids no more I only wanted to have fun\\nLearning to fly, learning to run\\nI let my heart decide the way\\nWhen I was young\\nDeep down I must have always known\\nThat this would be inevitable\\nTo earn my stripes I\\'d have to pay\\nAnd bear my soul I know I\\'m not the only one\\nWho regrets the things they\\'ve done\\nSometimes I just feel it\\'s only me\\nWho can\\'t stand the reflection that they see\\nI wish I could live a little more\\nLook up to the sky, not just the floor\\nI feel like my life is flashing by\\nAnd all I can do is watch and cry\\nI miss the air, I miss my friends\\nI miss my mother, I miss it when\\nLife was a party to be thrown\\nBut that was a million years ago When I walk around all of the streets\\nWhere I grew up and found my feet\\nThey can\\'t look me in the eye\\nIt\\'s like they\\'re scared of me\\nI try to think of things to say\\nLike a joke or a memory\\nBut they don\\'t recognize me now\\nIn the light of day I know I\\'m not the only one\\nWho regrets the things they\\'ve done\\nSometimes I just feel it\\'s only me\\nWho never became who they thought they\\'d be\\nI wish I could live a little more\\nLook up to the sky, not just the floor\\nI feel like my life is flashing by\\nAnd all I can do is watch and cry\\nI miss the air, I miss my friends\\nI miss my mother, I miss it when\\nLife was a party to be thrown\\nBut that was a million years ago\\nA million years ago Looking for some education\\nMade my way into the night\\nAll that bullshit conversation\\nBaby, can\\'t you read the signs? I won\\'t bore you with the details, baby\\nI don\\'t even wanna waste your time\\nLet\\'s just say that maybe\\nYou could help me ease my mind\\nI ain\\'t Mr. Right But if you\\'re looking for fast love\\nIf that\\'s love in your eyes\\nIt\\'s more than enough\\nHad some bad love\\nSo fast love is all that I\\'ve got on my mind Ooh, ooh\\nOoh, ooh Looking for some affirmation\\nMade my way into the sun\\nMy friends got their ladies\\nAnd they\\'re all having babies\\nI just wanna have some fun I won\\'t bore you with the details, baby\\nI don\\'t even wanna waste your time\\nLet\\'s just say that maybe\\nYou could help me ease my mind\\nI ain\\'t Mr. Right But if you\\'re looking for fast love\\nIf that\\'s love in your eyes\\nIt\\'s more than enough\\nI\\'ve had some bad love\\nSo fast love is all that I\\'ve got on my mind Ooh, ooh\\nBaby, baby\\nOoh, ooh\\nBaby, baby\\nOoh, ooh\\nBaby, baby\\nOoh In the absence of security\\nI made my way into the night\\nStupid cupid keeps on calling me\\nAnd I see nothing in his eyes\\nI miss my baby\\nOh I, I miss my baby\\nI miss my baby\\nI miss, I miss, I miss, I miss my baby\\nOoh I, I miss my baby Take your eyes off of me so I can leave\\nI\\'m far too ashamed to do it with you watching me\\nThis is never ending, we have been here before\\nBut I can\\'t stay this time \\'cause I don\\'t love you anymore\\nPlease stay where you are\\nDon\\'t come any closer\\nDon\\'t try to change my mind\\nI\\'m being cruel to be kind I can\\'t love you in the dark\\nIt feels like we\\'re oceans apart\\nThere is so much space between us\\nMaybe we\\'re already defeated\\nAh-yeah-yeah-yeah-yeah-yeah-yeah everything changed me You have given me something that I can\\'t live without\\nYou mustn\\'t underestimate that when you are in doubt\\nBut I don\\'t want to carry on like everything is fine\\nThe longer we ignore it all the more that we will fight\\nPlease don\\'t fall apart\\nI can\\'t face your breaking heart\\nI\\'m trying to be brave\\nStop asking me to stay I can\\'t love you in the dark\\nIt feels like we\\'re oceans apart\\nThere is so much space between us\\nMaybe we\\'re already defeated\\nAh-yeah-yeah-yeah-yeah-yeah-yeah everything changed me We\\'re not the only ones\\nI don\\'t regret a thing\\nEvery word I\\'ve said\\nYou know I\\'ll always mean\\nIt is the world to me\\nThat you are in my life\\nBut I want to live\\nAnd not just survive That\\'s why I can\\'t love you in the dark\\nIt feels like we\\'re oceans apart\\nThere is so much space between us\\nMaybe we\\'re already defeated\\n\\'Cause ah-yeah-yeah-yeah-yeah-yeah-yeah everything changed me\\nAnd I-I-I-I-I don\\'t think you can save me I want every single piece of you\\nI want your heaven and your ocean\\'s too\\nTreat me soft but touch me cool\\nI wanna teach you things you never knew, baby\\nBring the floor up to my knees\\nLet me fall into your gravity\\nAnd kiss me back to life to see\\nYour body standing over me Baby don\\'t let the lights go down\\nBaby don\\'t let the lights go down\\nBaby don\\'t let the lights go down\\nLights go down, lights go down\\nLights go down, lights go down\\nDown, down, down, down I miss you when the lights go out\\nIt illuminates all of my doubts\\nPull me in, hold me tight\\nDon\\'t let go, baby give me light\\nI miss you when the lights go out\\nIt illuminates all of my doubts\\nPull me in, hold me tight\\nDon\\'t let go, baby give me light I love the way your body moves\\nTowards me from across the room\\nBrushing past my every groove\\nNo one has me like you do\\nIn your heart I bring my soul\\nBut be delicate with my ego\\nI wanna step into your great unknown\\nWith you and me setting the tone Baby don\\'t let the lights go down\\nBaby don\\'t let the lights go down\\nBaby don\\'t let the lights go down\\nLights go down, lights go down\\nLights go down, lights go down\\nDown, down, down, down I miss you when the lights go out\\nIt illuminates all of my doubts\\nPull me in, hold me tight\\nDon\\'t let go, baby give me light\\nI miss you when the lights go out\\nIt illuminates all of my doubts\\nPull me in, hold me tight\\nDon\\'t let go, baby give me light We play so dirty in the dark\\n\\'Cause we are living worlds apart\\nIt only makes it harder baby\\nIt only makes it harder baby (harder baby)\\nHarder baby (harder baby), harder baby I miss you when the lights go out\\nIt illuminates all of my doubts\\nPull me in, hold me tight\\nDon\\'t let go, baby give me light\\nI miss you when the lights go out\\nIt illuminates all of my doubts\\nPull me in, hold me tight\\nDon\\'t let go, baby give me light I miss you, I miss you\\nI miss you, I miss you\\nI miss you, I miss you\\nI miss you, I miss you I remember all of the things that I thought I wanted to be\\nSo desperate to find a way out of my world and finally breathe\\nRight before my eyes I saw, my heart it came to life\\nThis ain\\'t easy it\\'s not meant to be\\nEvery story has its scars When the pain cuts you deep\\nWhen the night keeps you from sleeping\\nJust look and you will see\\nThat I will be your remedy\\nWhen the world seems so cruel\\nAnd your heart makes you feel like a fool\\nI promise you will see\\nThat I will be, I will be your remedy No river is too wide or too deep for me to swim to you\\nCome whenever I\\'ll be the shelter that won\\'t let the rain come through\\nYour love, it is my truth\\nAnd I will always love you\\nLove you When the pain cuts you deep\\nWhen the night keeps you from sleeping\\nJust look and you will see\\nThat I will be your remedy\\nWhen the world seems so cruel\\nAnd your heart makes you feel like a fool\\nI promise you will see\\nThat I will be, I will be your remedy, oh When the pain cuts you deep\\nWhen the night keeps you from sleeping\\nJust look and you will see\\nI will be, I will be\\nWhen the world seems so cruel\\nAnd your heart makes you feel like a fool\\nI promise you will see\\nThat I will be, I will be, I will be\\nYour remedy, oh Didn\\'t I give it all?\\nTried my best\\nGave you everything I had, everything and no less\\nDidn\\'t I do it right? Did I let you down?\\nMaybe you got too used to having me \\'round\\nStill how can you walk away\\nFrom all my tears\\nIt\\'s gonna be an empty road without me right here\\nBut go on and take it, take it all with you\\nDon\\'t look back at this crumbling fool\\nJust take it all with my love, take it all with my love Maybe I should leave, to help you see\\nNothing is better than this and this is everything we need\\nSo is it over? Is this really it, you\\'re giving up so easily\\nI thought you loved me more than this But go on, go on, take it, take it all with you\\nDon\\'t look back at this crumbling fool\\nJust take it all with my love, take it all with my love I will change if I must\\nSlow it down and bring it home, I will adjust\\nOh if only, if only you knew\\nEverything I do, is for you But go on and take it, take it all with you\\nDon\\'t look back at this crumbling fool\\nJust take it, take it all with you\\nDon\\'t look back at this crumbling fool\\nJust take it all, with my love\\nTake it all with my love\\nTake it all with my love This is how the story went\\nI met someone by accident\\nIt blew me away\\nBlew me away It was in the darkest of my days\\nWhen you took my sorrow and you took my pain\\nAnd buried them away, you buried them away I wish I could lay down beside you\\nWhen the day is done\\nAnd wake up to your face against the morning sun\\nBut like everything I\\'ve ever known\\nYou disappear one day\\nSo I spend my whole life hiding my heart away Dropped you off at the train station\\nPut a kiss on top of your head\\nWatch you wave\\nAnd watched you wave Then I went on home to my skyscrapers\\nAnd neon lights and waiting papers\\nThat I call home\\nI call that home I wish I could lay down beside you\\nWhen the day is done\\nAnd wake up to your face against the morning sun\\nBut like everything I\\'ve ever known\\nYou disappear one day\\nSo I spend my whole life hiding my heart away, away Woke up feeling heavy-hearted\\nI\\'m going back to where I started\\nThe morning rain, the morning rain\\nAnd though I wish that you were here\\nOn that same old road that brought me here\\nIt\\'s calling me home, It\\'s calling me home I wish I could lay down beside you\\nWhen the day is done\\nAnd wake up to your face against the morning sun\\nBut like everything I\\'ve ever known\\nYou disappear one day\\nSo I spend my whole life hiding my heart away\\nI can\\'t spend my whole life hiding my heart away I don\\'t want you to be no slave\\nI don\\'t want you to work all day\\nBut I want you to be true\\nAnd I just want to make love to you\\nLove to you, ooh baby\\nLove to you, yeah All I want to do is wash your clothes\\nI don\\'t want to keep you indoors\\nThere is nothing you can\\'t do\\nBut keep me making love to me\\nLove to me, ooh baby\\nLove to you, yeah And I can tell by the way you walk that walk\\nAnd I can hear by the way you talk that talk\\nAnd I can know by the way you treat your girl\\nThat I can give you all the loving in the whole wide world All I want you to do is make your bread\\nJust to make sure you\\'re well fed\\nI don\\'t want you sad and blue\\nAnd I just want to make love to you\\nLove to you, ooh yeah\\nLove to you, yeah And I can tell by the way you walk that walk\\nAnd I can hear by the way you talk that talk\\nAnd I can know by the way you treat your girl\\nThat I can give you all the loving in the whole wide world All I want you to do baby is make your bread\\nJust to make sure you\\'re well fed\\nI don\\'t want you sad and blue\\nAnd I just want to make love to you\\nLove to you, ooh yeah\\nLove to you, yeah\\nOh I just want to make love to you Happy New Year! Turn down the lights\\nTurn down the bed\\nTurn down these voices\\nInside my head Lay down with me\\nAnd tell me no lies\\nJust hold me closly\\nDon\\'t patronize Don\\'t patronize me \\'Cause I can\\'t make you love me\\nIf you don\\'t\\nYou can\\'t make your heart feel\\nSomething that it won\\'t\\nAnd even in the dark\\nThese final hours\\nI will lay down my heart\\nI will feel the power\\nBut you won\\'t\\nNo, you won\\'t\\n\\'Cause I can\\'t make you love me\\nWhen you don\\'t\\nWhen you don\\'t, yeah I\\'ll close my eyes\\n\\'Cause then I don\\'t see\\nThe love you don\\'t feel\\nWhen you\\'re holding me Morning will come\\nAnd I\\'ll do what\\'s right\\nJust give me till then\\nTo give up this fight And I will give up this fight \\'Cause I can\\'t make you love me\\nIf you don\\'t\\nYou can\\'t make your heart feel\\nSomething that it won\\'t\\nAnd even in the dark\\nThese final hours\\nI will lay down my heart\\nI will feel the power\\nBut you won\\'t\\nNo, you won\\'t\\n\\'Cause I can\\'t make you love me\\nWhen you don\\'t\\nWhen you don\\'t, ooh don\\'t\\nYou, when you don\\'t, yeah, yeah Hold me closer, one more time\\nSay that you love me in your last goodbye\\nPlease forgive me, for my sins\\nYes, I swam dirty waters\\nBut you pushed me in\\nI\\'ve seen your face, under every sky\\nOver every border and on every line\\nYou know my heart, more than I do\\nWe were the greatest, me and you But we had time against us\\nAnd miles between us\\nThe heavens cried\\nI know I left you speechless\\nBut now the sky has cleared and it\\'s blue\\nAnd I see my future in you I\\'ll be waiting for you when you\\'re ready to love me again\\nI\\'ll put my hands up\\nI\\'ll do everything different\\nI\\'ll be better to you,\\nI\\'ll be waiting for you when you\\'re ready to love me again\\nI\\'ll put my hands up\\nI\\'ll be somebody different\\nI\\'ll be better to you Let me stay here for just one more night\\nBuild your world around me\\nAnd pull me to the light\\nSo I can tell you that I was wrong\\nI was a child then, but now I\\'m willing to learn But we had time against us\\nAnd miles between us\\nThe heavens cried\\nI know I left you speechless\\nBut now the sky has cleared and it\\'s blue\\nAnd I see my future in you I\\'ll be waiting for you when you\\'re ready to love me again\\nI\\'ll put my hands up\\nI\\'ll do everything different\\nI\\'ll be better to you\\nI\\'ll be waiting for you when you\\'re ready to love me again\\nI\\'ll put my hands up\\nI\\'ll be somebody different\\nI\\'ll be better to you Time against us\\nMiles between us\\nHeavens cried\\nI know I left you speechless\\nTime against us\\nMiles between us\\nHeavens cried\\nI know I left you speechless\\nI know I left you speechless I\\'ll be waiting\\nI\\'ll be waiting for you when you\\'re ready to love me again\\nI\\'ll put my hands up\\nI\\'ll do everything different\\nI\\'ll be better to you\\nI\\'ll be waiting for you when you\\'re ready to love me again\\nI\\'ll put my hands up\\nI\\'ll be somebody different\\nI\\'ll be better for you This is the end\\nHold your breath and count to ten\\nFeel the Earth move, and then\\nHear my heart burst again For this is the end\\nI\\'ve drowned and dreamt this moment\\nSo overdue, I owe them\\nSwept away, I\\'m stolen Let the sky fall, when it crumbles\\nWe will stand tall\\nAnd face it all together\\nLet the sky fall, when it crumbles\\nWe will stand tall\\nAnd face it all together\\nAt sky fall\\nat sky fall Skyfall is where we start\\nA thousand miles and poles apart\\nWhere worlds collide and days are dark\\nYou may have my number\\nYou can take my name\\nBut you\\'ll never have my heart Let the sky fall, when it crumbles\\nWe will stand tall\\nAnd face it all together\\nLet the sky fall, when it crumbles\\nWe will stand tall\\nAnd face it all together\\nAt sky fall Let the sky fall, when it crumbles\\nWe will stand tall\\nLet the sky fall, when it crumbles\\nWe will stand tall Where you go I go\\nWhat you see I see\\nI know I\\'d never be me with out the security\\nOf your loving arms keeping me from harm\\nPut your hand in my hand\\nAnd we\\'ll stand.... Let the sky fall, when it crumbles\\nWe will stand tall\\nAnd face it all together\\nLet the sky fall, when it crumbles\\nWe will stand tall\\nAnd face it all together\\nAt sky fall Let the sky fall\\nWe will stand tall\\nAt skyfall (Verse 1)\\nThere\\'s a fire starting in my heart\\nReaching a fever pitch and it\\'s bringing me out the dark\\nFinally I can see you crystal clear\\nGo head and sell me out and I\\'ll lay your ship bare\\nSee how I\\'ll leave with every piece of you\\nDon\\'t underestimate the things that I will do\\nThere\\'s a fire starting in my heart\\nReaching a fever pitch and it\\'s bringing me out the dark Chorus 1\\nThe scars of your love remind me of us\\nThey keep me thinkin\\' that we almost had it all\\nThe scars of your love, they leave me breathless\\nI can\\'t help feeling, we could\\'ve had it all... (You\\'re gonna wish you never met me)\\nRolling in the deep... (Tears are gonna fall rollin\\' in the deep)\\nYou had my heart inside of your hand (You\\'re gonna wish you never met me)\\nAnd you played it to the beat (Tears are gonna fall rollin\\' in the deep) Verse 2\\nBaby I have no story to be told\\nBut I\\'ve heard one on you and I\\'m gonna make your head burn\\nThink of me in the depths of your despair\\nMaking a home down there, as mine sure won\\'t be shared (Chorus 2)\\nThe scars of your love remind me of us\\nThey keep me thinkin\\' that we almost had it all\\nThe scars of your love, they leave me breathless\\nI can\\'t help feeling, we could\\'ve had it all\\nRolling in the deep... you had my heart inside of your hand\\nAnd you played it to the beat\\nCould\\'ve had it all... Rollin\\' in the deep\\nYou had my heart inside of your hand\\nBut you played it with a beating (Verse 3)\\nThrow your stone through every open door\\nCount your blessings to find what you look for\\nTurn my sorrow into treasured gold\\nYou pay me back in kind and reap just what you sow (Chorus 3)\\nWe could\\'ve had it all... We could\\'ve had it all...\\nIt all, It all, It all... We could\\'ve had it all...\\nRollin\\' in the deep...\\nYou had my heart inside of your hand\\nAnd you played it to the beat\\nCould\\'ve had it all\\nRollin\\' in the deep\\nYou had my heart inside of your hand\\nBut you played it, you played it, you played it, you played it to the beat Some say, I\\'ll be better without you,\\nThey don\\'t know you like I do,\\nOr at least as far as I thought I knew\\nI can\\'t bear this time,\\nIt drags, as I lose my mind\\nReminded by things I find\\nI know some clothes you left behind.\\nWake me up, wake me up when all is done\\nI won\\'t rise until this battle\\'s won\\nMy dignity is become undone But I won\\'t go\\nI can\\'t do it on my own\\nIf this ain\\'t love, then what is?\\nI\\'m willing to take the risk\\nI won\\'t go, I can\\'t do it on my own,\\nIf this is ain\\'t love, then what is?\\nI\\'m willing to take the risk So petrified, I\\'m so scared to step into this right,\\nWhat if I lose my heart and fail the ?\\nI won\\'t forgive me if I gave up trying\\nI heard his voice today\\nI didn\\'t know a single word he said\\nNow I\\'m resemblance to the man I met\\nJust a vague and broken boy instead But I won\\'t go, I can\\'t do it on my own\\nIf this ain\\'t love, then what is?\\nI\\'m willing to take the risk\\nI won\\'t go, I can\\'t do it on my own\\nIf this ain\\'t love, then what is?\\nI\\'m willing to take the risk There will be times, we\\'ll try and give it up\\nBursting at the seams, no doubt\\nWe almost fall apart and burn up easy\\nSo watch them turn to dust\\nBut nothing will never taint us I won\\'t go, I can\\'t do it on my own\\nIf this ain\\'t love, then what is?\\nI\\'m willing to take the risk\\nI won\\'t go, I can\\'t do it on my own\\nIf this ain\\'t love, then what is?\\nI\\'m willing to take the risk Will he, will he still remember me?\\nWill he still love me even when he\\'s free\\nOr will he go back to the place where\\nHe will choose the poison over me?\\nWhen we spoke yesterday\\nHe said to hold my breath, to sit and wait\\nI\\'ll be home soon, I won\\'t be late He won\\'t go\\nHe can\\'t do it on his own\\nIf this ain\\'t love, then what is?\\nHe\\'s willing to take the risk\\nSo I won\\'t go, I can\\'t do it on his own,\\nIf this ain\\'t love, then what is?\\nI\\'m willing to take the risk \\'Cause he won\\'t go\\nHe can\\'t do it on his own\\nIf this ain\\'t love, then what is?\\nWe\\'re willing to take the risk\\nI won\\'t go! I can\\'t do it on my own\\nIf this ain\\'t love, then what is?\\nI\\'m willing to take the risk I let it fall, my heart,\\nAnd as it fell you rose to claim it\\nIt was dark and I was over\\nUntil you kissed my lips and you saved me My hands, they\\'re strong\\nBut my knees were far too weak\\nTo stand in your arms\\nWithout falling to your feet But there\\'s a side to you\\nThat I never knew, never knew\\nAll the things you\\'d say\\nThey were never true, never true\\nAnd the games you play\\nYou would always win, always win But I set fire to the rain\\nWatched it pour as I touched your face\\nWell, it burned while I cried\\n\\'Cause I heard it screaming Out your name,\\nYour name When I lay with you\\nI could stay there\\nClose my eyes\\nFeel you here forever\\nYou and me together nothing gets better \\'Cause there\\'s a side to you\\nThat I never knew, never knew\\nAll the things you\\'d say\\nThey were never true, never true\\nAnd the games you play\\nYou would always win, always win But I set fire to the rain\\nWatched it pour as I touched your face\\nWell, it burned while I cried\\n\\'Cause I heard it screaming out your name,\\nYour name I set fire to the rain\\nAnd I threw us into the flames\\nWell, it felt something died\\n\\'Cause I knew that that was\\nThe last time, the last time Sometimes I wake up by the door,\\nThat heart you caught must be waiting for you\\nEven now when we\\'re already over\\nI can\\'t help myself from looking for you I set fire to the rain\\nWatched it pour as I touched your face\\nWell, it burned while I cried\\n\\'Cause I heard it screaming Out your name,\\nYour name I set fire to the rain,\\nAnd I threw us into the flames\\nWell, it felt something died\\n\\'Cause I knew that, that was the last time\\nThe last time Let it burn\\nLet it burn\\nLet it burn Daydreamer\\nSitting on the sea\\nSoaking up the sun\\nHe is a real lover\\nAnd making up the past\\nFeeling up his girl\\nLike he\\'s never felt a figure before A jaw dropper\\nLooks good when he walks\\nIs the subject of their talk\\nHe would be hard to chase\\nBut good to catch\\nAnd he could change the world\\nWith his hands behind his back, oh You can find him sittin\\' on your doorstep\\nWaiting for a surprise\\nAnd he will feel like he\\'s been there for hours\\nAnd you can tell that he\\'ll be there for life Daydreamer\\nWith eyes that make you melt\\nHe lends his coat for shelter\\nPlus he\\'s there for you\\nWhen he shouldn\\'t be\\nBut he stays all the same\\nWaits for you\\nThen sees you through There\\'s no way I\\nCould describe him\\nWhat I\\'ll say is\\nJust what I\\'m hoping for But I will find him sittin\\' on my doorstep\\nWaiting for a surprise\\nAnd he will feel like he\\'s been there for hours\\nAnd I can tell that he\\'ll be there for life\\nAnd I can tell that he\\'ll be there for life With your loving, there ain\\'t nothing\\nThat I can\\'t adore\\nThe way I\\'m running, with you, honey\\nIs we can break every low\\nI find it funny that you\\'re the only\\nOne I never looked for\\nThere is something in your loving\\nThat tears down my walls I wasn\\'t ready then, I\\'m ready now\\nI\\'m heading straight for you\\nYou will only be eternally\\nThe one that I belong to The sweetest devotion\\nHitting me like an explosion\\nAll of my life, I\\'ve been frozen\\nThe sweetest devotion I\\'ve known I\\'ll forever be whatever you want me to be\\nI\\'ll go under and all over for your clarity\\nWhen you wonder if I\\'m gonna lose my way home\\nJust remember, that come whatever, I\\'ll be yours all alone I wasn\\'t ready then, I\\'m ready now\\nI\\'m heading straight for you\\nYou will only be eternally\\nThe one that I belong to The sweetest devotion\\nHitting me like an explosion\\nAll of my life, I\\'ve been frozen\\nThe sweetest devotion I\\'ve known I\\'ve been looking for you, baby\\nIn every face that I\\'ve ever known\\nAnd there is something \\'bout the way you love me\\nThat finally feels like home\\nAll my life, you\\'re my darkness\\nYou\\'re the right kind of madness\\nAnd you\\'re my hope, you\\'re my despair\\nYou\\'re my scope, everything, everywhere The sweetest devotion\\nHitting me like an explosion\\nAll of my life, I\\'ve been frozen\\nThe sweetest devotion I\\'ve known Sweetest\\nIt\\'s the sweetest\\nSweetest\\nIt\\'s the sweetest\\nSweetest\\nIt\\'s the sweetest\\nSweetest\\nIt\\'s the sweetest\\nDevotion [Verse 1]\\nWhen did it go wrong, I will never know\\nI have loved you all my life\\nHow did it slow down, I go round and round\\nThinking about it all the time [Pre-Chorus]\\nI gave you heaven on a platter baby\\nI gave you everything you never gave me\\nI never lied and I never faked it\\nOnly wanted for you to save me\\nThis love, it ain\\'t over yet\\nThere\\'s too much that I haven\\'t said [Chorus]\\nDid you find the note that I wrote?\\nI hid it in the seam of your coat\\nIt was hard to write, had a lump in my throat\\nDo you even know that I can\\'t let go [Verse 2]\\nWhy were you so cold, let the truth be told\\nTell me was it all for the thrill?\\nWhat was I thinking, I gave you everything\\nBut you still went for the kill [Pre-Chorus]\\nI gave you heaven on a platter baby\\nI gave you everything you never gave me\\nI never lied and I never faked it\\nOnly wanted for you to save me [Chorus]\\nDid you find the note that I wrote?\\nI hid it in the seam of your coat\\nIt was hard to write, had a lump in my throat\\nDo you even know that I can\\'t let go [Bridge]\\nOooh sometimes I feel like I\\'m in the dark\\nOooh I thought I\\'d die in your arms [Chorus]\\nDid you find the note that I wrote?\\nI hid it in the seam of your coat\\nIt was hard to write, I had a lump in my throat\\nDo you even know that I can\\'t let go [Outro]\\nHope you know, I won\\'t let go I thought I told you, he\\'d be home soon\\nCouldn\\'t help myself, you\\'re too good to be true.\\nI fall short each time,\\nEvery time he ain\\'t here\\nYou and your charm creep closer\\nCloser and near\\nLike a fool for fire, I fall, with my pride and all.\\nLike a bomb before explosion,\\nTicking by your call,\\nYou\\'re the wiser one, disguised from greed,\\nAnd I\\'m just a child who belongs on her knees. But I found a boy who I love more,\\nThan I ever did you before,\\nSo stand beside the river I cried,\\nAnd lay yourself down.\\nLook how you want me now that I don\\'t need you. So, you thought that I\\'d crumble to my knees\\nAt the first sight of you crawling back to me\\nTo whisper \"will you leave your man? \"\\nCause you swear that this time you can stand by me.\\nI won\\'t stand by you. Cause I found a boy who I love more,\\nThan I ever did you before,\\nSo stand beside the river I cried\\nAnd lay yourself down.\\nLook how you want me now that I don\\'t need you! I ain\\'t yours for no taking,\\nYou must be mistaken\\nI could never look into your eyes, and settle for wrong\\nAnd ignore the right When I found a boy who loves me more,\\nThan you ever did me before.\\nSo stand beside the river you cried\\nAnd lay yourself down!\\nLook how you want me now that I don\\'t need you! Found myself today singing out your name,\\nYou said I\\'m crazy,\\nIf I am I\\'m crazy for you. Sometimes sitting in the dark wishing you were here\\nTurns me crazy,\\nBut it\\'s you who makes me lose my head. And every time I\\'m meant to be acting sensible\\nYou drift into my head\\nAnd turn me into a crumbling fool. Tell me to run and I\\'ll race,\\nIf you want me to stop I\\'ll freeze,\\nAnd if you want me gone. I\\'ll leave, just hold me closer baby,\\nAnd make me crazy for you.\\nCrazy for you. Lately with this state I\\'m in I can\\'t help myself but spin.\\nI wish you\\'d come over,\\nSend me spinning closer to you. My oh my, how my blood boils, it\\'s sweet taste for you,\\nStrips me down bare\\nAnd gets me into my favorite mood. I keep on trying, fighting these feelings away,\\nBut the more I do,\\nThe crazier I turn into. Pacing floors and opening doors,\\nHoping you\\'ll walk through\\nAnd save me boy,\\nBecause I\\'m too crazy for you.\\nCrazy for you Everybody tells me it\\'s \\'bout time that I moved on\\nAnd I need to learn to lighten up and learn how to be young\\nBut my heart is a valley, it\\'s so shallow and man made\\nI\\'m scared to death if I let you in that you\\'ll see I\\'m just a fake\\nSometimes I feel lonely in the arms of your touch\\nBut I know that\\'s just me, \\'cause nothing ever is enough\\nWhen I was a child I grew up by the River Lea\\nThere was something in the water, now that something\\'s in me\\nOh I can\\'t go back, but the reeds are growing out of my fingertips\\nI can\\'t go back to the river But it\\'s in my roots, it\\'s in my veins\\nIt\\'s in my blood and I stain every heart that I use to heal the pain But it\\'s in my roots, it\\'s in my veins\\nIt\\'s in my blood and I stain every heart that I use to heal the pain\\nSo I blame it on the River Lea, the River Lea, the River Lea\\nYeah, I blame it on the River Lea, the River Lea, the River Lea I should probably tell you now before it\\'s way too late\\nThat I never meant to hurt you or lie straight to your face\\nConsider this my apology, I know it\\'s years in advance\\nBut I\\'d rather say it now in case I never get the chance\\nNo, I can\\'t go back, but the reeds are growing out of my fingertips\\nI can\\'t go back to the river But it\\'s in my roots, it\\'s in my veins\\nIt\\'s in my blood and I stain every heart that I use to heal the pain It\\'s in my roots, it\\'s in my veins\\nIt\\'s in my blood and I stain every heart that I use to heal the pain So I blame it on the River Lea, the River Lea, the River Lea\\nYeah I blame it on the River Lea, the River Lea, the River Lea So I blame it on the River Lea, the River Lea, the River Lea\\nYeah, I blame it on the River Lea, the River Lea, the River Lea I never woulda hitch-hiked to Birmingham\\nIf it hadn\\'t been for love\\nI never woulda caught the train to Louisiana\\nIf it hadn\\'t been for love\\nI never woulda run through the blindin\\' rain\\nWithout one dollar to my name\\nIf it hadn\\'t been, if it hadn\\'t been for love I never woulda seen the trouble that I\\'m in\\nIf it hadn\\'t been for love\\nWoulda been gone like a wayward wind\\nIf it hadn\\'t been for love\\nNobody knows it better than me\\nI wouldn\\'t be wishing I was free\\nIf it hadn\\'t been, if it hadn\\'t been for love Four cold walls against my will\\nAt least I know he\\'s lying still\\nFour cold walls without parole\\nLord have mercy on my soul Four cold walls against my will\\nAt least I know he\\'s lying still\\nFour cold walls without parole\\nLord have mercy on my soul I never woulda hitch-hiked to Birmingham\\nIf it hadn\\'t been for love\\nI never woulda caught the train to Louisiana\\nIf it hadn\\'t been for love\\nI never woulda loaded up a forty-four\\nPut myself behind a jailhouse door\\nIf it hadn\\'t been, if it hadn\\'t been for love\\nIf it hadn\\'t been, if it hadn\\'t been for love, yes\\nIf it hadn\\'t been, if it hadn\\'t been for love, yes Hold my hand while you cut me down\\nIt had only just begun but now it\\'s over now\\nAnd you\\'re in the heat of moments with your heart playing up cold\\nI\\'m between the middle watching hastiness unfold\\nOn my eyes you were smiling in the spotlight dancing with the night\\nThe night\\nWhen I fell off your mind I\\'m tired of trying\\nYour teasing ain\\'t enough\\nFed up of biding your time\\nWhen I don\\'t get nothing back\\nAnd for what, and for what, and for what\\nWhen I don\\'t get nothing back\\nOy, I\\'m tired Where\\'d you go when you stayed behind\\nI looked up and inside down and outside only to find\\nA double taking punching hard and laughing at my smile\\nI get closer you obviously prefer her I\\'m tired of trying\\nYour teasing ain\\'t enough\\nFed up of biding your time\\nWhen I don\\'t get nothing back\\nAnd for what, and for what, and for what\\nWhen I don\\'t get nothing back\\nBoy I\\'m tired of trying\\nYour teasing ain\\'t enough\\nFed up of biding your time\\nWhen I don\\'t get nothing back\\nAnd for what, and for what, and for what\\nWhen I don\\'t get nothing back\\nOy, I\\'m tired (I should have known) Never mind said your open arms\\nI couldn\\'t help believe they tricked me back into them, even though I\\'m tired of trying\\nYour teasing ain\\'t enough\\nFed up of biding your time\\nWhen I don\\'t get nothing back\\nAnd for what, and for what, and for what\\nWhen I don\\'t get nothing back\\nBoy I\\'m tired of trying\\nYour teasing ain\\'t enough\\nFed up of biding your time\\nWhen I don\\'t get nothing back\\nAnd for what, and for what, and for what\\nWhen I don\\'t get nothing back\\nOy, I\\'m tired Who wants to be right as rain\\nIt\\'s better when something is wrong\\nYou get excitement in your bones\\nAnd everything you do\\'s a game\\nWhen night comes and you\\'re on your own\\nYou can say I chose to be alone\\nWho wants to be right as rain\\nIt\\'s harder when you\\'re on top \\'Cause when hard work don\\'t pay off\\nAnd I\\'m tired there ain\\'t no room in my bed\\nAs far as I\\'m concerned\\nSo wipe that dirty smile off\\nWe won\\'t be making up\\nI\\'ve cried my heart out\\nAnd now I\\'ve had enough of love Who wants to be riding high\\nWhen you\\'ll just crumble back on down\\nYou give up everything you are\\nAnd even then you don\\'t get far\\nThey make believe that everything\\nIs exactly what it seems\\nBut at least when you\\'re at your worst\\nYou know how to feel things \\'Cause when hard work don\\'t pay off\\nAnd I\\'m tired there ain\\'t no room in my bed\\nAs far as I\\'m concerned\\nSo wipe that dirty smile off\\nWe won\\'t be making up\\nI\\'ve cried my heart out\\nAnd now I\\'ve had enough of love Go ahead and still my heart\\nTo make me cry again\\n\\'Cause it will never hurt\\nAs much as it did then\\nWe were both right\\nAnd no one had blame\\nBut now I give up\\nOn this endless game \\'Cause who wants to be right as rain\\nIt\\'s better when something is wrong\\nI get excitement in my bones\\nEven though everything\\'s a strain\\nWhen night comes and I\\'m on my own\\nYou should know I chose to be alone\\nWho wants to be right as rain\\nIt\\'s harder when you\\'re on top \\'Cause when hard work don\\'t pay off\\nAnd I\\'m tired there ain\\'t no room in my bed\\nAs far as I\\'m concerned\\nSo wipe that dirty smile off\\nWe won\\'t be making up\\nI\\'ve cried my heart out\\nAnd now I\\'ve had enough of love No room in my bed\\nAs far as I\\'m concerned\\nSo wipe that dirty smile off\\nWe won\\'t be making up\\nI\\'ve cried my heart out\\nAnd now I\\'ve had enough of love So little to say but so much time\\nDespite my empty mouth the words are in my mind\\nPlease wear the face, the one where you smile\\nBecause you lighten up my heart when I start to cry Forgive me first love, but I\\'m tired\\nI need to get away to feel again\\nTry to understand why, don\\'t get so close to change my mind\\nPlease wipe that look out of your eyes, it\\'s bribing me to doubt myself\\nSimply, it\\'s tiring This love has dried up and stayed behind\\nAnd if I stay I\\'ll be alive\\nThen choke on words I\\'d always hide\\nExcuse me first love, but we\\'re through\\nI need to taste the kiss from someone new Forgive me first love, but I\\'m too tired\\nI\\'m bored to say the least and I, I lack desire\\nForgive me first love, forgive me first love, forgive me first love\\nForgive me first love forgive me, forgive me first love, forgive me first love This is the end\\nHold your breath and count to ten\\nFeel the earth move and then\\nHear my heart burst again For this is the end\\nI\\'ve drowned and dreamt this moment\\nSo overdue I owe them\\nSwept away, I\\'m stolen Let the skyfall\\nWhen it crumbles\\nWe will stand tall\\nFace it all together Let the skyfall\\nWhen it crumbles\\nWe will stand tall\\nFace it all together\\nAt skyfall\\nAt skyfall Skyfall is where we start\\nA thousand miles and poles apart\\nWhere worlds collide and days are dark\\nYou may have my number, you can take my name\\nBut you\\'ll never have my heart Let the skyfall (let the sky fall)\\nWhen it crumbles (when it crumbles)\\nWe will stand tall (we will stand tall)\\nFace it all together Let the skyfall (let the sky fall)\\nWhen it crumbles (when it crumbles)\\nWe will stand tall (we will stand tall)\\nFace it all together\\nAt skyfall [x2:]\\n(Let the sky fall\\nWhen it crumbles\\nWe will stand tall) Where you go I go\\nWhat you see I see\\nI know I\\'d never be me\\nWithout the security\\nOf your loving arms\\nKeeping me from harm\\nPut your hand in my hand\\nAnd we\\'ll stand Let the skyfall (let the sky fall)\\nWhen it crumbles (when it crumbles)\\nWe will stand tall (we will stand tall)\\nFace it all together Let the skyfall (let the sky fall)\\nWhen it crumbles (when it crumbles)\\nWe will stand tall (we will stand tall)\\nFace it all together\\nAt skyfall Let the sky fall\\nWe will stand tall\\nAt skyfall This is how the story went\\nI met someone by accident\\nIt blew me away\\nBlew me away It was in the darkest of my days\\nWhen you took my sorrow and you took my pain\\nAnd buried them away, you buried them away I wish I could lay down beside you\\nWhen the day is done\\nAnd wake up to your face against the morning sun\\nBut like everything I\\'ve ever known\\nYou disappear one day\\nSo I spend my whole life hiding my heart away Dropped you off at the train station\\nPut a kiss on top of your head\\nWatch you wave\\nAnd watched you wave Then I went on home to my skyscrapers\\nAnd neon lights and waiting papers\\nThat I call home\\nI call that home I wish I could lay down beside you\\nWhen the day is done\\nAnd wake up to your face against the morning sun\\nBut like everything I\\'ve ever known\\nYou disappear one day\\nSo I spend my whole life hiding my heart away, away Woke up feeling heavy-hearted\\nI\\'m going back to where I started\\nThe morning rain, the morning rain\\nAnd though I wish that you were here\\nOn that same old road that brought me here\\nIt\\'s calling me home, It\\'s calling me home I wish I could lay down beside you\\nWhen the day is done\\nAnd wake up to your face against the morning sun\\nBut like everything I\\'ve ever known\\nYou disappear one day\\nSo I spend my whole life hiding my heart away\\nI can\\'t spend my whole life hiding my heart away Right under my feet there\\'s air made of bricks\\nPulls me down turns me weak for you\\nI find myself repeating like a broken tune\\nAnd I\\'m forever excusing your intentions\\nThat I give in to my pretendings\\nWhich forgive you each time\\nWithout me knowing\\nThey melt my heart to stone And I hear your words that I made up\\nYou say my name like there could be an us\\nI best tidy up my head I\\'m the only one in love\\nI\\'m the only one in love Each and every time I turn around to leave\\nI feel my heart begin to burst and bleed\\nSo desperately I try to link it with my head\\nBut instead I fall back to my knees\\nAs you tear your way right through me\\nI forgive you once again\\nWithout me knowing\\nYou\\'ve burnt my heart to stone And I hear your words that I made up\\nYou say my name like there could be an us\\nI best tidy up my head I\\'m the only one in love\\nI\\'m the only one in love Why do you steal my hand\\nWhenever I\\'m standing my own ground\\nYou build me up, then leave me dead I hear your words you made up\\nI say your name like there should be an us\\nI best tidy up my head I\\'m the only one, in love\\nI\\'m the only one in love Fool that I am for falling in love with you\\nAnd fool that I am for thinking you loved me too You took my heart then played the part of little coquette\\nAnd my dreams just disappeared like the smoke from a cigarette Fool that I am for hoping you\\'d understand\\nAnd thinking you would listen to all of the things\\nThe things I had planned But we couldn\\'t see eye to eye\\nSo darling\\nDarling\\nDarling this is goodbye Oh\\nI still care\\nFool that I am\\nOoh\\nI still care\\nFool that I am You say it\\'s all in my head\\nAnd the things I think just don\\'t make sense\\nSo where you been then? Don\\'t go all coy\\nDon\\'t turn it round on me like it\\'s my fault\\nSee I can see that look in your eyes\\nThe one that shoots me each and every time You grace me with your cold shoulder\\nWhenever you look at me I wish I was her\\nYou shower me with words made of knives\\nWhenever you look at me I wish I was her These days when I see you\\nYou make it look like I\\'m see-through\\nDo tell me why you waste our time\\nWhen your heart ain\\'t in it, and you\\'re not satisfied\\nYou know I know just how you feel\\nI\\'m starting to find myself feeling that way too When you grace me with your cold shoulder\\nWhenever you look at me I wish I was her\\nYou shower me with words made of knives\\nWhenever you look at me I wish I was her Time and time again, I play the role of fool\\n(Just for you)\\nEven in the daylight when you think that\\n(I don\\'t see you)\\nTry to look for things I hear but our eyes never find\\nThough I do know how you play You grace me with your cold shoulder\\nWhenever you look at me I wish I was her\\nYou shower me with words made of knives\\nWhenever you look at me I wish I was her You grace me with your cold shoulder\\nWhenever you look at me I wish I was her\\nYou shower me with words made of knives\\nWhenever you look at me I wish I was her [Adele]\\nWhy do you love me\\nDo you love me...?\\nWhy do you love me\\nDo you love me?\\nWhy do you love me\\nDo you love me? Why do you love me...? Why do you love me, do you love me?\\nWhy do you love me, do you love me?\\nWhy do you love me, do you love me?\\nWhy do you love me? Why do you love me?\\nThere must be something in the water\\nCause baby I\\'m in deeper than I knew\\nHow do you keep me coming back for more\\nAfter all we\\'ve been through\\nI can\\'t decide if I should run and hide It\\'s above and beyond me\\nIt\\'s out of my hands\\nYour love drives me crazy\\nIt\\'s hard to understand just why\\nI want you to love me\\nI want you to love me\\nI want you to love me\\nI want you to love me... Who knows why I love you\\nIt could be something in the air I breath\\nWhatever it is, I depend on it\\nWhere does the time go?\\nI spend every single moment daydreaming of you\\nI can\\'t describe how I feel, it feels right It\\'s above and beyond me\\nIt\\'s out of my hands\\nYour love drives me crazy\\nIt\\'s hard to understand just why\\nI want you to love me\\nI want you to love me\\nI want you to love me\\nI want you to love me You were a shock in the dark that blew me away\\nAnd you left your mark and it never will fade\\nYou ignited a spark, let the fires away\\nAre you ready, ready?\\nYou have a place in my heart that will always be yours\\nYou are the peak and art of my universe\\nEvery piece and part, you were the first\\nI am ready, ready It\\'s above and beyond me,\\nIt\\'s out of my hands\\nYour love drives me crazy, it\\'s hard to understand just why\\nI want you to love me\\nI want you to love me\\nI want you to love me\\nI want you It\\'s above and beyond me,\\nIt\\'s out of my hands\\nYour love drives me crazy, it\\'s hard to understand just why\\nI want you to love me\\nI want you to love me\\nI want you to love me\\nI want you to love me... Why do you love me, do you love me?\\nWhy do you love me, do you love me?\\nWhy do you love me, do you love me?\\nWhy do you love me, do you love me? You said I\\'m stubborn and I never give in\\nI think you\\'re stubborn \\'cept you\\'re always softening\\nYou say I\\'m selfish, I agree with you on that\\nI think you\\'re giving out in way too much in fact\\nI say we\\'ve only known each other a year\\nYou say I\\'ve known you longer my dear\\nYou like to be so close, I like to be alone\\nI like to sit on chairs and you prefer the floor\\nWalking with each other,\\nThink we\\'ll never match at all, but we do\\nBut we do, but we do, but we do I thought I knew myself, somehow you know me more\\nI\\'ve never known this, never before\\nYou\\'re the first to make up whenever we argue\\nI don\\'t know who I\\'d be if I didn\\'t know you\\nYou\\'re so provocative, I\\'m so conservative\\nYou\\'re so adventurous, I\\'m so very cautious, combining\\nYou think we would and we do,\\nBut we do, but we do, but we do Favoritism ain\\'t my thing but,\\nIn this situation I\\'ll be glad Favoritism ain\\'t my thing but,\\nIn this situation I\\'ll be glad to make an exception You said I\\'m stubborn and I never give in\\nI think you\\'re stubborn \\'cept you\\'re always softening\\nYou say I\\'m selfish, I agree with you on that\\nI think you\\'re giving out in way too much in fact\\nI say we\\'ve only known each other one year\\nYou say I\\'ve known you longer my dear\\nYou like to be so close, I like to be alone\\nI like to sit on chairs and you prefer the floor\\nWalking with each other,\\nThink we\\'ll never match at all, but we do In the darkness of my heart is a shadow of your face\\nFrom the deepest part of my regret\\nI hear the words I wish I\\'d said\\nAt the dawning of the day\\nI can\\'t wait to see the light\\nMake up memories in my head\\nThey help to fill the emptiness you\\'ve left\\nI can\\'t drown in your tears\\nI won\\'t face your fears\\nI need to fight my own\\nYou\\'ll never see me again oh baby in time\\nLet the weight take me under\\nI know I\\'ll survive\\nYou\\'ll never see me again At the dawning of the day\\nI can\\'t bare to see the light\\nMake up memories in my head\\nThey help to fill the emptiness you\\'ve left\\nI can\\'t drown in your tears\\nI won\\'t face your fears\\nI need to fight my own\\nYou\\'ll never see me again oh baby in time\\nLet the weight take me under\\nI know I\\'ll survive Let the floor beneath of me fall\\nLet the sky come crashing down\\nTurn all my right to wrong\\nBut after you that goes on\\nYou\\'ll never see me again\\nI\\'ve been learning to live without you\\nIt\\'s taken all of my stake\\nBut I\\'m stronger now You\\'ll never see me again oh baby in time\\nLet the weight take me under\\nI know I\\'ll survive Let the floor beneath of me fall\\nLet the sky come crashing down\\nTurn all my right to wrong\\nBut after you that goes on\\nYou\\'ll never see me again\\nYou\\'ll never see me again\\nYou\\'ll never see me again I want to see your face in every kind of light\\nIn fields of dawn and forests of the night\\nAnd when you stand before the candles on a cake\\nOh, let me be the one to hear the silent wish you make What are you doing the rest of your life?\\nNorth and South and East and West of your life\\nI have only one request of your life\\nThat you spend it all with me All the seasons and the times of your days\\nAll the nickels and the dimes of your days\\nLet the reasons and the rhymes of your days\\nAll begin and end with me I want to see your face in every kind of light\\nIn the fields of dawn and the forests of the night\\nAnd when you stand before the candles on a cake\\nOh, let me be the one to hear the silent wish you make Those tomorrows waiting deep in your eyes\\nIn the world of love that you keep in your eyes\\nI\\'ll awaken what\\'s asleep in your eyes\\nIt may take a kiss or two Through all of my life\\nSummer, Winter, Spring, and Fall of my life\\nAll I ever will recall of my life\\nIs all of my life with you Wait, do you see my heart on my sleeve?\\nIt\\'s been there for days on end and\\nIt\\'s been waiting for you to open up\\nYours too baby, come on now\\nI\\'m trying to tell you just how\\nI\\'d like to hear the words roll out of your mouth finally\\nSay that it\\'s always been me That\\'s made you feel the way you\\'ve never felt before\\nAnd I\\'m all you need and that you never want more\\nThen you\\'d say all of the right things without a clue\\nBut you\\'d save the best for last\\nLike I\\'m the one for you You should know that you\\'re just a temporary fix\\nThis is not rooted with you it don\\'t mean that much to me\\nOh just a filler in the space that happened to be free\\nHow dare you think you\\'d get away with trying to play me Why is it every time I think I\\'ve tried my hardest\\nIt turns out it ain\\'t enough\\nYou\\'re still not mentioning love\\nWhat am I supposed to do to make you want me properly?\\nI\\'m taking these chances and getting nowhere\\nAnd though I\\'m trying my hardest you go back to her\\nAnd I think that I know things may never change\\nI\\'m still hoping one day I might hear you say I make you feel the way you\\'ve never felt before\\nAnd I\\'m all you need and that you never want more\\nThen you\\'d say all of the right things without a clue\\nBut you\\'d save the best for last\\nLike I\\'m the one for you You should know that you\\'re just a temporary fix\\nThis is not rooted with you it don\\'t mean that much to me\\nOh just a filler in the space that happened to be free\\nHow dare you think you\\'d get away with trying to play me But, despite the truth that I know\\nI find it hard to let go and give up on you\\nSeems I love the things you do\\nLike the meaner you treat me the more eager I am\\nTo persist with this heartbreak and running around\\nAnd I will do until I\\'m finding myself you And make you feel a way you\\'ve never felt before\\nAnd be all you need so that you never want more\\nAnd you\\'ll say all of the right things without a clue\\nAnd you\\'ll be the one for me and me the one for you I let it fall, my heart,\\nAnd as it fell you rose to claim it\\nIt was dark and I was over\\nUntil you kissed my lips and you saved me My hands, they\\'re strong\\nBut my knees were far too weak\\nTo stand in your arms\\nWithout falling to your feet But there\\'s a side to you\\nThat I never knew, never knew\\nAll the things you\\'d say\\nThey were never true, never true\\nAnd the games you play\\nYou would always win, always win But I set fire to the rain\\nWatched it pour as I touched your face\\nWell, it burned while I cried\\n\\'Cause I heard it screaming Out your name,\\nYour name When I lay with you\\nI could stay there\\nClose my eyes\\nFeel you here forever\\nYou and me together nothing gets better \\'Cause there\\'s a side to you\\nThat I never knew, never knew\\nAll the things you\\'d say\\nThey were never true, never true\\nAnd the games you play\\nYou would always win, always win But I set fire to the rain\\nWatched it pour as I touched your face\\nWell, it burned while I cried\\n\\'Cause I heard it screaming out your name,\\nYour name I set fire to the rain\\nAnd I threw us into the flames\\nWell, it felt something died\\n\\'Cause I knew that that was\\nThe last time, the last time Sometimes I wake up by the door,\\nThat heart you caught must be waiting for you\\nEven now when we\\'re already over\\nI can\\'t help myself from looking for you I set fire to the rain\\nWatched it pour as I touched your face\\nWell, it burned while I cried\\n\\'Cause I heard it screaming Out your name,\\nYour name I set fire to the rain,\\nAnd I threw us into the flames\\nWell, it felt something died\\n\\'Cause I knew that, that was the last time\\nThe last time Let it burn\\nLet it burn\\nLet it burn [Adele]\\nI would never lie to you unless you tell me to...\\nEvery part of me\\nAll my words to hold\\nAnd hold against me\\nWhy won\\'t you let it be? Don\\'t you ever say my love opened up your heart\\nNo I\\'m not gonna do it standing up\\nThe words don\\'t come out right when you\\'re right in front of me\\nHelp me baby\\nWon\\'t you turn off the lights Lay me down\\n\\'til the morning!\\nLay me down (through the night)\\nLay me down (I can fall in)\\nLay me down (Won\\'t you)\\nLay me down (I can baby)\\nLay me down (Someone believe me) I would never break the rules unless you tell me to\\nYou can read my mind, be it truth or lies\\nLie down beside me, why won\\'t you let it be? Don\\'t you ever say my love opened up your heart\\nNo I\\'m not gonna do it standing up\\nThe words don\\'t come out right when you\\'re right in front of me\\nHelp me baby, won\\'t you turn off the lights Lay me down (\\'til the morning)\\nLay me down (through the night)\\nLay me down (I can fall in)\\nLay me down (Won\\'t you)\\nLay me down (I can baby)\\nLay me down (Someone believe me) Lay down with me\\nLay down with me\\nLay down with me\\nLay down with me Words don\\'t come out right when you\\'re right in front of me\\nHelp me baby, won\\'t you turn off the lights Lay me down (\\'til the morning)\\nLay me down (through the night)\\nLay me down (I can fall in)\\nLay me down (Won\\'t you)\\nLay me down (I can baby)\\nLay me down\\nSomeone believe me Never been a girl who used to cry\\nDidn`t show emotions, don`t know why\\nDidn`t wanna feel the pain inside, I guess But as the years keep going by,\\nyou came along and changed my mind\\nI should leave the past behind me,\\nI should let you find me,\\nsupposed to stay beside me\\nYou were supposed to guide me,\\nthrough the ups and downs,\\nyou were always gonna be around until the end I still think we could\\n`cause you and me, we`re good\\nAnd I`ll tell you why this hurts, \\'cause I`m sober But I just wanna be drunk\\nso I can forget about you\\nand all the stupid things that love has put me through\\nEven when I\\'ve had too much,\\nI still feel your touch\\nMaybe this just means that I`m not drunk enough So I pour myself another drink\\nwhenever I start to think about you\\n`cause I do but I really don`t want to\\nbut sometimes my dreams just come through And when I get there,\\nto a place where I see you in a kitchen\\nI start wishing for that thing and I don`t need you,\\nI don`t really wanna see you\\nand I don`t want you to see me,\\nyou would think that I was crazy,\\nyou might think that I wanna be close to you\\nbut I`d rather wanna drink some Whisky\\nand maybe have a little sip `o wine\\n`cause right now it`s the only thing that makes me forget you were mine\\nbut right now I am sober But I just wanna be drunk\\nso I can forget about you\\nand all the stupid things that love has put me through\\nEven when I\\'ve had too much,\\nI still feel your touch\\nMaybe this just means that I`m not drunk enough I still think we could\\n(I`m not drunk enough)\\n`cause you and me, we`re good\\n`cause I`m sober But I just wanna be drunk\\nso I can forget about you\\nand all the stupid things that love has put me through\\nEven when I\\'ve had too much,\\nI still feel your touch\\nMaybe this just means that I`m not drunk enough (I still think we could)\\nBut I just wanna be drunk\\nso I can forget about you\\nand all the stupid things that love has put me through\\n(`cause you and me we`re good)\\nEven when I\\'ve had too much,\\nI still feel your touch\\nMaybe this just means that I`m not drunk enough Think I\\'ve had enough\\nI must my way\\nI\\'ve fallen off the edge to find that I\\'ve gone blind\\nYou\\'re leading me astray\\nYou haunt me like a ghost\\nAnd that scares me the most\\nThere you are the devil on my shoulder\\nSmiling as the flames are growing colder\\nHow can I believer what I have?\\nFor a little confidence I\\'ll grab But when my hand goes out don\\'t take it for I\\'m trying to make it on my own\\nI fell it in my bones any minute now!\\nThis train of thought will leave the statio\\nMy impatience will come out to play\\nYou\\'ve turned out to be the only face I see!\\nRunning through the empty hallways I can tell that I am not alone You spin a web in every room\\nYou spin a web in every room\\nAnd try to break the backbone that I\\'ve grown\\nWill I make my own path or wander where I\\'m thrown\\nWill I make my own path or wander where I\\'m thrown\\nOr wander where I\\'m thrown? When we used\\nTo say goodnight\\nI\\'d always kiss\\nAnd hold you tight\\nBut lately\\nYou don\\'t seem\\nTo care\\nYou close the door\\nAnd leave me\\nStanding there\\nOh, honey\\nThat\\'s not fair\\nThat\\'s it\\nI quit\\nI\\'m movin\\' on The other night\\nWe had a date\\nAn you showed up\\nTwo hours late\\nAnd though your hair\\nWas all in place\\nSomebody smeared\\nTheir lipstick\\nOn your face\\nOh, they smeared it\\nEvery place\\nYe that\\'s it honey\\nI quit I\\'m movin\\' on [Chorus]\\nYou made me want you\\nYou made me leave you\\nYou made me tumble\\nAnd fall\\nBut if I\\nCan\\'t have you the way\\nI want you\\nI don\\'t want you at all Baby, I can take a lot\\n\\'Cause I love\\nEverything you got\\nThough your kisses\\nFill me\\nSo if you got\\nSomeone else\\nI gotta go\\nOh, that you know\\nYe that\\'s it honey\\nI quit I\\'m movin\\' on [Chorus] Baby\\nI can take a lot\\n\\'Cause I love\\nEverything you got\\nThough your kisses\\nFill me\\nSo if you got\\nSomeone else\\nI gotta go\\nOh, that you know\\nSo that\\'s it baby\\nI quit I\\'m movin\\' on\\nYe that\\'s it baby\\nI quit now\\nI\\'m movin\\' on Don\\'t ask me\\nWhat you know is true\\nDon\\'t have to tell you\\nI love your precious heart I was standing\\nYou were there\\nTwo worlds collided\\nAnd they could never tear us apart We could live\\nFor a thousand years\\nBut if I hurt you\\nI\\'d make wine from your tears I told you\\nThat we could fly\\n\\'Cause we all have wings\\nBut some of us don\\'t know why I\\nI was standing\\nYou were there\\nTwo worlds collided\\nAnd they could never ever tear us apart I know sometimes you\\'re scared of the light\\nBut how will you ever know if you never try\\nThere\\'s something new inside my heart\\nAnd it grabs like a child whenever we\\'re apart\\nI see your face under every sky\\nI find the less I look, more I find\\nSo let\\'s go back there, back to the star\\nYou know I\\'m never gonna leave you\\nYou\\'re the only one I want\\nLet\\'s go back there, back to the star\\nYou know I\\'m never gonna leave you\\nYou\\'re the only one I want You know sometimes that I\\'m scared of the dark\\nBut I\\'m feeling sun babe when I\\'m in your arms\\nYou said my name in the dead of glory\\nYou hold me alright\\nWhen I\\'m short of falling So let\\'s go back there, back to the star\\nYou know I\\'m never gonna leave you\\nYou\\'re the only one I want\\nLet\\'s go back there, back to the star\\nYou know I\\'m never gonna leave you\\nYou\\'re the only one I want There will be times\\nWhen we\\'ll try to give it up\\nBursting out, it seems no doubt that will almost fall apart than burn to pieces\\nAnd we\\'ll watch them turn to dust\\nBut without each other, nothing is easy enough So let\\'s go back there, back to the star\\nYou know I\\'m never gonna leave you\\nYou\\'re the only one I want\\nLet\\'s go back there, back to the star\\nYou know I\\'m never gonna leave you\\n\\'cause you\\'re the only one I want, yeah\\nYou\\'re the only one\\nNever gonna leave you\\nNo, I\\'m never gonna leave you, no Go ahead, go ahead and smash it on the floor\\nTake whatever is left, and take it with you out the door\\nSee if I cry\\nSee if I shed a single sorry tear\\nCan\\'t say that it\\'s been that great\\nNo in fact it\\'s been a wasted worried year [Chorus]\\nEverybody sees\\nAnd everyone agrees\\nThat you and I are wrong\\nAnd it\\'s been that way to long\\nTake it as it comes\\nAnd be thankful when it\\'s done\\nThere\\'s so many ways to act\\nAnd there\\'s many shades of black\\nThere\\'s so many shades of black Let it out, let it all out\\nSay what\\'s on your mind\\nYou can kick and scream and shout and say things that are so unkind\\nYeah-see if I care, see if I stand firm or if I fall\\nCause in the back of my mind, and on the tip of my tongue\\nIs the answer to it all [Chorus] Yeah there\\'s many shades of black [Chorus] Cause there\\'s many shades of black\\nThere\\'s so many shades of black\\nYeah there\\'s any shades of black\\nThere\\'s so many shades of black\\nYeah there\\'s many shades of black\\nThere\\'s so many shades of black\\nAnd there\\'s many shades of black\\nThere\\'s so many shades of black Go ahead... Last night she said\\nOh, baby\\nI feel so down\\nOh, and turned me off\\nWhen I feel left out\\nSo I\\nI turned around\\nOh, baby\\nI don\\'t care no more\\nI know this for sure\\nI\\'m walking\\nOut that door Well, I\\'ve been in town\\nFor just about fifteen\\nWhole minutes now\\nOh, baby, I feel so down\\nAnd I don\\'t know why\\nI keep walking for miles But the people\\nThey don\\'t understand\\nNo, girlfriends\\nThey can\\'t understand\\nYour grandsons\\nThey won\\'t understand\\nOn top of this\\nI ain\\'t ever\\nGonna understand Last night she said\\nOh, baby\\nDon\\'t feel so down\\nOh, and turned me off\\nWhen I feel left out\\nSo I, I turned around\\nOh, baby\\nI\\'m gonna be alright\\nIt was a great big lie\\nCuz I left that night\\nYeah Oh, people\\nThey don\\'t understand\\nNo, girlfriends\\nThey don\\'t understand\\nIn spaceships\\nThey won\\'t understand\\nAnd me\\nI ain\\'t ever\\nGonna understand Last night she said\\nOh, baby\\nI feel so down\\nShe had turned me off\\nWhen I feel left out\\nSo I\\nI turned around\\nOh, little girl\\nI don\\'t care no more\\nI know this for sure\\nI\\'m walking\\nOut that door, yeah Painting pictures with my mind\\nMaking memories using my eyes\\nFilling up my heart with golden stories\\nWho adds some spice to the rhythm of life, oh Welcome sunrise with the morning glory\\nI\\'ve changed my mind\\nThere is no simple\\nI thought of me, I want to see\\nI want to feel my heartbeat so\\nWith the world that you feel, leave I can feel the pressure pushing onto my heart\\nAnd it\\'s teasing me\\nTo scratch my itch and beat my drum\\nSo I can start to begin what\\'s begun Painting pictures\\nFilling up my heart with golden stories Painting pictures\\nFilling up my heart with golden stories Running riots inside my soul\\nFire burning and it\\'s lighting me up\\nTo scratch my itch and beat my drum\\nSo I can finish what has begun Painting pictures\\nFilling up my heart with golden stories Painting pictures\\nFilling up my heart with golden stories Sometimes the hole you left hurts\\nMy heart so bad, it cuts through\\nThe deepest parts of me and fills up my mouth with the words that cry\\nOut, I\\'m still trying to stay inside Hearts break and hearts wait\\nTo make us grow from dust\\nThen our eyes cry and souls sigh\\nSo that we know that it hurts Our hearts break and hearts wait\\nTo make us grow from dust\\nThen our eyes cry and souls sigh\\nSo that we know that it hurts Every now and then my memories ache\\nWith empty ideas of the ones we\\'d have made it\\nBut as time goes on and my age gets older\\nI love the ones I know, they\\'re enough to picture the rest \\'Cause heart break and hearts wait\\nTo make us grow from dust\\nThen our eyes cry and souls sigh\\nSo that we know that it hurts Our hearts break and hearts wait\\nTo make us grow from dust\\nThen our eyes cry and souls sigh\\nSo that we know that it hurts You know when to make me, imagine you\\'re here\\nYou know when to make me, imagine you\\'re here\\nYou know when to make me, imagine you\\'re here\\nYou know when to make me, imagine you\\'re here Find yourself a girl\\nAnd settle down\\nLive a simple life\\nIn a quiet town Steady as she goes\\n(Steady as she goes)\\nSteady as she goes\\n(Steady as she goes) So steady as she goes Your friends have shown\\nA kink\\nIn the single life\\nYou\\'ve had\\nToo much to think\\nNow you need a wife Steady as she goes\\n(Steady as she goes)\\nSo steady as she goes\\n(Steady as she goes) Well here we go again\\nYou\\'ve found yourself\\nA friend\\nThat knows you well\\nBut no matter\\nWhat you do\\nYou\\'ll always feel\\nAs though you\\nTripped and fell So steady as she goes When you have completed\\nWhat you thought\\nYou had to do\\nAnd your blood\\'s\\nDepleted\\nTo the point\\nOf stable glue Then you\\'ll get along\\nThen you\\'ll get along Steady as she goes\\n(Steady as she goes)\\nSo steady as she goes\\n(Steady as she goes) Well here we go again\\nYou\\'ve found yourself\\nA friend\\nThat knows you well\\nBut no matter\\nWhat you do\\nYou\\'ll always feel\\nAs though you\\nTripped and fell So steady as she goes\\nSteady as she goes Settle for a girl\\n(Settle for a girl)\\nNeither up or down\\n(Neither up or down)\\nSell it to the crowd\\n(Sell it to the crowd)\\nThat is gathered round\\n(That is gathered round) Settle for a girl\\n(Settle for a girl)\\nNeither up or down\\n(Neither up or down)\\nSell it to the crowd\\n(Sell it to the crowd)\\nThat is gathered round\\n(That is gathered round) So steady as she goes\\n(Steady as she goes)\\nSteady as she goes\\n(Steady as she goes) Steady as she goes\\n(Steady as she goes)\\nSo steady as she goes\\n(Steady as she goes) Steady as she go\\nAre you steady now?\\nSteady as she goes\\nAre you steady now? Steady as she goes\\nAre you steady now?\\nSteady as she goes\\nAre you steady now? Steady as she goes I\\'m insane in the brain\\nYou\\'re not already...\\nFeel the pain running through my veins\\nDon\\'t you piss me off, pretentious, ostentatious\\nOther words are spring to me\\n... emolicious, for the shoot posses no... And you want me to respect you\\nAnd have... for yourself\\nYou\\'re out of control with nobody around to help\\nHelp, help oh oh. Chorus:\\nThis time you\\'re on your own\\nRunning back to mommy hoping that she\\'s home\\nBut if she\\'s not there and you\\'re on your alone\\nSo... you then go calling\\nCall it a fiasco, call it a fiasco, fiasco\\n... fiasco, fiasco,... fiasco\\n1 2 3 4.\\nHustle...\\nWanna try to testify in a... of happiness\\nBe the best, have success,\\nDoesn\\'t mean you\\'re Hollywood Feel blessed not impressed\\nBy the glamour if you think you could. And you want me to respect you\\nAnd have... for yourself\\nYou\\'re out of control with nobody around to help\\nHelp, help oh oh. Chorus:\\nThis time you\\'re on your own\\nRunning about the mammy hoping that she\\'s home\\nBut if she\\'s not there and you\\'re on your alone\\nSo... you then go calling\\nFiasco, call it fiasco, fiasco\\n... fiasco, fiasco,... fiasco\\n1 2 3 4. Fiasco, fiasco [Chorus:]\\n1 2 3 4\\nI\\'m calling, I\\'m calling, I\\'m calling it fiasco,\\nI\\'m calling, I\\'m calling, I\\'m calling it fiasco,\\nI\\'m calling, I\\'m calling, I\\'m calling it fiasco. '"
            ]
          },
          "metadata": {
            "tags": []
          },
          "execution_count": 3
        }
      ]
    },
    {
      "cell_type": "code",
      "metadata": {
        "id": "zxXJftNaHgTS"
      },
      "source": [
        "data=response.text.split('\\n')"
      ],
      "execution_count": 4,
      "outputs": []
    },
    {
      "cell_type": "code",
      "metadata": {
        "id": "Gs0-Rjenhk9c",
        "outputId": "d2e75d5b-57b8-4fe0-d792-26a40cec2a0f",
        "colab": {
          "base_uri": "https://localhost:8080/",
          "height": 35
        }
      },
      "source": [
        "data[0]"
      ],
      "execution_count": 5,
      "outputs": [
        {
          "output_type": "execute_result",
          "data": {
            "application/vnd.google.colaboratory.intrinsic+json": {
              "type": "string"
            },
            "text/plain": [
              "'Looking for some education'"
            ]
          },
          "metadata": {
            "tags": []
          },
          "execution_count": 5
        }
      ]
    },
    {
      "cell_type": "code",
      "metadata": {
        "id": "gb2-4KMxhnN9",
        "outputId": "f9452fc0-3fb2-4b30-f3e3-71e6de585b60",
        "colab": {
          "base_uri": "https://localhost:8080/",
          "height": 35
        }
      },
      "source": [
        "data[8]"
      ],
      "execution_count": 6,
      "outputs": [
        {
          "output_type": "execute_result",
          "data": {
            "application/vnd.google.colaboratory.intrinsic+json": {
              "type": "string"
            },
            "text/plain": [
              "\"If that's love in your eyes\""
            ]
          },
          "metadata": {
            "tags": []
          },
          "execution_count": 6
        }
      ]
    },
    {
      "cell_type": "code",
      "metadata": {
        "id": "AAMRUT4thpzo"
      },
      "source": [
        "data=\" \".join(data)"
      ],
      "execution_count": 7,
      "outputs": []
    },
    {
      "cell_type": "code",
      "metadata": {
        "id": "MepLnfwuiI2S",
        "outputId": "cf4143a8-368d-49fc-a469-ad29f6995528",
        "colab": {
          "base_uri": "https://localhost:8080/",
          "height": 120
        }
      },
      "source": [
        "data"
      ],
      "execution_count": 8,
      "outputs": [
        {
          "output_type": "execute_result",
          "data": {
            "application/vnd.google.colaboratory.intrinsic+json": {
              "type": "string"
            },
            "text/plain": [
              "'Looking for some education Made my way into the night All that bullshit conversation Baby, can\\'t you read the signs? I won\\'t bore you with the details, baby I don\\'t even wanna waste your time Let\\'s just say that maybe You could help me ease my mind I ain\\'t Mr. Right But if you\\'re looking for fast love If that\\'s love in your eyes It\\'s more than enough Had some bad love So fast love is all that I\\'ve got on my mind Ooh, ooh Ooh, ooh Looking for some affirmation Made my way into the sun My friends got their ladies And they\\'re all having babies I just wanna have some fun I won\\'t bore you with the details, baby I don\\'t even wanna waste your time Let\\'s just say that maybe You could help me ease my mind I ain\\'t Mr. Right But if you\\'re looking for fast love If that\\'s love in your eyes It\\'s more than enough I\\'ve had some bad love So fast love is all that I\\'ve got on my mind Ooh, ooh Baby, baby Ooh, ooh Baby, baby Ooh, ooh Baby, baby Ooh In the absence of security I made my way into the night Stupid cupid keeps on calling me And I see nothing in his eyes I miss my baby Oh I, I miss my baby I miss my baby I miss, I miss, I miss, I miss my baby Ooh I, I miss my baby I don\\'t want you to be no slave I don\\'t want you to work all day But I want you to be true And I just want to make love to you Love to you, ooh baby Love to you, yeah All I want to do is wash your clothes I don\\'t want to keep you indoors There is nothing you can\\'t do But keep me making love to me Love to me, ooh baby Love to you, yeah And I can tell by the way you walk that walk And I can hear by the way you talk that talk And I can know by the way you treat your girl That I can give you all the loving in the whole wide world All I want you to do is make your bread Just to make sure you\\'re well fed I don\\'t want you sad and blue And I just want to make love to you Love to you, ooh yeah Love to you, yeah And I can tell by the way you walk that walk And I can hear by the way you talk that talk And I can know by the way you treat your girl That I can give you all the loving in the whole wide world All I want you to do baby is make your bread Just to make sure you\\'re well fed I don\\'t want you sad and blue And I just want to make love to you Love to you, ooh yeah Love to you, yeah Oh I just want to make love to you Happy New Year! I heard that you\\'re settled down That you found a girl and you\\'re married now I heard that your dreams came true Guess she gave you things I didn\\'t give to you Old friend, why are you so shy? Ain\\'t like you to hold back or hide from the light I hate to turn up out of the blue, uninvited But I couldn\\'t stay away, I couldn\\'t fight it I had hoped you\\'d see my face and that you\\'d be reminded That for me, it isn\\'t over Never mind, I\\'ll find someone like you I wish nothing but the best for you two Don\\'t forget me, I beg, I remember you said Sometimes it lasts in love, but sometimes it hurts instead Sometimes it lasts in love, but sometimes it hurts instead You know how the time flies Only yesterday was the time of our lives We were born and raised in a summer haze Bound by the surprise of our glory days I hate to turn up out of the blue, uninvited But I couldn\\'t stay away, I couldn\\'t fight it I had hoped you\\'d see my face and that you\\'d be reminded That for me, it isn\\'t over Never mind, I\\'ll find someone like you I wish nothing but the best for you two Don\\'t forget me, I beg, I remember you said Sometimes it lasts in love, but sometimes it hurts instead, yeah Nothing compares, no worries or cares Regrets and mistakes, they\\'re memories made Who would have known how bittersweet this would taste? Never mind, I\\'ll find someone like you I wish nothing but the best for you Don\\'t forget me, I beg, I remember you said Sometimes it lasts in love, but sometimes it hurts instead Never mind, I\\'ll find someone like you I wish nothing but the best for you two Don\\'t forget me, I beg, I remember you said Sometimes it lasts in love, but sometimes it hurts instead Sometimes it lasts in love, but sometimes it hurts instead There\\'s a fire starting in my heart Reaching a fever pitch, it\\'s bringing me out the dark Finally I can see you crystal clear [Clean version:] Go \\'head and sell me out and I\\'ll lay your ship bare [Explicit version:] Go \\'head and sell me out and I\\'ll lay your shit bare See how I leave with every piece of you Don\\'t underestimate the things that I will do There\\'s a fire starting in my heart Reaching a fever pitch And it\\'s bringing me out the dark The scars of your love remind me of us They keep me thinking that we almost had it all The scars of your love, they leave me breathless I can\\'t help feeling We could have had it all (You\\'re gonna wish you never had met me) Rolling in the deep (Tears are gonna fall, rolling in the deep) You had my heart inside of your hand (You\\'re gonna wish you never had met me) And you played it, to the beat (Tears are gonna fall, rolling in the deep) Baby, I have no story to be told But I\\'ve heard one on you And I\\'m gonna make your head burn Think of me in the depths of your despair Make a home down there As mine sure won\\'t be shared (You\\'re gonna wish you never had met me) The scars of your love remind me of us (Tears are gonna fall, rolling in the deep) They keep me thinking that we almost had it all (You\\'re gonna wish you never had met me) The scars of your love, they leave me breathless (Tears are gonna fall, rolling in the deep) I can\\'t help feeling We could have had it all (You\\'re gonna wish you never had met me) Rolling in the deep (Tears are gonna fall, rolling in the deep) You had my heart inside of your hand (You\\'re gonna wish you never had met me) And you played it, to the beat (Tears are gonna fall, rolling in the deep) We could have had it all Rolling in the deep You had my heart inside of your hand But you played it, with a beating Throw your soul through every open door (woah) Count your blessings to find what you look for (woah) Turn my sorrow into treasured gold (woah) You\\'ll pay me back in kind and reap just what you sow (woah) (You\\'re gonna wish you never had met me) We could have had it all (Tears are gonna fall, rolling in the deep) We could have had it all (You\\'re gonna wish you never had met me) It all, it all, it all (Tears are gonna fall, rolling in the deep) We could have had it all (You\\'re gonna wish you never had met me) Rolling in the deep (Tears are gonna fall, rolling in the deep) You had my heart inside of your hand (You\\'re gonna wish you never had met me) And you played it to the beat (Tears are gonna fall, rolling in the deep) We could have had it all (You\\'re gonna wish you never had met me) Rolling in the deep (Tears are gonna fall, rolling in the deep) You had my heart inside of your hand (You\\'re gonna wish you never had met me) But you played it You played it You played it You played it to the beat. Hello, it\\'s me I was wondering if after all these years you\\'d like to meet To go over everything They say that time\\'s supposed to heal ya But I ain\\'t done much healing Hello, can you hear me? I\\'m in California dreaming about who we used to be When we were younger and free I\\'ve forgotten how it felt before the world fell at our feet There\\'s such a difference between us And a million miles Hello from the other side I must\\'ve called a thousand times To tell you I\\'m sorry For everything that I\\'ve done But when I call you never Seem to be home Hello from the outside At least I can say that I\\'ve tried To tell you I\\'m sorry For breaking your heart But it don\\'t matter, it clearly Doesn\\'t tear you apart anymore Hello, how are you? It\\'s so typical of me to talk about myself, I\\'m sorry I hope that you\\'re well Did you ever make it out of that town Where nothing ever happened? It\\'s no secret That the both of us Are running out of time So hello from the other side (other side) I must\\'ve called a thousand times (thousand times) To tell you I\\'m sorry For everything that I\\'ve done But when I call you never Seem to be home Hello from the outside (outside) At least I can say that I\\'ve tried (I\\'ve tried) To tell you I\\'m sorry For breaking your heart But it don\\'t matter, it clearly Doesn\\'t tear you apart anymore Oh, anymore Oh, anymore Oh, anymore Anymore Hello from the other side (other side) I must\\'ve called a thousand times (thousand times) To tell you I\\'m sorry For everything that I\\'ve done But when I call you never Seem to be home Hello from the outside (outside) At least I can say that I\\'ve tried (I\\'ve tried) To tell you I\\'m sorry For breaking your heart But it don\\'t matter, it clearly Doesn\\'t tear you apart anymore I will leave my heart at the door I won\\'t say a word They\\'ve all been said before you know So why don\\'t we just play pretend Like we\\'re not scared of what\\'s coming next Or scared of having nothing left Look, don\\'t get me wrong I know there is no tomorrow All I ask is If this is my last night with you Hold me like I\\'m more than just a friend Give me a memory I can use Take me by the hand while we do what lovers do It matters how this ends \\'Cause what if I never love again? I don\\'t need your honesty It\\'s already in your eyes And I\\'m sure my eyes, they speak for me No one knows me like you do And since you\\'re the only one that matters Tell me who do I run to? Look, don\\'t get me wrong I know there is no tomorrow All I ask is If this is my last night with you Hold me like I\\'m more than just a friend Give me a memory I can use Take me by the hand while we do what lovers do It matters how this ends \\'Cause what if I never love again? Let this be our lesson in love Let this be the way we remember us I don\\'t wanna be cruel or vicious And I ain\\'t asking for forgiveness All I ask is If this is my last night with you Hold me like I\\'m more than just a friend Give me a memory I can use Take me by the hand while we do what lovers do It matters how this ends \\'Cause what if I never love again? I let it fall, my heart, And as it fell you rose to claim it It was dark and I was over Until you kissed my lips and you saved me My hands, they\\'re strong But my knees were far too weak To stand in your arms Without falling to your feet But there\\'s a side to you that I never knew, never knew All the things you\\'d say, they were never true, never true And the games you\\'d play, you would always win, always win But I set fire to the rain Watched it pour as I touched your face Let it burn while I cry \\'Cause I heard it screaming out your name, your name When laying with you I could stay there, close my eyes Feel you here, forever You and me together, nothing gets better Cause there\\'s a side to you that I never knew, never knew All the things you\\'d say, they were never true, never true And the games you\\'d play, you would always win, always win But I set fire to the rain Watched it pour as I touched your face Let it burn while I cried \\'Cause I heard it screaming out your name, your name I set fire to the rain And I threw us into the flames Where I felt something die, \\'cause I knew that That was the last time, the last time Sometimes I wake up by the door As if that heart you caught is still waiting for you Even now when it\\'s already over I can\\'t help myself from looking for you I set fire to the rain Watched it pour as I touched your face Let it burn while I cried \\'Cause I heard it screaming out your name, your name I set fire to the rain And I threw us into the flames Where I felt something die \\'Cause I knew that that was the last time, the last time, oh Oh, oh Let it burn, oh Let it burn Let it burn Everybody loves the things you do From the way you talk To the way you move Everybody here is watching you \\'Cause you feel like home You\\'re like a dream come true But if by chance you\\'re here alone Can I have a moment Before I go? \\'Cause I\\'ve been by myself all night long Hoping you\\'re someone I used to know You look like a movie You sound like a song My God, this reminds me Of when we were young Let me photograph you in this light In case it is the last time That we might be exactly like we were Before we realized We were sad of getting old It made us restless It was just like a movie It was just like a song I was so scared to face my fears Nobody told me that you\\'d be here And I swore you moved overseas That\\'s what you said, when you left me You still look like a movie You still sound like a song My God, this reminds me Of when we were young Let me photograph you in this light In case it is the last time That we might be exactly like we were Before we realized We were sad of getting old It made us restless It was just like a movie It was just like a song When we were young When we were young When we were young When we were young It\\'s hard to win me back Everything just takes me back To when you were there To when you were there And a part of me keeps holding on Just in case it hasn\\'t gone I guess I still care Do you still care? It was just like a movie It was just like a song My God, this reminds me Of when we were young When we were young When we were young When we were young When we were young Let me photograph you in this light In case it is the last time That we might be exactly like we were Before we realized We were sad of getting old It made us restless Oh, I\\'m so mad I\\'m getting old It makes me reckless It was just like a movie It was just like a song When we were young Whenever I\\'m alone with you You make me feel like I am home again Whenever I\\'m alone with you You make me feel like I am whole again Whenever I\\'m alone with you You make me feel like I am young again Whenever I\\'m alone with you You make me feel like I am fun again However far away I will always love you However long I stay I will always love you Whatever words I say I will always love you I will always love you Whenever I\\'m alone with you You make me feel like I am free again Whenever I\\'m alone with you You make me feel like I am clean again However far away I will always love you However long I stay I will always love you Whatever words I say I will always love you I will always love you However far away I will always love you However long I stay I will always love you Whatever words I say I will always love you I will always love you I will always love you \\'Cause I love you When the rain is blowing in your face And the whole world is on your case I could offer you a warm embrace To make you feel my love When the evening shadows and the stars appear And there is no one there to dry your tears I could hold you for a million years To make you feel my love I know you haven\\'t made your mind up yet But I would never do you wrong I\\'ve known it from the moment that we met no doubt in my mind were you belong I\\'d go hungry, I\\'d go black and blue I\\'d go crawling down the avenue No, there\\'s nothing that I wouldn\\'t do To make you feel my love The storms are raging on the rolling sea And on the highway of regret The winds of change are blowing wild and free You ain\\'t seen nothing like me yet I could make you happy, make your dreams come true Nothing that I wouldn\\'t do Go to the ends of the Earth for you To make you feel my love To make you feel my love I\\'ve made up my mind Don\\'t need to think it over If I\\'m wrong I am right Don\\'t need to look no further This ain\\'t lust I know this is love but If I tell the world I\\'ll never say enough Cause it was not said to you And that\\'s exactly what I need to do If I\\'m in love with you Should I give up Or should I just keep chasing pavements? Even if it leads nowhere Or would it be a waste? Even If I knew my place should I leave it there? Should I give up Or should I just keep chasing pavements? Even if it leads nowhere I\\'d build myself up And fly around in circles Waiting as my heart drops And my back begins to tingle Finally could this be it or Should I give up Or should I just keep chasing pavements? Even if it leads nowhere Or would it be a waste? Even if I knew my place should I leave it there? Should I give up Or should I just keep chasing pavements? Even if it leads nowhere yeah Should I give up Or should I just keep chasing pavements? Even if, it leads nowhere Or would it be a waste? Even if I knew my place should I leave it there? Should I give up, Or should I just keep on chasing pavements? Should I just keep on chasing pavements? Or Should I give up Or should I just keep chasing pavements? Even if it leads nowhere Or would it be a waste? Even if I knew my place should I leave it there? Should I give up Or should I just keep chasing pavements? Even if it leads nowhere When will I see you again? You left with no goodbye, not a single word was said No final kiss to seal anything I had no idea of the state we were in I know I have a fickle heart and a bitterness And a wandering eye, and a heaviness in my head But don\\'t you remember, don\\'t you remember? The reason you loved me before, Baby please remember me once more When was the last time you thought of me? Or have you completely erased me from your memories? I often think about where I went wrong The more I do, the less I know But I know I have a fickle heart and a bitterness And a wandering eye, and a heaviness in my head But don\\'t you remember, don\\'t you remember? The reason you loved me before Baby please remember me once more Oh, I gave you the space so you could breathe I kept my distance so you would be free In hope that you find the missing piece To bring you back to me Why don\\'t you remember, don\\'t you remember? The reason you loved me before Baby please remember me once more When will I see you again? She, she ain\\'t real She ain\\'t gonna be able to love you like I will She is a stranger You and I have history Or don\\'t you remember Sure, she\\'s got it all But, baby, is that really what you want Bless your soul, you\\'ve got you\\'re head in the clouds You made a fool out of you And, boy, she\\'s bringing you down She made your heart melt But you\\'re cold to the core Now rumor has it she ain\\'t got your love anymore Rumor has it, ooh Rumor has it, ooh Rumor has it, ooh Rumor has it, ooh Rumor has it, ooh Rumor has it, ooh Rumor has it, ooh Rumor has it, ooh She is half your age But I\\'m guessing that\\'s the reason that you stayed I heard you\\'ve been missing me You\\'ve been telling people things that you shouldn\\'t be Like when we creep out and she ain\\'t around Haven\\'t you heard the rumors Bless your soul, you\\'ve got your head in the clouds You made a fool out of me And, boy, you\\'re bringing me down You made my heart melt, yet I\\'m cold to the core But rumor has it I\\'m the one you\\'re leaving her for Rumor has it, ooh Rumor has it, ooh Rumor has it, ooh Rumor has it, ooh Rumor has it, ooh Rumor has it, ooh Rumor has it, ooh Rumor has it, ooh All of these words whispered in my ear Tell a story that I cannot bear to hear Just \\'cause I said it, it don\\'t mean that I meant it People say crazy things Just \\'cause I said it, don\\'t mean that I meant it Just \\'cause you heard it Rumor has it, ooh, Rumor has it, ooh, Rumor has it, ooh, Rumor has it, ooh, Rumor has it, ooh, Rumor has it, ooh, Rumor has it, ooh, Rumor has it, ooh, Rumor has it, ooh, Rumor has it, ooh, Rumor has it, ooh, Rumor has it, ooh, Rumor has it, ooh, Rumor has it, ooh But rumor has it he\\'s the one I\\'m leaving you for You\\'ve been on my mind I grow fonder every day Lose myself in time Just thinking of your face God only knows why it\\'s taken me So long to let my doubts go You\\'re the only one that I want I don\\'t know why I\\'m scared I\\'ve been here before Every feeling, every word I\\'ve imagined it all You\\'ll never know if you never try To forget your past and simply be mine I dare you to let me be your, your one and only I promise I\\'m worthy To hold in your arms So come on and give me the chance To prove I am the one who can walk that mile Until the end starts If I\\'ve been on your mind You hang on every word I say Lose yourself in time At the mention of my name Will I ever know how it feels to hold you close And have you tell me Whichever road I choose, you\\'ll go? I don\\'t know why I\\'m scared \\'Cause I\\'ve been here before Every feeling, every word I\\'ve imagined it all You\\'ll never know if you never try To forget your past and simply be mine I dare you to let me be your, your one and only I promise I\\'m worthy, mm To hold in your arms So come on and give me the chance To prove I am the one who can walk that mile Until the end starts I know it ain\\'t easy giving up your heart I know it ain\\'t easy giving up your heart Nobody\\'s perfect (I know it ain\\'t easy giving up your heart) Trust me I\\'ve learned it Nobody\\'s perfect (I know it ain\\'t easy giving up your heart) Trust me I\\'ve learned it Nobody\\'s perfect (I know it ain\\'t easy giving up your heart) Trust me I\\'ve learned it Nobody\\'s perfect (I know it ain\\'t easy giving up your heart) Trust me I\\'ve learned it So I dare you to let me be your, your one and only I promise I\\'m worthy To hold in your arms So come on and give me the chance To prove that I am the, one who can walk that mile Until the end starts Come on and give me the chance To prove that I am the one who can, walk that mile Until the end starts If you\\'re not the one for me Then I\\'ll come back and bring you to your knees If you\\'re not the one for me Why do I hate the idea of being free? And if I\\'m not the one for you You\\'ve gotta stop holding me the way you do Oh when you found that the one for you Why have we been through what we have been through It\\'s so cold out here in your wilderness I want you to be my keeper But not if you are so reckless If you\\'re gonna let me down, let me down gently Don\\'t pretend that you don\\'t want me Our love ain\\'t water under the bridge If you\\'re gonna let me down, let me down gently Don\\'t pretend that you don\\'t want me Our love ain\\'t water under the bridge Say that our love ain\\'t water under the bridge What are you waiting for? You never seem to make it through the door And who are you hiding from? It ain\\'t no life to live like you\\'re on the run Have I ever asked for much? The only thing that I want is your love If you\\'re gonna let me down, let me down gently Don\\'t pretend that you don\\'t want me Our love ain\\'t water under the bridge If you\\'re gonna let me down, let me down gently Don\\'t pretend that you don\\'t want me Our love ain\\'t water under the bridge Say that our love ain\\'t water under the bridge It\\'s so cold in your wilderness I want you to be my keeper But not if you are so reckless If you\\'re gonna let me down, let me down gently Don\\'t pretend that you don\\'t want me Our love ain\\'t water under the bridge If you\\'re gonna let me down, let me down gently Don\\'t pretend that you don\\'t want me Our love ain\\'t water under the bridge Say it ain\\'t so, say it ain\\'t so Say it ain\\'t so, say it ain\\'t so Say it ain\\'t so, say it ain\\'t so Say it ain\\'t so, say it ain\\'t so Say it ain\\'t so, say it ain\\'t so Say it ain\\'t so, say it ain\\'t so Say it ain\\'t so, say it ain\\'t so Say it ain\\'t so, say it ain\\'t so Say that our love ain\\'t water under the bridge I\\'ve been walking in the same way as I did Missing out the cracks in the pavement And turning my heel and strutting my feet \"Is there anything I can do for you dear? Is there anyone I could call?\" \"No and thank you, please Madam. I ain\\'t lost, just wandering\" Round my hometown Memories are fresh Round my hometown Ooh the people I\\'ve met Are the wonders of my world Are the wonders of my world Are the wonders of this world Are the wonders of now I like it in the city when the air is so thick and opaque I love to see everybody in short skirts, shorts and shades I like it in the city when two worlds collide You get the people and the government Everybody taking different sides Shows that we ain\\'t gonna stand shit Shows that we are united Shows that we ain\\'t gonna take it Shows that we ain\\'t gonna stand shit Shows that we are united Round my hometown Memories are fresh Round my hometown Ooh the people I\\'ve met yea Are the wonders of my world Are the wonders of my world Are the wonders of this world Are the wonders of my world Of my world, yeah Of my world Of my world, yeah Close enough to start a war All that I have is on the floor God only knows what we\\'re fighting for All that I say, you always say more I can\\'t keep up with your turning tables Under your thumb, I can\\'t breathe So I won\\'t let you close enough to hurt me No, I won\\'t ask you, you to just desert me I can\\'t give you what you think you gave me It\\'s time to say goodbye to turning tables, to turning tables Under haunted skies I see Where love is lost, your ghost is found I\\'ve braved a hundred storms to leave you As hard as you try, no, I will never be knocked down I can\\'t keep up with your turning tables Under your thumb, I can\\'t breathe So I won\\'t let you close enough to hurt me, no I won\\'t ask you, you to just desert me I can\\'t give you what you think you gave me It\\'s time to say goodbye to turning tables, turning tables Next time I\\'ll be braver, I\\'ll be my own savior When the thunder calls to me Next time I\\'ll be braver, I\\'ll be my own savior Standing on my own two feet I won\\'t let you close enough to hurt me, no I won\\'t ask you, you to just desert me I can\\'t give you what you think you gave me It\\'s time to say goodbye to turning tables, to turning tables Turning tables, yeah, turning This is the end Hold your breath and count to ten Feel the earth move and then Hear my heart burst again For this is the end I\\'ve drowned and dreamt this moment So overdue I owe them Swept away, I\\'m stolen Let the sky fall When it crumbles We will stand tall Face it all together Let the sky fall When it crumbles We will stand tall Face it all together At skyfall At skyfall Skyfall is where we start A thousand miles and poles apart Where worlds collide and days are dark You may have my number, you can take my name But you\\'ll never have my heart Let the sky fall When it crumbles We will stand tall Face it all together Let the sky fall When it crumbles We will stand tall Face it all together At skyfall Where you go I go What you see I see I know I\\'d never be me Without the security Of your loving arms Keeping me from harm Put your hand in my hand And we\\'ll stand Let the sky fall When it crumbles We will stand tall Face it all together Let the sky fall When it crumbles We will stand tall Face it all together At skyfall Let the sky fall We will stand tall At skyfall Just the guitar This was all you, none of it me You put your hands all over my body and told me, umm You told me you were ready For the big one, for the big jump I\\'d be your last love everlasting you and me That was what you told me I\\'m giving you up I\\'ve forgiven it all You set me free, oh Send my love to your new lover Treat her better We\\'ve gotta let go of all of our ghosts We both know we ain\\'t kids no more Send my love to your new lover Treat her better We\\'ve gotta let go of all of our ghosts We both know we ain\\'t kids no more I was too strong you were trembling You couldn\\'t handle the hot heat rising (rising), umm Baby I\\'m so rising I was running, you were walking You couldn\\'t keep up, you were falling down (down), umm There\\'s only one way down I\\'m giving you up I\\'ve forgiven it all You set me free, oh Send my love to your new lover Treat her better We gotta let go of all of our ghosts We\\'ve both know we ain\\'t kids no more Send my love to your new lover Treat her better We\\'ve gotta let go of all of our ghosts We both know we ain\\'t kids no more If you\\'re ready, if you\\'re ready If you\\'re ready, I am ready If you\\'re ready, if you\\'re ready We both know we ain\\'t kids no more No, we ain\\'t kids no more I\\'m giving you up I\\'ve forgiven it all You set me free Send my love to your new lover Treat her better We\\'ve gotta let go of all of our ghosts We both know we ain\\'t kids no more Send my love to your new lover Treat her better We\\'ve gotta let go of all of our ghosts We both know we ain\\'t kids no more If you\\'re ready, if you\\'re ready (Send my love to your new lover) If you\\'re ready, are you ready? (Treat her better) We\\'ve gotta let go of all of our ghosts We both know we ain\\'t kids no more If you\\'re ready, if you\\'re ready (Send my love to your new lover) If you\\'re ready, are you ready? (Treat her better) We\\'ve gotta let go of all of our ghosts We both know we ain\\'t kids no more Just the guitar This was all you, none of it me You put your hands all over my body and told me, umm You told me you were ready For the big one, for the big jump I\\'d be your last love everlasting you and me That was what you told me I\\'m giving you up I\\'ve forgiven it all You set me free, oh Send my love to your new lover Treat her better We\\'ve gotta let go of all of our ghosts We both know we ain\\'t kids no more Send my love to your new lover Treat her better We\\'ve gotta let go of all of our ghosts We both know we ain\\'t kids no more I was too strong you were trembling You couldn\\'t handle the hot heat rising (rising), umm Baby I\\'m so rising I was running, you were walking You couldn\\'t keep up, you were falling down (down), umm There\\'s only one way down I\\'m giving you up I\\'ve forgiven it all You set me free, oh Send my love to your new lover Treat her better We gotta let go of all of our ghosts We\\'ve both know we ain\\'t kids no more Send my love to your new lover Treat her better We\\'ve gotta let go of all of our ghosts We both know we ain\\'t kids no more If you\\'re ready, if you\\'re ready If you\\'re ready, I am ready If you\\'re ready, if you\\'re ready We both know we ain\\'t kids no more No, we ain\\'t kids no more I\\'m giving you up I\\'ve forgiven it all You set me free Send my love to your new lover Treat her better We\\'ve gotta let go of all of our ghosts We both know we ain\\'t kids no more Send my love to your new lover Treat her better We\\'ve gotta let go of all of our ghosts We both know we ain\\'t kids no more If you\\'re ready, if you\\'re ready (Send my love to your new lover) If you\\'re ready, are you ready? (Treat her better) We\\'ve gotta let go of all of our ghosts We both know we ain\\'t kids no more If you\\'re ready, if you\\'re ready (Send my love to your new lover) If you\\'re ready, are you ready? (Treat her better) We\\'ve gotta let go of all of our ghosts We both know we ain\\'t kids no more I only wanted to have fun Learning to fly, learning to run I let my heart decide the way When I was young Deep down I must have always known That this would be inevitable To earn my stripes I\\'d have to pay And bear my soul I know I\\'m not the only one Who regrets the things they\\'ve done Sometimes I just feel it\\'s only me Who can\\'t stand the reflection that they see I wish I could live a little more Look up to the sky, not just the floor I feel like my life is flashing by And all I can do is watch and cry I miss the air, I miss my friends I miss my mother, I miss it when Life was a party to be thrown But that was a million years ago When I walk around all of the streets Where I grew up and found my feet They can\\'t look me in the eye It\\'s like they\\'re scared of me I try to think of things to say Like a joke or a memory But they don\\'t recognize me now In the light of day I know I\\'m not the only one Who regrets the things they\\'ve done Sometimes I just feel it\\'s only me Who never became who they thought they\\'d be I wish I could live a little more Look up to the sky, not just the floor I feel like my life is flashing by And all I can do is watch and cry I miss the air, I miss my friends I miss my mother, I miss it when Life was a party to be thrown But that was a million years ago A million years ago Looking for some education Made my way into the night All that bullshit conversation Baby, can\\'t you read the signs? I won\\'t bore you with the details, baby I don\\'t even wanna waste your time Let\\'s just say that maybe You could help me ease my mind I ain\\'t Mr. Right But if you\\'re looking for fast love If that\\'s love in your eyes It\\'s more than enough Had some bad love So fast love is all that I\\'ve got on my mind Ooh, ooh Ooh, ooh Looking for some affirmation Made my way into the sun My friends got their ladies And they\\'re all having babies I just wanna have some fun I won\\'t bore you with the details, baby I don\\'t even wanna waste your time Let\\'s just say that maybe You could help me ease my mind I ain\\'t Mr. Right But if you\\'re looking for fast love If that\\'s love in your eyes It\\'s more than enough I\\'ve had some bad love So fast love is all that I\\'ve got on my mind Ooh, ooh Baby, baby Ooh, ooh Baby, baby Ooh, ooh Baby, baby Ooh In the absence of security I made my way into the night Stupid cupid keeps on calling me And I see nothing in his eyes I miss my baby Oh I, I miss my baby I miss my baby I miss, I miss, I miss, I miss my baby Ooh I, I miss my baby Take your eyes off of me so I can leave I\\'m far too ashamed to do it with you watching me This is never ending, we have been here before But I can\\'t stay this time \\'cause I don\\'t love you anymore Please stay where you are Don\\'t come any closer Don\\'t try to change my mind I\\'m being cruel to be kind I can\\'t love you in the dark It feels like we\\'re oceans apart There is so much space between us Maybe we\\'re already defeated Ah-yeah-yeah-yeah-yeah-yeah-yeah everything changed me You have given me something that I can\\'t live without You mustn\\'t underestimate that when you are in doubt But I don\\'t want to carry on like everything is fine The longer we ignore it all the more that we will fight Please don\\'t fall apart I can\\'t face your breaking heart I\\'m trying to be brave Stop asking me to stay I can\\'t love you in the dark It feels like we\\'re oceans apart There is so much space between us Maybe we\\'re already defeated Ah-yeah-yeah-yeah-yeah-yeah-yeah everything changed me We\\'re not the only ones I don\\'t regret a thing Every word I\\'ve said You know I\\'ll always mean It is the world to me That you are in my life But I want to live And not just survive That\\'s why I can\\'t love you in the dark It feels like we\\'re oceans apart There is so much space between us Maybe we\\'re already defeated \\'Cause ah-yeah-yeah-yeah-yeah-yeah-yeah everything changed me And I-I-I-I-I don\\'t think you can save me I want every single piece of you I want your heaven and your ocean\\'s too Treat me soft but touch me cool I wanna teach you things you never knew, baby Bring the floor up to my knees Let me fall into your gravity And kiss me back to life to see Your body standing over me Baby don\\'t let the lights go down Baby don\\'t let the lights go down Baby don\\'t let the lights go down Lights go down, lights go down Lights go down, lights go down Down, down, down, down I miss you when the lights go out It illuminates all of my doubts Pull me in, hold me tight Don\\'t let go, baby give me light I miss you when the lights go out It illuminates all of my doubts Pull me in, hold me tight Don\\'t let go, baby give me light I love the way your body moves Towards me from across the room Brushing past my every groove No one has me like you do In your heart I bring my soul But be delicate with my ego I wanna step into your great unknown With you and me setting the tone Baby don\\'t let the lights go down Baby don\\'t let the lights go down Baby don\\'t let the lights go down Lights go down, lights go down Lights go down, lights go down Down, down, down, down I miss you when the lights go out It illuminates all of my doubts Pull me in, hold me tight Don\\'t let go, baby give me light I miss you when the lights go out It illuminates all of my doubts Pull me in, hold me tight Don\\'t let go, baby give me light We play so dirty in the dark \\'Cause we are living worlds apart It only makes it harder baby It only makes it harder baby (harder baby) Harder baby (harder baby), harder baby I miss you when the lights go out It illuminates all of my doubts Pull me in, hold me tight Don\\'t let go, baby give me light I miss you when the lights go out It illuminates all of my doubts Pull me in, hold me tight Don\\'t let go, baby give me light I miss you, I miss you I miss you, I miss you I miss you, I miss you I miss you, I miss you I remember all of the things that I thought I wanted to be So desperate to find a way out of my world and finally breathe Right before my eyes I saw, my heart it came to life This ain\\'t easy it\\'s not meant to be Every story has its scars When the pain cuts you deep When the night keeps you from sleeping Just look and you will see That I will be your remedy When the world seems so cruel And your heart makes you feel like a fool I promise you will see That I will be, I will be your remedy No river is too wide or too deep for me to swim to you Come whenever I\\'ll be the shelter that won\\'t let the rain come through Your love, it is my truth And I will always love you Love you When the pain cuts you deep When the night keeps you from sleeping Just look and you will see That I will be your remedy When the world seems so cruel And your heart makes you feel like a fool I promise you will see That I will be, I will be your remedy, oh When the pain cuts you deep When the night keeps you from sleeping Just look and you will see I will be, I will be When the world seems so cruel And your heart makes you feel like a fool I promise you will see That I will be, I will be, I will be Your remedy, oh Didn\\'t I give it all? Tried my best Gave you everything I had, everything and no less Didn\\'t I do it right? Did I let you down? Maybe you got too used to having me \\'round Still how can you walk away From all my tears It\\'s gonna be an empty road without me right here But go on and take it, take it all with you Don\\'t look back at this crumbling fool Just take it all with my love, take it all with my love Maybe I should leave, to help you see Nothing is better than this and this is everything we need So is it over? Is this really it, you\\'re giving up so easily I thought you loved me more than this But go on, go on, take it, take it all with you Don\\'t look back at this crumbling fool Just take it all with my love, take it all with my love I will change if I must Slow it down and bring it home, I will adjust Oh if only, if only you knew Everything I do, is for you But go on and take it, take it all with you Don\\'t look back at this crumbling fool Just take it, take it all with you Don\\'t look back at this crumbling fool Just take it all, with my love Take it all with my love Take it all with my love This is how the story went I met someone by accident It blew me away Blew me away It was in the darkest of my days When you took my sorrow and you took my pain And buried them away, you buried them away I wish I could lay down beside you When the day is done And wake up to your face against the morning sun But like everything I\\'ve ever known You disappear one day So I spend my whole life hiding my heart away Dropped you off at the train station Put a kiss on top of your head Watch you wave And watched you wave Then I went on home to my skyscrapers And neon lights and waiting papers That I call home I call that home I wish I could lay down beside you When the day is done And wake up to your face against the morning sun But like everything I\\'ve ever known You disappear one day So I spend my whole life hiding my heart away, away Woke up feeling heavy-hearted I\\'m going back to where I started The morning rain, the morning rain And though I wish that you were here On that same old road that brought me here It\\'s calling me home, It\\'s calling me home I wish I could lay down beside you When the day is done And wake up to your face against the morning sun But like everything I\\'ve ever known You disappear one day So I spend my whole life hiding my heart away I can\\'t spend my whole life hiding my heart away I don\\'t want you to be no slave I don\\'t want you to work all day But I want you to be true And I just want to make love to you Love to you, ooh baby Love to you, yeah All I want to do is wash your clothes I don\\'t want to keep you indoors There is nothing you can\\'t do But keep me making love to me Love to me, ooh baby Love to you, yeah And I can tell by the way you walk that walk And I can hear by the way you talk that talk And I can know by the way you treat your girl That I can give you all the loving in the whole wide world All I want you to do is make your bread Just to make sure you\\'re well fed I don\\'t want you sad and blue And I just want to make love to you Love to you, ooh yeah Love to you, yeah And I can tell by the way you walk that walk And I can hear by the way you talk that talk And I can know by the way you treat your girl That I can give you all the loving in the whole wide world All I want you to do baby is make your bread Just to make sure you\\'re well fed I don\\'t want you sad and blue And I just want to make love to you Love to you, ooh yeah Love to you, yeah Oh I just want to make love to you Happy New Year! Turn down the lights Turn down the bed Turn down these voices Inside my head Lay down with me And tell me no lies Just hold me closly Don\\'t patronize Don\\'t patronize me \\'Cause I can\\'t make you love me If you don\\'t You can\\'t make your heart feel Something that it won\\'t And even in the dark These final hours I will lay down my heart I will feel the power But you won\\'t No, you won\\'t \\'Cause I can\\'t make you love me When you don\\'t When you don\\'t, yeah I\\'ll close my eyes \\'Cause then I don\\'t see The love you don\\'t feel When you\\'re holding me Morning will come And I\\'ll do what\\'s right Just give me till then To give up this fight And I will give up this fight \\'Cause I can\\'t make you love me If you don\\'t You can\\'t make your heart feel Something that it won\\'t And even in the dark These final hours I will lay down my heart I will feel the power But you won\\'t No, you won\\'t \\'Cause I can\\'t make you love me When you don\\'t When you don\\'t, ooh don\\'t You, when you don\\'t, yeah, yeah Hold me closer, one more time Say that you love me in your last goodbye Please forgive me, for my sins Yes, I swam dirty waters But you pushed me in I\\'ve seen your face, under every sky Over every border and on every line You know my heart, more than I do We were the greatest, me and you But we had time against us And miles between us The heavens cried I know I left you speechless But now the sky has cleared and it\\'s blue And I see my future in you I\\'ll be waiting for you when you\\'re ready to love me again I\\'ll put my hands up I\\'ll do everything different I\\'ll be better to you, I\\'ll be waiting for you when you\\'re ready to love me again I\\'ll put my hands up I\\'ll be somebody different I\\'ll be better to you Let me stay here for just one more night Build your world around me And pull me to the light So I can tell you that I was wrong I was a child then, but now I\\'m willing to learn But we had time against us And miles between us The heavens cried I know I left you speechless But now the sky has cleared and it\\'s blue And I see my future in you I\\'ll be waiting for you when you\\'re ready to love me again I\\'ll put my hands up I\\'ll do everything different I\\'ll be better to you I\\'ll be waiting for you when you\\'re ready to love me again I\\'ll put my hands up I\\'ll be somebody different I\\'ll be better to you Time against us Miles between us Heavens cried I know I left you speechless Time against us Miles between us Heavens cried I know I left you speechless I know I left you speechless I\\'ll be waiting I\\'ll be waiting for you when you\\'re ready to love me again I\\'ll put my hands up I\\'ll do everything different I\\'ll be better to you I\\'ll be waiting for you when you\\'re ready to love me again I\\'ll put my hands up I\\'ll be somebody different I\\'ll be better for you This is the end Hold your breath and count to ten Feel the Earth move, and then Hear my heart burst again For this is the end I\\'ve drowned and dreamt this moment So overdue, I owe them Swept away, I\\'m stolen Let the sky fall, when it crumbles We will stand tall And face it all together Let the sky fall, when it crumbles We will stand tall And face it all together At sky fall at sky fall Skyfall is where we start A thousand miles and poles apart Where worlds collide and days are dark You may have my number You can take my name But you\\'ll never have my heart Let the sky fall, when it crumbles We will stand tall And face it all together Let the sky fall, when it crumbles We will stand tall And face it all together At sky fall Let the sky fall, when it crumbles We will stand tall Let the sky fall, when it crumbles We will stand tall Where you go I go What you see I see I know I\\'d never be me with out the security Of your loving arms keeping me from harm Put your hand in my hand And we\\'ll stand.... Let the sky fall, when it crumbles We will stand tall And face it all together Let the sky fall, when it crumbles We will stand tall And face it all together At sky fall Let the sky fall We will stand tall At skyfall (Verse 1) There\\'s a fire starting in my heart Reaching a fever pitch and it\\'s bringing me out the dark Finally I can see you crystal clear Go head and sell me out and I\\'ll lay your ship bare See how I\\'ll leave with every piece of you Don\\'t underestimate the things that I will do There\\'s a fire starting in my heart Reaching a fever pitch and it\\'s bringing me out the dark Chorus 1 The scars of your love remind me of us They keep me thinkin\\' that we almost had it all The scars of your love, they leave me breathless I can\\'t help feeling, we could\\'ve had it all... (You\\'re gonna wish you never met me) Rolling in the deep... (Tears are gonna fall rollin\\' in the deep) You had my heart inside of your hand (You\\'re gonna wish you never met me) And you played it to the beat (Tears are gonna fall rollin\\' in the deep) Verse 2 Baby I have no story to be told But I\\'ve heard one on you and I\\'m gonna make your head burn Think of me in the depths of your despair Making a home down there, as mine sure won\\'t be shared (Chorus 2) The scars of your love remind me of us They keep me thinkin\\' that we almost had it all The scars of your love, they leave me breathless I can\\'t help feeling, we could\\'ve had it all Rolling in the deep... you had my heart inside of your hand And you played it to the beat Could\\'ve had it all... Rollin\\' in the deep You had my heart inside of your hand But you played it with a beating (Verse 3) Throw your stone through every open door Count your blessings to find what you look for Turn my sorrow into treasured gold You pay me back in kind and reap just what you sow (Chorus 3) We could\\'ve had it all... We could\\'ve had it all... It all, It all, It all... We could\\'ve had it all... Rollin\\' in the deep... You had my heart inside of your hand And you played it to the beat Could\\'ve had it all Rollin\\' in the deep You had my heart inside of your hand But you played it, you played it, you played it, you played it to the beat Some say, I\\'ll be better without you, They don\\'t know you like I do, Or at least as far as I thought I knew I can\\'t bear this time, It drags, as I lose my mind Reminded by things I find I know some clothes you left behind. Wake me up, wake me up when all is done I won\\'t rise until this battle\\'s won My dignity is become undone But I won\\'t go I can\\'t do it on my own If this ain\\'t love, then what is? I\\'m willing to take the risk I won\\'t go, I can\\'t do it on my own, If this is ain\\'t love, then what is? I\\'m willing to take the risk So petrified, I\\'m so scared to step into this right, What if I lose my heart and fail the ? I won\\'t forgive me if I gave up trying I heard his voice today I didn\\'t know a single word he said Now I\\'m resemblance to the man I met Just a vague and broken boy instead But I won\\'t go, I can\\'t do it on my own If this ain\\'t love, then what is? I\\'m willing to take the risk I won\\'t go, I can\\'t do it on my own If this ain\\'t love, then what is? I\\'m willing to take the risk There will be times, we\\'ll try and give it up Bursting at the seams, no doubt We almost fall apart and burn up easy So watch them turn to dust But nothing will never taint us I won\\'t go, I can\\'t do it on my own If this ain\\'t love, then what is? I\\'m willing to take the risk I won\\'t go, I can\\'t do it on my own If this ain\\'t love, then what is? I\\'m willing to take the risk Will he, will he still remember me? Will he still love me even when he\\'s free Or will he go back to the place where He will choose the poison over me? When we spoke yesterday He said to hold my breath, to sit and wait I\\'ll be home soon, I won\\'t be late He won\\'t go He can\\'t do it on his own If this ain\\'t love, then what is? He\\'s willing to take the risk So I won\\'t go, I can\\'t do it on his own, If this ain\\'t love, then what is? I\\'m willing to take the risk \\'Cause he won\\'t go He can\\'t do it on his own If this ain\\'t love, then what is? We\\'re willing to take the risk I won\\'t go! I can\\'t do it on my own If this ain\\'t love, then what is? I\\'m willing to take the risk I let it fall, my heart, And as it fell you rose to claim it It was dark and I was over Until you kissed my lips and you saved me My hands, they\\'re strong But my knees were far too weak To stand in your arms Without falling to your feet But there\\'s a side to you That I never knew, never knew All the things you\\'d say They were never true, never true And the games you play You would always win, always win But I set fire to the rain Watched it pour as I touched your face Well, it burned while I cried \\'Cause I heard it screaming Out your name, Your name When I lay with you I could stay there Close my eyes Feel you here forever You and me together nothing gets better \\'Cause there\\'s a side to you That I never knew, never knew All the things you\\'d say They were never true, never true And the games you play You would always win, always win But I set fire to the rain Watched it pour as I touched your face Well, it burned while I cried \\'Cause I heard it screaming out your name, Your name I set fire to the rain And I threw us into the flames Well, it felt something died \\'Cause I knew that that was The last time, the last time Sometimes I wake up by the door, That heart you caught must be waiting for you Even now when we\\'re already over I can\\'t help myself from looking for you I set fire to the rain Watched it pour as I touched your face Well, it burned while I cried \\'Cause I heard it screaming Out your name, Your name I set fire to the rain, And I threw us into the flames Well, it felt something died \\'Cause I knew that, that was the last time The last time Let it burn Let it burn Let it burn Daydreamer Sitting on the sea Soaking up the sun He is a real lover And making up the past Feeling up his girl Like he\\'s never felt a figure before A jaw dropper Looks good when he walks Is the subject of their talk He would be hard to chase But good to catch And he could change the world With his hands behind his back, oh You can find him sittin\\' on your doorstep Waiting for a surprise And he will feel like he\\'s been there for hours And you can tell that he\\'ll be there for life Daydreamer With eyes that make you melt He lends his coat for shelter Plus he\\'s there for you When he shouldn\\'t be But he stays all the same Waits for you Then sees you through There\\'s no way I Could describe him What I\\'ll say is Just what I\\'m hoping for But I will find him sittin\\' on my doorstep Waiting for a surprise And he will feel like he\\'s been there for hours And I can tell that he\\'ll be there for life And I can tell that he\\'ll be there for life With your loving, there ain\\'t nothing That I can\\'t adore The way I\\'m running, with you, honey Is we can break every low I find it funny that you\\'re the only One I never looked for There is something in your loving That tears down my walls I wasn\\'t ready then, I\\'m ready now I\\'m heading straight for you You will only be eternally The one that I belong to The sweetest devotion Hitting me like an explosion All of my life, I\\'ve been frozen The sweetest devotion I\\'ve known I\\'ll forever be whatever you want me to be I\\'ll go under and all over for your clarity When you wonder if I\\'m gonna lose my way home Just remember, that come whatever, I\\'ll be yours all alone I wasn\\'t ready then, I\\'m ready now I\\'m heading straight for you You will only be eternally The one that I belong to The sweetest devotion Hitting me like an explosion All of my life, I\\'ve been frozen The sweetest devotion I\\'ve known I\\'ve been looking for you, baby In every face that I\\'ve ever known And there is something \\'bout the way you love me That finally feels like home All my life, you\\'re my darkness You\\'re the right kind of madness And you\\'re my hope, you\\'re my despair You\\'re my scope, everything, everywhere The sweetest devotion Hitting me like an explosion All of my life, I\\'ve been frozen The sweetest devotion I\\'ve known Sweetest It\\'s the sweetest Sweetest It\\'s the sweetest Sweetest It\\'s the sweetest Sweetest It\\'s the sweetest Devotion [Verse 1] When did it go wrong, I will never know I have loved you all my life How did it slow down, I go round and round Thinking about it all the time [Pre-Chorus] I gave you heaven on a platter baby I gave you everything you never gave me I never lied and I never faked it Only wanted for you to save me This love, it ain\\'t over yet There\\'s too much that I haven\\'t said [Chorus] Did you find the note that I wrote? I hid it in the seam of your coat It was hard to write, had a lump in my throat Do you even know that I can\\'t let go [Verse 2] Why were you so cold, let the truth be told Tell me was it all for the thrill? What was I thinking, I gave you everything But you still went for the kill [Pre-Chorus] I gave you heaven on a platter baby I gave you everything you never gave me I never lied and I never faked it Only wanted for you to save me [Chorus] Did you find the note that I wrote? I hid it in the seam of your coat It was hard to write, had a lump in my throat Do you even know that I can\\'t let go [Bridge] Oooh sometimes I feel like I\\'m in the dark Oooh I thought I\\'d die in your arms [Chorus] Did you find the note that I wrote? I hid it in the seam of your coat It was hard to write, I had a lump in my throat Do you even know that I can\\'t let go [Outro] Hope you know, I won\\'t let go I thought I told you, he\\'d be home soon Couldn\\'t help myself, you\\'re too good to be true. I fall short each time, Every time he ain\\'t here You and your charm creep closer Closer and near Like a fool for fire, I fall, with my pride and all. Like a bomb before explosion, Ticking by your call, You\\'re the wiser one, disguised from greed, And I\\'m just a child who belongs on her knees. But I found a boy who I love more, Than I ever did you before, So stand beside the river I cried, And lay yourself down. Look how you want me now that I don\\'t need you. So, you thought that I\\'d crumble to my knees At the first sight of you crawling back to me To whisper \"will you leave your man? \" Cause you swear that this time you can stand by me. I won\\'t stand by you. Cause I found a boy who I love more, Than I ever did you before, So stand beside the river I cried And lay yourself down. Look how you want me now that I don\\'t need you! I ain\\'t yours for no taking, You must be mistaken I could never look into your eyes, and settle for wrong And ignore the right When I found a boy who loves me more, Than you ever did me before. So stand beside the river you cried And lay yourself down! Look how you want me now that I don\\'t need you! Found myself today singing out your name, You said I\\'m crazy, If I am I\\'m crazy for you. Sometimes sitting in the dark wishing you were here Turns me crazy, But it\\'s you who makes me lose my head. And every time I\\'m meant to be acting sensible You drift into my head And turn me into a crumbling fool. Tell me to run and I\\'ll race, If you want me to stop I\\'ll freeze, And if you want me gone. I\\'ll leave, just hold me closer baby, And make me crazy for you. Crazy for you. Lately with this state I\\'m in I can\\'t help myself but spin. I wish you\\'d come over, Send me spinning closer to you. My oh my, how my blood boils, it\\'s sweet taste for you, Strips me down bare And gets me into my favorite mood. I keep on trying, fighting these feelings away, But the more I do, The crazier I turn into. Pacing floors and opening doors, Hoping you\\'ll walk through And save me boy, Because I\\'m too crazy for you. Crazy for you Everybody tells me it\\'s \\'bout time that I moved on And I need to learn to lighten up and learn how to be young But my heart is a valley, it\\'s so shallow and man made I\\'m scared to death if I let you in that you\\'ll see I\\'m just a fake Sometimes I feel lonely in the arms of your touch But I know that\\'s just me, \\'cause nothing ever is enough When I was a child I grew up by the River Lea There was something in the water, now that something\\'s in me Oh I can\\'t go back, but the reeds are growing out of my fingertips I can\\'t go back to the river But it\\'s in my roots, it\\'s in my veins It\\'s in my blood and I stain every heart that I use to heal the pain But it\\'s in my roots, it\\'s in my veins It\\'s in my blood and I stain every heart that I use to heal the pain So I blame it on the River Lea, the River Lea, the River Lea Yeah, I blame it on the River Lea, the River Lea, the River Lea I should probably tell you now before it\\'s way too late That I never meant to hurt you or lie straight to your face Consider this my apology, I know it\\'s years in advance But I\\'d rather say it now in case I never get the chance No, I can\\'t go back, but the reeds are growing out of my fingertips I can\\'t go back to the river But it\\'s in my roots, it\\'s in my veins It\\'s in my blood and I stain every heart that I use to heal the pain It\\'s in my roots, it\\'s in my veins It\\'s in my blood and I stain every heart that I use to heal the pain So I blame it on the River Lea, the River Lea, the River Lea Yeah I blame it on the River Lea, the River Lea, the River Lea So I blame it on the River Lea, the River Lea, the River Lea Yeah, I blame it on the River Lea, the River Lea, the River Lea I never woulda hitch-hiked to Birmingham If it hadn\\'t been for love I never woulda caught the train to Louisiana If it hadn\\'t been for love I never woulda run through the blindin\\' rain Without one dollar to my name If it hadn\\'t been, if it hadn\\'t been for love I never woulda seen the trouble that I\\'m in If it hadn\\'t been for love Woulda been gone like a wayward wind If it hadn\\'t been for love Nobody knows it better than me I wouldn\\'t be wishing I was free If it hadn\\'t been, if it hadn\\'t been for love Four cold walls against my will At least I know he\\'s lying still Four cold walls without parole Lord have mercy on my soul Four cold walls against my will At least I know he\\'s lying still Four cold walls without parole Lord have mercy on my soul I never woulda hitch-hiked to Birmingham If it hadn\\'t been for love I never woulda caught the train to Louisiana If it hadn\\'t been for love I never woulda loaded up a forty-four Put myself behind a jailhouse door If it hadn\\'t been, if it hadn\\'t been for love If it hadn\\'t been, if it hadn\\'t been for love, yes If it hadn\\'t been, if it hadn\\'t been for love, yes Hold my hand while you cut me down It had only just begun but now it\\'s over now And you\\'re in the heat of moments with your heart playing up cold I\\'m between the middle watching hastiness unfold On my eyes you were smiling in the spotlight dancing with the night The night When I fell off your mind I\\'m tired of trying Your teasing ain\\'t enough Fed up of biding your time When I don\\'t get nothing back And for what, and for what, and for what When I don\\'t get nothing back Oy, I\\'m tired Where\\'d you go when you stayed behind I looked up and inside down and outside only to find A double taking punching hard and laughing at my smile I get closer you obviously prefer her I\\'m tired of trying Your teasing ain\\'t enough Fed up of biding your time When I don\\'t get nothing back And for what, and for what, and for what When I don\\'t get nothing back Boy I\\'m tired of trying Your teasing ain\\'t enough Fed up of biding your time When I don\\'t get nothing back And for what, and for what, and for what When I don\\'t get nothing back Oy, I\\'m tired (I should have known) Never mind said your open arms I couldn\\'t help believe they tricked me back into them, even though I\\'m tired of trying Your teasing ain\\'t enough Fed up of biding your time When I don\\'t get nothing back And for what, and for what, and for what When I don\\'t get nothing back Boy I\\'m tired of trying Your teasing ain\\'t enough Fed up of biding your time When I don\\'t get nothing back And for what, and for what, and for what When I don\\'t get nothing back Oy, I\\'m tired Who wants to be right as rain It\\'s better when something is wrong You get excitement in your bones And everything you do\\'s a game When night comes and you\\'re on your own You can say I chose to be alone Who wants to be right as rain It\\'s harder when you\\'re on top \\'Cause when hard work don\\'t pay off And I\\'m tired there ain\\'t no room in my bed As far as I\\'m concerned So wipe that dirty smile off We won\\'t be making up I\\'ve cried my heart out And now I\\'ve had enough of love Who wants to be riding high When you\\'ll just crumble back on down You give up everything you are And even then you don\\'t get far They make believe that everything Is exactly what it seems But at least when you\\'re at your worst You know how to feel things \\'Cause when hard work don\\'t pay off And I\\'m tired there ain\\'t no room in my bed As far as I\\'m concerned So wipe that dirty smile off We won\\'t be making up I\\'ve cried my heart out And now I\\'ve had enough of love Go ahead and still my heart To make me cry again \\'Cause it will never hurt As much as it did then We were both right And no one had blame But now I give up On this endless game \\'Cause who wants to be right as rain It\\'s better when something is wrong I get excitement in my bones Even though everything\\'s a strain When night comes and I\\'m on my own You should know I chose to be alone Who wants to be right as rain It\\'s harder when you\\'re on top \\'Cause when hard work don\\'t pay off And I\\'m tired there ain\\'t no room in my bed As far as I\\'m concerned So wipe that dirty smile off We won\\'t be making up I\\'ve cried my heart out And now I\\'ve had enough of love No room in my bed As far as I\\'m concerned So wipe that dirty smile off We won\\'t be making up I\\'ve cried my heart out And now I\\'ve had enough of love So little to say but so much time Despite my empty mouth the words are in my mind Please wear the face, the one where you smile Because you lighten up my heart when I start to cry Forgive me first love, but I\\'m tired I need to get away to feel again Try to understand why, don\\'t get so close to change my mind Please wipe that look out of your eyes, it\\'s bribing me to doubt myself Simply, it\\'s tiring This love has dried up and stayed behind And if I stay I\\'ll be alive Then choke on words I\\'d always hide Excuse me first love, but we\\'re through I need to taste the kiss from someone new Forgive me first love, but I\\'m too tired I\\'m bored to say the least and I, I lack desire Forgive me first love, forgive me first love, forgive me first love Forgive me first love forgive me, forgive me first love, forgive me first love This is the end Hold your breath and count to ten Feel the earth move and then Hear my heart burst again For this is the end I\\'ve drowned and dreamt this moment So overdue I owe them Swept away, I\\'m stolen Let the skyfall When it crumbles We will stand tall Face it all together Let the skyfall When it crumbles We will stand tall Face it all together At skyfall At skyfall Skyfall is where we start A thousand miles and poles apart Where worlds collide and days are dark You may have my number, you can take my name But you\\'ll never have my heart Let the skyfall (let the sky fall) When it crumbles (when it crumbles) We will stand tall (we will stand tall) Face it all together Let the skyfall (let the sky fall) When it crumbles (when it crumbles) We will stand tall (we will stand tall) Face it all together At skyfall [x2:] (Let the sky fall When it crumbles We will stand tall) Where you go I go What you see I see I know I\\'d never be me Without the security Of your loving arms Keeping me from harm Put your hand in my hand And we\\'ll stand Let the skyfall (let the sky fall) When it crumbles (when it crumbles) We will stand tall (we will stand tall) Face it all together Let the skyfall (let the sky fall) When it crumbles (when it crumbles) We will stand tall (we will stand tall) Face it all together At skyfall Let the sky fall We will stand tall At skyfall This is how the story went I met someone by accident It blew me away Blew me away It was in the darkest of my days When you took my sorrow and you took my pain And buried them away, you buried them away I wish I could lay down beside you When the day is done And wake up to your face against the morning sun But like everything I\\'ve ever known You disappear one day So I spend my whole life hiding my heart away Dropped you off at the train station Put a kiss on top of your head Watch you wave And watched you wave Then I went on home to my skyscrapers And neon lights and waiting papers That I call home I call that home I wish I could lay down beside you When the day is done And wake up to your face against the morning sun But like everything I\\'ve ever known You disappear one day So I spend my whole life hiding my heart away, away Woke up feeling heavy-hearted I\\'m going back to where I started The morning rain, the morning rain And though I wish that you were here On that same old road that brought me here It\\'s calling me home, It\\'s calling me home I wish I could lay down beside you When the day is done And wake up to your face against the morning sun But like everything I\\'ve ever known You disappear one day So I spend my whole life hiding my heart away I can\\'t spend my whole life hiding my heart away Right under my feet there\\'s air made of bricks Pulls me down turns me weak for you I find myself repeating like a broken tune And I\\'m forever excusing your intentions That I give in to my pretendings Which forgive you each time Without me knowing They melt my heart to stone And I hear your words that I made up You say my name like there could be an us I best tidy up my head I\\'m the only one in love I\\'m the only one in love Each and every time I turn around to leave I feel my heart begin to burst and bleed So desperately I try to link it with my head But instead I fall back to my knees As you tear your way right through me I forgive you once again Without me knowing You\\'ve burnt my heart to stone And I hear your words that I made up You say my name like there could be an us I best tidy up my head I\\'m the only one in love I\\'m the only one in love Why do you steal my hand Whenever I\\'m standing my own ground You build me up, then leave me dead I hear your words you made up I say your name like there should be an us I best tidy up my head I\\'m the only one, in love I\\'m the only one in love Fool that I am for falling in love with you And fool that I am for thinking you loved me too You took my heart then played the part of little coquette And my dreams just disappeared like the smoke from a cigarette Fool that I am for hoping you\\'d understand And thinking you would listen to all of the things The things I had planned But we couldn\\'t see eye to eye So darling Darling Darling this is goodbye Oh I still care Fool that I am Ooh I still care Fool that I am You say it\\'s all in my head And the things I think just don\\'t make sense So where you been then? Don\\'t go all coy Don\\'t turn it round on me like it\\'s my fault See I can see that look in your eyes The one that shoots me each and every time You grace me with your cold shoulder Whenever you look at me I wish I was her You shower me with words made of knives Whenever you look at me I wish I was her These days when I see you You make it look like I\\'m see-through Do tell me why you waste our time When your heart ain\\'t in it, and you\\'re not satisfied You know I know just how you feel I\\'m starting to find myself feeling that way too When you grace me with your cold shoulder Whenever you look at me I wish I was her You shower me with words made of knives Whenever you look at me I wish I was her Time and time again, I play the role of fool (Just for you) Even in the daylight when you think that (I don\\'t see you) Try to look for things I hear but our eyes never find Though I do know how you play You grace me with your cold shoulder Whenever you look at me I wish I was her You shower me with words made of knives Whenever you look at me I wish I was her You grace me with your cold shoulder Whenever you look at me I wish I was her You shower me with words made of knives Whenever you look at me I wish I was her [Adele] Why do you love me Do you love me...? Why do you love me Do you love me? Why do you love me Do you love me? Why do you love me...? Why do you love me, do you love me? Why do you love me, do you love me? Why do you love me, do you love me? Why do you love me? Why do you love me? There must be something in the water Cause baby I\\'m in deeper than I knew How do you keep me coming back for more After all we\\'ve been through I can\\'t decide if I should run and hide It\\'s above and beyond me It\\'s out of my hands Your love drives me crazy It\\'s hard to understand just why I want you to love me I want you to love me I want you to love me I want you to love me... Who knows why I love you It could be something in the air I breath Whatever it is, I depend on it Where does the time go? I spend every single moment daydreaming of you I can\\'t describe how I feel, it feels right It\\'s above and beyond me It\\'s out of my hands Your love drives me crazy It\\'s hard to understand just why I want you to love me I want you to love me I want you to love me I want you to love me You were a shock in the dark that blew me away And you left your mark and it never will fade You ignited a spark, let the fires away Are you ready, ready? You have a place in my heart that will always be yours You are the peak and art of my universe Every piece and part, you were the first I am ready, ready It\\'s above and beyond me, It\\'s out of my hands Your love drives me crazy, it\\'s hard to understand just why I want you to love me I want you to love me I want you to love me I want you It\\'s above and beyond me, It\\'s out of my hands Your love drives me crazy, it\\'s hard to understand just why I want you to love me I want you to love me I want you to love me I want you to love me... Why do you love me, do you love me? Why do you love me, do you love me? Why do you love me, do you love me? Why do you love me, do you love me? You said I\\'m stubborn and I never give in I think you\\'re stubborn \\'cept you\\'re always softening You say I\\'m selfish, I agree with you on that I think you\\'re giving out in way too much in fact I say we\\'ve only known each other a year You say I\\'ve known you longer my dear You like to be so close, I like to be alone I like to sit on chairs and you prefer the floor Walking with each other, Think we\\'ll never match at all, but we do But we do, but we do, but we do I thought I knew myself, somehow you know me more I\\'ve never known this, never before You\\'re the first to make up whenever we argue I don\\'t know who I\\'d be if I didn\\'t know you You\\'re so provocative, I\\'m so conservative You\\'re so adventurous, I\\'m so very cautious, combining You think we would and we do, But we do, but we do, but we do Favoritism ain\\'t my thing but, In this situation I\\'ll be glad Favoritism ain\\'t my thing but, In this situation I\\'ll be glad to make an exception You said I\\'m stubborn and I never give in I think you\\'re stubborn \\'cept you\\'re always softening You say I\\'m selfish, I agree with you on that I think you\\'re giving out in way too much in fact I say we\\'ve only known each other one year You say I\\'ve known you longer my dear You like to be so close, I like to be alone I like to sit on chairs and you prefer the floor Walking with each other, Think we\\'ll never match at all, but we do In the darkness of my heart is a shadow of your face From the deepest part of my regret I hear the words I wish I\\'d said At the dawning of the day I can\\'t wait to see the light Make up memories in my head They help to fill the emptiness you\\'ve left I can\\'t drown in your tears I won\\'t face your fears I need to fight my own You\\'ll never see me again oh baby in time Let the weight take me under I know I\\'ll survive You\\'ll never see me again At the dawning of the day I can\\'t bare to see the light Make up memories in my head They help to fill the emptiness you\\'ve left I can\\'t drown in your tears I won\\'t face your fears I need to fight my own You\\'ll never see me again oh baby in time Let the weight take me under I know I\\'ll survive Let the floor beneath of me fall Let the sky come crashing down Turn all my right to wrong But after you that goes on You\\'ll never see me again I\\'ve been learning to live without you It\\'s taken all of my stake But I\\'m stronger now You\\'ll never see me again oh baby in time Let the weight take me under I know I\\'ll survive Let the floor beneath of me fall Let the sky come crashing down Turn all my right to wrong But after you that goes on You\\'ll never see me again You\\'ll never see me again You\\'ll never see me again I want to see your face in every kind of light In fields of dawn and forests of the night And when you stand before the candles on a cake Oh, let me be the one to hear the silent wish you make What are you doing the rest of your life? North and South and East and West of your life I have only one request of your life That you spend it all with me All the seasons and the times of your days All the nickels and the dimes of your days Let the reasons and the rhymes of your days All begin and end with me I want to see your face in every kind of light In the fields of dawn and the forests of the night And when you stand before the candles on a cake Oh, let me be the one to hear the silent wish you make Those tomorrows waiting deep in your eyes In the world of love that you keep in your eyes I\\'ll awaken what\\'s asleep in your eyes It may take a kiss or two Through all of my life Summer, Winter, Spring, and Fall of my life All I ever will recall of my life Is all of my life with you Wait, do you see my heart on my sleeve? It\\'s been there for days on end and It\\'s been waiting for you to open up Yours too baby, come on now I\\'m trying to tell you just how I\\'d like to hear the words roll out of your mouth finally Say that it\\'s always been me That\\'s made you feel the way you\\'ve never felt before And I\\'m all you need and that you never want more Then you\\'d say all of the right things without a clue But you\\'d save the best for last Like I\\'m the one for you You should know that you\\'re just a temporary fix This is not rooted with you it don\\'t mean that much to me Oh just a filler in the space that happened to be free How dare you think you\\'d get away with trying to play me Why is it every time I think I\\'ve tried my hardest It turns out it ain\\'t enough You\\'re still not mentioning love What am I supposed to do to make you want me properly? I\\'m taking these chances and getting nowhere And though I\\'m trying my hardest you go back to her And I think that I know things may never change I\\'m still hoping one day I might hear you say I make you feel the way you\\'ve never felt before And I\\'m all you need and that you never want more Then you\\'d say all of the right things without a clue But you\\'d save the best for last Like I\\'m the one for you You should know that you\\'re just a temporary fix This is not rooted with you it don\\'t mean that much to me Oh just a filler in the space that happened to be free How dare you think you\\'d get away with trying to play me But, despite the truth that I know I find it hard to let go and give up on you Seems I love the things you do Like the meaner you treat me the more eager I am To persist with this heartbreak and running around And I will do until I\\'m finding myself you And make you feel a way you\\'ve never felt before And be all you need so that you never want more And you\\'ll say all of the right things without a clue And you\\'ll be the one for me and me the one for you I let it fall, my heart, And as it fell you rose to claim it It was dark and I was over Until you kissed my lips and you saved me My hands, they\\'re strong But my knees were far too weak To stand in your arms Without falling to your feet But there\\'s a side to you That I never knew, never knew All the things you\\'d say They were never true, never true And the games you play You would always win, always win But I set fire to the rain Watched it pour as I touched your face Well, it burned while I cried \\'Cause I heard it screaming Out your name, Your name When I lay with you I could stay there Close my eyes Feel you here forever You and me together nothing gets better \\'Cause there\\'s a side to you That I never knew, never knew All the things you\\'d say They were never true, never true And the games you play You would always win, always win But I set fire to the rain Watched it pour as I touched your face Well, it burned while I cried \\'Cause I heard it screaming out your name, Your name I set fire to the rain And I threw us into the flames Well, it felt something died \\'Cause I knew that that was The last time, the last time Sometimes I wake up by the door, That heart you caught must be waiting for you Even now when we\\'re already over I can\\'t help myself from looking for you I set fire to the rain Watched it pour as I touched your face Well, it burned while I cried \\'Cause I heard it screaming Out your name, Your name I set fire to the rain, And I threw us into the flames Well, it felt something died \\'Cause I knew that, that was the last time The last time Let it burn Let it burn Let it burn [Adele] I would never lie to you unless you tell me to... Every part of me All my words to hold And hold against me Why won\\'t you let it be? Don\\'t you ever say my love opened up your heart No I\\'m not gonna do it standing up The words don\\'t come out right when you\\'re right in front of me Help me baby Won\\'t you turn off the lights Lay me down \\'til the morning! Lay me down (through the night) Lay me down (I can fall in) Lay me down (Won\\'t you) Lay me down (I can baby) Lay me down (Someone believe me) I would never break the rules unless you tell me to You can read my mind, be it truth or lies Lie down beside me, why won\\'t you let it be? Don\\'t you ever say my love opened up your heart No I\\'m not gonna do it standing up The words don\\'t come out right when you\\'re right in front of me Help me baby, won\\'t you turn off the lights Lay me down (\\'til the morning) Lay me down (through the night) Lay me down (I can fall in) Lay me down (Won\\'t you) Lay me down (I can baby) Lay me down (Someone believe me) Lay down with me Lay down with me Lay down with me Lay down with me Words don\\'t come out right when you\\'re right in front of me Help me baby, won\\'t you turn off the lights Lay me down (\\'til the morning) Lay me down (through the night) Lay me down (I can fall in) Lay me down (Won\\'t you) Lay me down (I can baby) Lay me down Someone believe me Never been a girl who used to cry Didn`t show emotions, don`t know why Didn`t wanna feel the pain inside, I guess But as the years keep going by, you came along and changed my mind I should leave the past behind me, I should let you find me, supposed to stay beside me You were supposed to guide me, through the ups and downs, you were always gonna be around until the end I still think we could `cause you and me, we`re good And I`ll tell you why this hurts, \\'cause I`m sober But I just wanna be drunk so I can forget about you and all the stupid things that love has put me through Even when I\\'ve had too much, I still feel your touch Maybe this just means that I`m not drunk enough So I pour myself another drink whenever I start to think about you `cause I do but I really don`t want to but sometimes my dreams just come through And when I get there, to a place where I see you in a kitchen I start wishing for that thing and I don`t need you, I don`t really wanna see you and I don`t want you to see me, you would think that I was crazy, you might think that I wanna be close to you but I`d rather wanna drink some Whisky and maybe have a little sip `o wine `cause right now it`s the only thing that makes me forget you were mine but right now I am sober But I just wanna be drunk so I can forget about you and all the stupid things that love has put me through Even when I\\'ve had too much, I still feel your touch Maybe this just means that I`m not drunk enough I still think we could (I`m not drunk enough) `cause you and me, we`re good `cause I`m sober But I just wanna be drunk so I can forget about you and all the stupid things that love has put me through Even when I\\'ve had too much, I still feel your touch Maybe this just means that I`m not drunk enough (I still think we could) But I just wanna be drunk so I can forget about you and all the stupid things that love has put me through (`cause you and me we`re good) Even when I\\'ve had too much, I still feel your touch Maybe this just means that I`m not drunk enough Think I\\'ve had enough I must my way I\\'ve fallen off the edge to find that I\\'ve gone blind You\\'re leading me astray You haunt me like a ghost And that scares me the most There you are the devil on my shoulder Smiling as the flames are growing colder How can I believer what I have? For a little confidence I\\'ll grab But when my hand goes out don\\'t take it for I\\'m trying to make it on my own I fell it in my bones any minute now! This train of thought will leave the statio My impatience will come out to play You\\'ve turned out to be the only face I see! Running through the empty hallways I can tell that I am not alone You spin a web in every room You spin a web in every room And try to break the backbone that I\\'ve grown Will I make my own path or wander where I\\'m thrown Will I make my own path or wander where I\\'m thrown Or wander where I\\'m thrown? When we used To say goodnight I\\'d always kiss And hold you tight But lately You don\\'t seem To care You close the door And leave me Standing there Oh, honey That\\'s not fair That\\'s it I quit I\\'m movin\\' on The other night We had a date An you showed up Two hours late And though your hair Was all in place Somebody smeared Their lipstick On your face Oh, they smeared it Every place Ye that\\'s it honey I quit I\\'m movin\\' on [Chorus] You made me want you You made me leave you You made me tumble And fall But if I Can\\'t have you the way I want you I don\\'t want you at all Baby, I can take a lot \\'Cause I love Everything you got Though your kisses Fill me So if you got Someone else I gotta go Oh, that you know Ye that\\'s it honey I quit I\\'m movin\\' on [Chorus] Baby I can take a lot \\'Cause I love Everything you got Though your kisses Fill me So if you got Someone else I gotta go Oh, that you know So that\\'s it baby I quit I\\'m movin\\' on Ye that\\'s it baby I quit now I\\'m movin\\' on Don\\'t ask me What you know is true Don\\'t have to tell you I love your precious heart I was standing You were there Two worlds collided And they could never tear us apart We could live For a thousand years But if I hurt you I\\'d make wine from your tears I told you That we could fly \\'Cause we all have wings But some of us don\\'t know why I I was standing You were there Two worlds collided And they could never ever tear us apart I know sometimes you\\'re scared of the light But how will you ever know if you never try There\\'s something new inside my heart And it grabs like a child whenever we\\'re apart I see your face under every sky I find the less I look, more I find So let\\'s go back there, back to the star You know I\\'m never gonna leave you You\\'re the only one I want Let\\'s go back there, back to the star You know I\\'m never gonna leave you You\\'re the only one I want You know sometimes that I\\'m scared of the dark But I\\'m feeling sun babe when I\\'m in your arms You said my name in the dead of glory You hold me alright When I\\'m short of falling So let\\'s go back there, back to the star You know I\\'m never gonna leave you You\\'re the only one I want Let\\'s go back there, back to the star You know I\\'m never gonna leave you You\\'re the only one I want There will be times When we\\'ll try to give it up Bursting out, it seems no doubt that will almost fall apart than burn to pieces And we\\'ll watch them turn to dust But without each other, nothing is easy enough So let\\'s go back there, back to the star You know I\\'m never gonna leave you You\\'re the only one I want Let\\'s go back there, back to the star You know I\\'m never gonna leave you \\'cause you\\'re the only one I want, yeah You\\'re the only one Never gonna leave you No, I\\'m never gonna leave you, no Go ahead, go ahead and smash it on the floor Take whatever is left, and take it with you out the door See if I cry See if I shed a single sorry tear Can\\'t say that it\\'s been that great No in fact it\\'s been a wasted worried year [Chorus] Everybody sees And everyone agrees That you and I are wrong And it\\'s been that way to long Take it as it comes And be thankful when it\\'s done There\\'s so many ways to act And there\\'s many shades of black There\\'s so many shades of black Let it out, let it all out Say what\\'s on your mind You can kick and scream and shout and say things that are so unkind Yeah-see if I care, see if I stand firm or if I fall Cause in the back of my mind, and on the tip of my tongue Is the answer to it all [Chorus] Yeah there\\'s many shades of black [Chorus] Cause there\\'s many shades of black There\\'s so many shades of black Yeah there\\'s any shades of black There\\'s so many shades of black Yeah there\\'s many shades of black There\\'s so many shades of black And there\\'s many shades of black There\\'s so many shades of black Go ahead... Last night she said Oh, baby I feel so down Oh, and turned me off When I feel left out So I I turned around Oh, baby I don\\'t care no more I know this for sure I\\'m walking Out that door Well, I\\'ve been in town For just about fifteen Whole minutes now Oh, baby, I feel so down And I don\\'t know why I keep walking for miles But the people They don\\'t understand No, girlfriends They can\\'t understand Your grandsons They won\\'t understand On top of this I ain\\'t ever Gonna understand Last night she said Oh, baby Don\\'t feel so down Oh, and turned me off When I feel left out So I, I turned around Oh, baby I\\'m gonna be alright It was a great big lie Cuz I left that night Yeah Oh, people They don\\'t understand No, girlfriends They don\\'t understand In spaceships They won\\'t understand And me I ain\\'t ever Gonna understand Last night she said Oh, baby I feel so down She had turned me off When I feel left out So I I turned around Oh, little girl I don\\'t care no more I know this for sure I\\'m walking Out that door, yeah Painting pictures with my mind Making memories using my eyes Filling up my heart with golden stories Who adds some spice to the rhythm of life, oh Welcome sunrise with the morning glory I\\'ve changed my mind There is no simple I thought of me, I want to see I want to feel my heartbeat so With the world that you feel, leave I can feel the pressure pushing onto my heart And it\\'s teasing me To scratch my itch and beat my drum So I can start to begin what\\'s begun Painting pictures Filling up my heart with golden stories Painting pictures Filling up my heart with golden stories Running riots inside my soul Fire burning and it\\'s lighting me up To scratch my itch and beat my drum So I can finish what has begun Painting pictures Filling up my heart with golden stories Painting pictures Filling up my heart with golden stories Sometimes the hole you left hurts My heart so bad, it cuts through The deepest parts of me and fills up my mouth with the words that cry Out, I\\'m still trying to stay inside Hearts break and hearts wait To make us grow from dust Then our eyes cry and souls sigh So that we know that it hurts Our hearts break and hearts wait To make us grow from dust Then our eyes cry and souls sigh So that we know that it hurts Every now and then my memories ache With empty ideas of the ones we\\'d have made it But as time goes on and my age gets older I love the ones I know, they\\'re enough to picture the rest \\'Cause heart break and hearts wait To make us grow from dust Then our eyes cry and souls sigh So that we know that it hurts Our hearts break and hearts wait To make us grow from dust Then our eyes cry and souls sigh So that we know that it hurts You know when to make me, imagine you\\'re here You know when to make me, imagine you\\'re here You know when to make me, imagine you\\'re here You know when to make me, imagine you\\'re here Find yourself a girl And settle down Live a simple life In a quiet town Steady as she goes (Steady as she goes) Steady as she goes (Steady as she goes) So steady as she goes Your friends have shown A kink In the single life You\\'ve had Too much to think Now you need a wife Steady as she goes (Steady as she goes) So steady as she goes (Steady as she goes) Well here we go again You\\'ve found yourself A friend That knows you well But no matter What you do You\\'ll always feel As though you Tripped and fell So steady as she goes When you have completed What you thought You had to do And your blood\\'s Depleted To the point Of stable glue Then you\\'ll get along Then you\\'ll get along Steady as she goes (Steady as she goes) So steady as she goes (Steady as she goes) Well here we go again You\\'ve found yourself A friend That knows you well But no matter What you do You\\'ll always feel As though you Tripped and fell So steady as she goes Steady as she goes Settle for a girl (Settle for a girl) Neither up or down (Neither up or down) Sell it to the crowd (Sell it to the crowd) That is gathered round (That is gathered round) Settle for a girl (Settle for a girl) Neither up or down (Neither up or down) Sell it to the crowd (Sell it to the crowd) That is gathered round (That is gathered round) So steady as she goes (Steady as she goes) Steady as she goes (Steady as she goes) Steady as she goes (Steady as she goes) So steady as she goes (Steady as she goes) Steady as she go Are you steady now? Steady as she goes Are you steady now? Steady as she goes Are you steady now? Steady as she goes Are you steady now? Steady as she goes I\\'m insane in the brain You\\'re not already... Feel the pain running through my veins Don\\'t you piss me off, pretentious, ostentatious Other words are spring to me ... emolicious, for the shoot posses no... And you want me to respect you And have... for yourself You\\'re out of control with nobody around to help Help, help oh oh. Chorus: This time you\\'re on your own Running back to mommy hoping that she\\'s home But if she\\'s not there and you\\'re on your alone So... you then go calling Call it a fiasco, call it a fiasco, fiasco ... fiasco, fiasco,... fiasco 1 2 3 4. Hustle... Wanna try to testify in a... of happiness Be the best, have success, Doesn\\'t mean you\\'re Hollywood Feel blessed not impressed By the glamour if you think you could. And you want me to respect you And have... for yourself You\\'re out of control with nobody around to help Help, help oh oh. Chorus: This time you\\'re on your own Running about the mammy hoping that she\\'s home But if she\\'s not there and you\\'re on your alone So... you then go calling Fiasco, call it fiasco, fiasco ... fiasco, fiasco,... fiasco 1 2 3 4. Fiasco, fiasco [Chorus:] 1 2 3 4 I\\'m calling, I\\'m calling, I\\'m calling it fiasco, I\\'m calling, I\\'m calling, I\\'m calling it fiasco, I\\'m calling, I\\'m calling, I\\'m calling it fiasco. '"
            ]
          },
          "metadata": {
            "tags": []
          },
          "execution_count": 8
        }
      ]
    },
    {
      "cell_type": "code",
      "metadata": {
        "id": "n_SuOFp_iKGG"
      },
      "source": [
        "## Remove punctuation from data"
      ],
      "execution_count": 9,
      "outputs": []
    },
    {
      "cell_type": "code",
      "metadata": {
        "id": "81mMZpmwmpsj"
      },
      "source": [
        "import re"
      ],
      "execution_count": 10,
      "outputs": []
    },
    {
      "cell_type": "markdown",
      "metadata": {
        "id": "AX3p4ORWmoG5"
      },
      "source": [
        ""
      ]
    },
    {
      "cell_type": "code",
      "metadata": {
        "id": "FZTnjjEIiVAK"
      },
      "source": [
        "def data_clean(data):\n",
        "  tokens=data.split()\n",
        "  #tokens=str.maketrans('','',string.punctuation)\n",
        "  punc = '''!()-[]{};:'\"\\, <>./?@#$%^&*_~'''\n",
        "  #if tokens in punc:\n",
        "    #tokens = tokens.replace(tokens, \"\")    \n",
        "  #tokens=[w.translate(table) for w in tokens]\n",
        "  tokens=[word for word in tokens if word.isalpha()]\n",
        "  tokens=[word.lower() for word in tokens]\n",
        "  return tokens\n"
      ],
      "execution_count": 22,
      "outputs": []
    },
    {
      "cell_type": "code",
      "metadata": {
        "id": "f22TCCotjxZ3"
      },
      "source": [
        "tokens=data_clean(data)"
      ],
      "execution_count": 23,
      "outputs": []
    },
    {
      "cell_type": "code",
      "metadata": {
        "id": "P0z66YjTj3pc"
      },
      "source": [
        "punc = '''!()-[]{};:'\"\\, <>./?@#$%^&*_~'''\n",
        "for token in tokens:\n",
        "  if token in punc:\n",
        "    tokens=tokens.replace(token,\"\")\n"
      ],
      "execution_count": 24,
      "outputs": []
    },
    {
      "cell_type": "code",
      "metadata": {
        "id": "qZF5CK4wnxha",
        "outputId": "d06c7584-aca0-4b41-d4c9-1de5e8a19f99",
        "colab": {
          "base_uri": "https://localhost:8080/",
          "height": 34
        }
      },
      "source": [
        "len(tokens)"
      ],
      "execution_count": 25,
      "outputs": [
        {
          "output_type": "execute_result",
          "data": {
            "text/plain": [
              "16598"
            ]
          },
          "metadata": {
            "tags": []
          },
          "execution_count": 25
        }
      ]
    },
    {
      "cell_type": "code",
      "metadata": {
        "id": "u1yx34Wfpurd"
      },
      "source": [
        "vec_dim=len(set(tokens))"
      ],
      "execution_count": 26,
      "outputs": []
    },
    {
      "cell_type": "code",
      "metadata": {
        "id": "Rim_YMlspyWw"
      },
      "source": [
        "max_length=20+1\n",
        "lines=[]\n",
        "for i in range(max_length,len(tokens)):\n",
        "  seq=tokens[i-max_length:i]\n",
        "  line=' '.join(seq)\n",
        "  lines.append(line)\n",
        "  if i>2000:\n",
        "    break;\n"
      ],
      "execution_count": 27,
      "outputs": []
    },
    {
      "cell_type": "code",
      "metadata": {
        "id": "oQYQ8ji0rh7U",
        "outputId": "a27ed28c-36b0-4e52-da6b-5d4ab0c83fd5",
        "colab": {
          "base_uri": "https://localhost:8080/",
          "height": 34
        }
      },
      "source": [
        "print(len(lines))"
      ],
      "execution_count": 28,
      "outputs": [
        {
          "output_type": "stream",
          "text": [
            "1981\n"
          ],
          "name": "stdout"
        }
      ]
    },
    {
      "cell_type": "code",
      "metadata": {
        "id": "CnrauKEnrly0",
        "outputId": "dfacee2b-aafa-4689-845e-0a930a7e510b",
        "colab": {
          "base_uri": "https://localhost:8080/",
          "height": 35
        }
      },
      "source": [
        "lines[0]"
      ],
      "execution_count": 29,
      "outputs": [
        {
          "output_type": "execute_result",
          "data": {
            "application/vnd.google.colaboratory.intrinsic+json": {
              "type": "string"
            },
            "text/plain": [
              "'looking for some education made my way into the night all that bullshit conversation you read the i bore you with'"
            ]
          },
          "metadata": {
            "tags": []
          },
          "execution_count": 29
        }
      ]
    },
    {
      "cell_type": "code",
      "metadata": {
        "id": "WyOZdQZtroUH"
      },
      "source": [
        "import  numpy as np\n",
        "from tensorflow.keras.preprocessing.text import Tokenizer\n",
        "from tensorflow.keras.utils import to_categorical\n",
        "from tensorflow.keras.layers import Dense,LSTM,Embedding\n",
        "from tensorflow.keras.models import Sequential\n",
        "from tensorflow.keras.preprocessing.sequence import pad_sequences"
      ],
      "execution_count": 82,
      "outputs": []
    },
    {
      "cell_type": "code",
      "metadata": {
        "id": "mdWdemJoHWXh"
      },
      "source": [
        "tokenizer=Tokenizer()\n",
        "tokenizer.fit_on_texts(lines)"
      ],
      "execution_count": 33,
      "outputs": []
    },
    {
      "cell_type": "code",
      "metadata": {
        "id": "l_5tlM-CHwGd",
        "outputId": "0946fa09-96e6-4cff-ddbb-9f6dfd5e6cc0",
        "colab": {
          "base_uri": "https://localhost:8080/",
          "height": 1000
        }
      },
      "source": [
        "tokenizer.word_index\n"
      ],
      "execution_count": 36,
      "outputs": [
        {
          "output_type": "execute_result",
          "data": {
            "text/plain": [
              "{'a': 19,\n",
              " 'about': 205,\n",
              " 'absence': 229,\n",
              " 'affirmation': 222,\n",
              " 'after': 305,\n",
              " 'all': 16,\n",
              " 'almost': 202,\n",
              " 'already': 216,\n",
              " 'always': 120,\n",
              " 'and': 6,\n",
              " 'anymore': 58,\n",
              " 'apart': 153,\n",
              " 'are': 27,\n",
              " 'arms': 363,\n",
              " 'as': 69,\n",
              " 'ask': 154,\n",
              " 'asking': 349,\n",
              " 'at': 88,\n",
              " 'babies': 227,\n",
              " 'baby': 28,\n",
              " 'back': 184,\n",
              " 'bad': 170,\n",
              " 'bare': 197,\n",
              " 'be': 30,\n",
              " 'beat': 138,\n",
              " 'beating': 289,\n",
              " 'been': 333,\n",
              " 'before': 207,\n",
              " 'best': 110,\n",
              " 'better': 372,\n",
              " 'between': 322,\n",
              " 'bittersweet': 272,\n",
              " 'blessings': 295,\n",
              " 'blue': 180,\n",
              " 'bore': 221,\n",
              " 'born': 259,\n",
              " 'both': 330,\n",
              " 'bound': 263,\n",
              " 'bread': 177,\n",
              " 'breaking': 150,\n",
              " 'breathless': 203,\n",
              " 'bringing': 194,\n",
              " 'bullshit': 385,\n",
              " 'burn': 124,\n",
              " 'but': 12,\n",
              " 'by': 38,\n",
              " 'california': 314,\n",
              " 'call': 145,\n",
              " 'called': 142,\n",
              " 'calling': 234,\n",
              " 'came': 249,\n",
              " 'can': 22,\n",
              " 'cares': 268,\n",
              " 'caught': 379,\n",
              " 'cause': 373,\n",
              " 'claim': 352,\n",
              " 'clear': 275,\n",
              " 'clearly': 151,\n",
              " 'close': 368,\n",
              " 'clothes': 240,\n",
              " 'coming': 337,\n",
              " 'conversation': 384,\n",
              " 'could': 40,\n",
              " 'count': 294,\n",
              " 'cried': 374,\n",
              " 'cruel': 347,\n",
              " 'cry': 366,\n",
              " 'crystal': 274,\n",
              " 'cupid': 232,\n",
              " 'dark': 136,\n",
              " 'day': 238,\n",
              " 'days': 266,\n",
              " 'deep': 86,\n",
              " 'depths': 285,\n",
              " 'despair': 286,\n",
              " 'did': 327,\n",
              " 'difference': 321,\n",
              " 'do': 31,\n",
              " 'done': 118,\n",
              " 'door': 140,\n",
              " 'down': 181,\n",
              " 'dreaming': 315,\n",
              " 'dreams': 248,\n",
              " 'ease': 167,\n",
              " 'education': 386,\n",
              " 'ends': 160,\n",
              " 'enough': 169,\n",
              " 'even': 125,\n",
              " 'ever': 210,\n",
              " 'every': 198,\n",
              " 'everything': 117,\n",
              " 'eyes': 72,\n",
              " 'face': 94,\n",
              " 'falling': 365,\n",
              " 'far': 359,\n",
              " 'fast': 99,\n",
              " 'fed': 178,\n",
              " 'feel': 369,\n",
              " 'feeling': 204,\n",
              " 'feet': 209,\n",
              " 'fell': 208,\n",
              " 'felt': 206,\n",
              " 'fever': 193,\n",
              " 'fight': 187,\n",
              " 'finally': 273,\n",
              " 'find': 80,\n",
              " 'fire': 68,\n",
              " 'flames': 376,\n",
              " 'flies': 256,\n",
              " 'for': 20,\n",
              " 'forever': 370,\n",
              " 'forget': 111,\n",
              " 'forgiveness': 350,\n",
              " 'forgotten': 319,\n",
              " 'found': 246,\n",
              " 'free': 318,\n",
              " 'friend': 155,\n",
              " 'friends': 224,\n",
              " 'from': 48,\n",
              " 'fun': 228,\n",
              " 'games': 217,\n",
              " 'gave': 252,\n",
              " 'get': 213,\n",
              " 'gets': 371,\n",
              " 'girl': 128,\n",
              " 'give': 62,\n",
              " 'glory': 265,\n",
              " 'go': 137,\n",
              " 'gold': 299,\n",
              " 'gonna': 18,\n",
              " 'got': 126,\n",
              " 'guess': 250,\n",
              " 'had': 13,\n",
              " 'hand': 51,\n",
              " 'happy': 243,\n",
              " 'hate': 185,\n",
              " 'have': 41,\n",
              " 'having': 171,\n",
              " 'haze': 262,\n",
              " 'head': 283,\n",
              " 'heal': 310,\n",
              " 'healing': 313,\n",
              " 'hear': 127,\n",
              " 'heard': 78,\n",
              " 'heart': 34,\n",
              " 'hello': 67,\n",
              " 'help': 71,\n",
              " 'hide': 254,\n",
              " 'his': 235,\n",
              " 'hold': 107,\n",
              " 'home': 116,\n",
              " 'honesty': 341,\n",
              " 'hope': 326,\n",
              " 'hoped': 188,\n",
              " 'how': 49,\n",
              " 'hurts': 64,\n",
              " 'i': 1,\n",
              " 'if': 33,\n",
              " 'in': 8,\n",
              " 'indoors': 241,\n",
              " 'inside': 87,\n",
              " 'instead': 83,\n",
              " 'into': 93,\n",
              " 'is': 25,\n",
              " 'it': 5,\n",
              " 'just': 26,\n",
              " 'keep': 102,\n",
              " 'keeps': 233,\n",
              " 'kind': 301,\n",
              " 'kissed': 354,\n",
              " 'knees': 358,\n",
              " 'knew': 161,\n",
              " 'know': 61,\n",
              " 'known': 271,\n",
              " 'knows': 343,\n",
              " 'ladies': 226,\n",
              " 'last': 90,\n",
              " 'lasts': 63,\n",
              " 'lay': 196,\n",
              " 'laying': 367,\n",
              " 'least': 148,\n",
              " 'leave': 114,\n",
              " 'left': 339,\n",
              " 'lesson': 346,\n",
              " 'let': 70,\n",
              " 'light': 255,\n",
              " 'like': 39,\n",
              " 'lips': 355,\n",
              " 'lives': 258,\n",
              " 'look': 296,\n",
              " 'looking': 96,\n",
              " 'love': 15,\n",
              " 'lovers': 159,\n",
              " 'loving': 174,\n",
              " 'made': 123,\n",
              " 'make': 37,\n",
              " 'making': 242,\n",
              " 'married': 247,\n",
              " 'matters': 119,\n",
              " 'maybe': 166,\n",
              " 'me': 10,\n",
              " 'meet': 308,\n",
              " 'memories': 270,\n",
              " 'memory': 156,\n",
              " 'met': 35,\n",
              " 'miles': 324,\n",
              " 'million': 323,\n",
              " 'mind': 98,\n",
              " 'mine': 287,\n",
              " 'miss': 76,\n",
              " 'more': 73,\n",
              " 'much': 312,\n",
              " 'my': 11,\n",
              " 'myself': 382,\n",
              " 'name': 220,\n",
              " 'need': 340,\n",
              " 'never': 14,\n",
              " 'new': 244,\n",
              " 'next': 338,\n",
              " 'night': 92,\n",
              " 'no': 55,\n",
              " 'not': 336,\n",
              " 'nothing': 42,\n",
              " 'now': 182,\n",
              " 'of': 17,\n",
              " 'oh': 172,\n",
              " 'old': 253,\n",
              " 'on': 100,\n",
              " 'one': 139,\n",
              " 'only': 190,\n",
              " 'ooh': 36,\n",
              " 'open': 293,\n",
              " 'or': 108,\n",
              " 'other': 141,\n",
              " 'our': 112,\n",
              " 'out': 43,\n",
              " 'outside': 147,\n",
              " 'over': 79,\n",
              " 'pay': 300,\n",
              " 'piece': 278,\n",
              " 'pitch': 280,\n",
              " 'play': 334,\n",
              " 'played': 52,\n",
              " 'pour': 163,\n",
              " 'pretend': 335,\n",
              " 'rain': 122,\n",
              " 'raised': 260,\n",
              " 'reaching': 192,\n",
              " 'read': 383,\n",
              " 'reap': 302,\n",
              " 'regrets': 269,\n",
              " 'remember': 81,\n",
              " 'remind': 200,\n",
              " 'reminded': 189,\n",
              " 'right': 168,\n",
              " 'rolling': 24,\n",
              " 'rose': 351,\n",
              " 'run': 345,\n",
              " 'running': 331,\n",
              " 'sad': 179,\n",
              " 'said': 82,\n",
              " 'saved': 356,\n",
              " 'say': 54,\n",
              " 'scared': 212,\n",
              " 'scars': 115,\n",
              " 'screaming': 219,\n",
              " 'secret': 329,\n",
              " 'security': 230,\n",
              " 'see': 75,\n",
              " 'seem': 146,\n",
              " 'sell': 195,\n",
              " 'set': 121,\n",
              " 'settled': 245,\n",
              " 'shared': 288,\n",
              " 'she': 251,\n",
              " 'ship': 276,\n",
              " 'shit': 277,\n",
              " 'side': 89,\n",
              " 'since': 344,\n",
              " 'slave': 236,\n",
              " 'so': 60,\n",
              " 'some': 95,\n",
              " 'someone': 109,\n",
              " 'something': 377,\n",
              " 'sometimes': 32,\n",
              " 'sorrow': 297,\n",
              " 'sorry': 57,\n",
              " 'soul': 291,\n",
              " 'sow': 303,\n",
              " 'speak': 342,\n",
              " 'stand': 362,\n",
              " 'starting': 191,\n",
              " 'stay': 133,\n",
              " 'still': 380,\n",
              " 'story': 281,\n",
              " 'strong': 357,\n",
              " 'stupid': 231,\n",
              " 'such': 320,\n",
              " 'summer': 261,\n",
              " 'sun': 223,\n",
              " 'supposed': 309,\n",
              " 'sure': 105,\n",
              " 'surprise': 264,\n",
              " 'take': 158,\n",
              " 'talk': 77,\n",
              " 'tear': 152,\n",
              " 'tell': 45,\n",
              " 'than': 74,\n",
              " 'that': 9,\n",
              " 'the': 3,\n",
              " 'their': 225,\n",
              " 'there': 103,\n",
              " 'these': 306,\n",
              " 'they': 50,\n",
              " 'things': 106,\n",
              " 'think': 284,\n",
              " 'thinking': 201,\n",
              " 'this': 46,\n",
              " 'thousand': 143,\n",
              " 'threw': 375,\n",
              " 'through': 292,\n",
              " 'throw': 290,\n",
              " 'time': 59,\n",
              " 'times': 144,\n",
              " 'to': 4,\n",
              " 'told': 282,\n",
              " 'tomorrow': 215,\n",
              " 'too': 360,\n",
              " 'touched': 164,\n",
              " 'town': 328,\n",
              " 'treasured': 298,\n",
              " 'treat': 173,\n",
              " 'tried': 149,\n",
              " 'true': 101,\n",
              " 'turn': 131,\n",
              " 'two': 134,\n",
              " 'typical': 325,\n",
              " 'underestimate': 279,\n",
              " 'uninvited': 186,\n",
              " 'until': 353,\n",
              " 'up': 132,\n",
              " 'us': 65,\n",
              " 'use': 157,\n",
              " 'used': 316,\n",
              " 'vicious': 348,\n",
              " 'waiting': 381,\n",
              " 'wake': 378,\n",
              " 'walk': 104,\n",
              " 'wanna': 97,\n",
              " 'want': 29,\n",
              " 'was': 84,\n",
              " 'wash': 239,\n",
              " 'waste': 165,\n",
              " 'watched': 162,\n",
              " 'way': 44,\n",
              " 'we': 21,\n",
              " 'weak': 361,\n",
              " 'well': 130,\n",
              " 'were': 85,\n",
              " 'what': 53,\n",
              " 'when': 66,\n",
              " 'where': 211,\n",
              " 'while': 91,\n",
              " 'who': 135,\n",
              " 'whole': 175,\n",
              " 'why': 183,\n",
              " 'wide': 176,\n",
              " 'will': 199,\n",
              " 'win': 218,\n",
              " 'wish': 23,\n",
              " 'with': 47,\n",
              " 'without': 364,\n",
              " 'wondering': 304,\n",
              " 'word': 332,\n",
              " 'work': 237,\n",
              " 'world': 129,\n",
              " 'worries': 267,\n",
              " 'would': 113,\n",
              " 'wrong': 214,\n",
              " 'ya': 311,\n",
              " 'yeah': 56,\n",
              " 'years': 307,\n",
              " 'yesterday': 257,\n",
              " 'you': 2,\n",
              " 'younger': 317,\n",
              " 'your': 7}"
            ]
          },
          "metadata": {
            "tags": []
          },
          "execution_count": 36
        }
      ]
    },
    {
      "cell_type": "code",
      "metadata": {
        "id": "d-QAlONkICUb"
      },
      "source": [
        "embedded_vector=tokenizer.texts_to_sequences(lines)"
      ],
      "execution_count": 37,
      "outputs": []
    },
    {
      "cell_type": "code",
      "metadata": {
        "id": "bwhaenC9IaeA"
      },
      "source": [
        "#embedded_vector[0]"
      ],
      "execution_count": 74,
      "outputs": []
    },
    {
      "cell_type": "code",
      "metadata": {
        "id": "p-sgHUtIPMrw"
      },
      "source": [
        "datalist = []\n",
        "for d in embedded_vector:\n",
        "  if len(d)>1:\n",
        "    for i in range(2, len(d)):\n",
        "      datalist.append(d[:i])\n",
        "      #print(d[:i])"
      ],
      "execution_count": 80,
      "outputs": []
    },
    {
      "cell_type": "code",
      "metadata": {
        "id": "lmN6ZFRoPM46",
        "outputId": "a8a9d7d1-761d-4e8f-9d4f-fd2e67060008",
        "colab": {
          "base_uri": "https://localhost:8080/",
          "height": 134
        }
      },
      "source": [
        "max_length = 20\n",
        "sequences = pad_sequences(datalist, maxlen=max_length, padding='pre')\n",
        "sequences"
      ],
      "execution_count": 83,
      "outputs": [
        {
          "output_type": "execute_result",
          "data": {
            "text/plain": [
              "array([[  0,   0,   0, ...,   0,  96,  20],\n",
              "       [  0,   0,   0, ...,  96,  20,  95],\n",
              "       [  0,   0,   0, ...,  20,  95, 386],\n",
              "       ...,\n",
              "       [  0,   0,  48, ..., 164,   7,  94],\n",
              "       [  0,  48,  96, ...,   7,  94,  70],\n",
              "       [ 48,  96,  20, ...,  94,  70,   5]], dtype=int32)"
            ]
          },
          "metadata": {
            "tags": []
          },
          "execution_count": 83
        }
      ]
    },
    {
      "cell_type": "code",
      "metadata": {
        "id": "q9XDEEjZIfd1"
      },
      "source": [
        "embedded_vector=np.array(embedded_vector)"
      ],
      "execution_count": 39,
      "outputs": []
    },
    {
      "cell_type": "code",
      "metadata": {
        "id": "nEw-M-aQIxJW",
        "outputId": "0f4fe8d8-aaab-48ee-f175-ffd652db31f9",
        "colab": {
          "base_uri": "https://localhost:8080/",
          "height": 50
        }
      },
      "source": [
        "embedded_vector[0]"
      ],
      "execution_count": 40,
      "outputs": [
        {
          "output_type": "execute_result",
          "data": {
            "text/plain": [
              "array([ 96,  20,  95, 386, 123,  11,  44,  93,   3,  92,  16,   9, 385,\n",
              "       384,   2, 383,   3,   1, 221,   2,  47])"
            ]
          },
          "metadata": {
            "tags": []
          },
          "execution_count": 40
        }
      ]
    },
    {
      "cell_type": "code",
      "metadata": {
        "id": "arK5ZGkvIzhD"
      },
      "source": [
        "#X,y=embedded_vector[:,:-1],embedded_vector[:,-1]\n",
        "X = sequences[:, :-1]\n",
        "y = sequences[:, -1]"
      ],
      "execution_count": 85,
      "outputs": []
    },
    {
      "cell_type": "code",
      "metadata": {
        "id": "Lwu3GnwNJU8j"
      },
      "source": [
        "vocab_size=len(tokenizer.word_index)+1"
      ],
      "execution_count": 86,
      "outputs": []
    },
    {
      "cell_type": "code",
      "metadata": {
        "id": "88Prfjh5JnrS",
        "outputId": "5000f974-bd9e-4d2a-9af9-d7181648ad9c",
        "colab": {
          "base_uri": "https://localhost:8080/",
          "height": 34
        }
      },
      "source": [
        "len(tokenizer.word_index)"
      ],
      "execution_count": 87,
      "outputs": [
        {
          "output_type": "execute_result",
          "data": {
            "text/plain": [
              "386"
            ]
          },
          "metadata": {
            "tags": []
          },
          "execution_count": 87
        }
      ]
    },
    {
      "cell_type": "code",
      "metadata": {
        "id": "Mk6aEWa8Jy89"
      },
      "source": [
        "y = to_categorical(y, num_classes=vocab_size)\n",
        "seq_length = X.shape[1]"
      ],
      "execution_count": 88,
      "outputs": []
    },
    {
      "cell_type": "code",
      "metadata": {
        "id": "Zejo-k7jKM9q",
        "outputId": "c1c6c593-2519-4750-bde5-92308d85c47d",
        "colab": {
          "base_uri": "https://localhost:8080/",
          "height": 34
        }
      },
      "source": [
        "X.shape[1]"
      ],
      "execution_count": 89,
      "outputs": [
        {
          "output_type": "execute_result",
          "data": {
            "text/plain": [
              "19"
            ]
          },
          "metadata": {
            "tags": []
          },
          "execution_count": 89
        }
      ]
    },
    {
      "cell_type": "code",
      "metadata": {
        "id": "GvRoEVNUKQHm"
      },
      "source": [
        "model=Sequential()\n",
        "model.add(Embedding(vocab_size,20,input_length=seq_length))\n",
        "model.add(LSTM(100,return_sequences=True))\n",
        "model.add(LSTM(100))\n",
        "model.add(Dense(100,activation='relu'))\n",
        "model.add(Dense(vocab_size,activation='softmax'))\n"
      ],
      "execution_count": 90,
      "outputs": []
    },
    {
      "cell_type": "code",
      "metadata": {
        "id": "LV3ZCk57V5dO",
        "outputId": "5dec48f1-224f-4912-d962-e1e157fc3148",
        "colab": {
          "base_uri": "https://localhost:8080/",
          "height": 319
        }
      },
      "source": [
        "model.summary()"
      ],
      "execution_count": 103,
      "outputs": [
        {
          "output_type": "stream",
          "text": [
            "Model: \"sequential_6\"\n",
            "_________________________________________________________________\n",
            "Layer (type)                 Output Shape              Param #   \n",
            "=================================================================\n",
            "embedding_7 (Embedding)      (None, 19, 20)            7740      \n",
            "_________________________________________________________________\n",
            "lstm_12 (LSTM)               (None, 19, 100)           48400     \n",
            "_________________________________________________________________\n",
            "lstm_13 (LSTM)               (None, 100)               80400     \n",
            "_________________________________________________________________\n",
            "dense_12 (Dense)             (None, 100)               10100     \n",
            "_________________________________________________________________\n",
            "dense_13 (Dense)             (None, 387)               39087     \n",
            "=================================================================\n",
            "Total params: 185,727\n",
            "Trainable params: 185,727\n",
            "Non-trainable params: 0\n",
            "_________________________________________________________________\n"
          ],
          "name": "stdout"
        }
      ]
    },
    {
      "cell_type": "code",
      "metadata": {
        "id": "ry53VTJ9LTkD"
      },
      "source": [
        "model.compile(loss='categorical_crossentropy',optimizer='adam',metrics=['accuracy'])"
      ],
      "execution_count": 91,
      "outputs": []
    },
    {
      "cell_type": "code",
      "metadata": {
        "id": "BoY7DipcMBBK",
        "outputId": "96ccd40f-a7cd-4473-a272-55e8753ae650",
        "colab": {
          "base_uri": "https://localhost:8080/",
          "height": 1000
        }
      },
      "source": [
        "model.fit(X,y,batch_size=32,epochs=120)"
      ],
      "execution_count": 92,
      "outputs": [
        {
          "output_type": "stream",
          "text": [
            "Epoch 1/120\n",
            "1177/1177 [==============================] - 8s 6ms/step - loss: 4.6145 - accuracy: 0.0835\n",
            "Epoch 2/120\n",
            "1177/1177 [==============================] - 7s 6ms/step - loss: 3.1091 - accuracy: 0.2557\n",
            "Epoch 3/120\n",
            "1177/1177 [==============================] - 7s 6ms/step - loss: 2.1409 - accuracy: 0.4594\n",
            "Epoch 4/120\n",
            "1177/1177 [==============================] - 7s 6ms/step - loss: 1.5149 - accuracy: 0.6198\n",
            "Epoch 5/120\n",
            "1177/1177 [==============================] - 7s 6ms/step - loss: 1.0949 - accuracy: 0.7322\n",
            "Epoch 6/120\n",
            "1177/1177 [==============================] - 7s 6ms/step - loss: 0.8284 - accuracy: 0.7974\n",
            "Epoch 7/120\n",
            "1177/1177 [==============================] - 7s 6ms/step - loss: 1.2480 - accuracy: 0.7048\n",
            "Epoch 8/120\n",
            "1177/1177 [==============================] - 7s 6ms/step - loss: 1.5971 - accuracy: 0.5884\n",
            "Epoch 9/120\n",
            "1177/1177 [==============================] - 7s 6ms/step - loss: 0.8256 - accuracy: 0.7975\n",
            "Epoch 10/120\n",
            "1177/1177 [==============================] - 7s 6ms/step - loss: 0.5671 - accuracy: 0.8608\n",
            "Epoch 11/120\n",
            "1177/1177 [==============================] - 7s 6ms/step - loss: 0.4553 - accuracy: 0.8830\n",
            "Epoch 12/120\n",
            "1177/1177 [==============================] - 7s 6ms/step - loss: 0.3923 - accuracy: 0.8968\n",
            "Epoch 13/120\n",
            "1177/1177 [==============================] - 7s 6ms/step - loss: 0.3544 - accuracy: 0.9036\n",
            "Epoch 14/120\n",
            "1177/1177 [==============================] - 7s 6ms/step - loss: 0.3259 - accuracy: 0.9085\n",
            "Epoch 15/120\n",
            "1177/1177 [==============================] - 7s 6ms/step - loss: 0.3042 - accuracy: 0.9129\n",
            "Epoch 16/120\n",
            "1177/1177 [==============================] - 7s 6ms/step - loss: 0.2890 - accuracy: 0.9160\n",
            "Epoch 17/120\n",
            "1177/1177 [==============================] - 8s 6ms/step - loss: 0.2771 - accuracy: 0.9189\n",
            "Epoch 18/120\n",
            "1177/1177 [==============================] - 8s 7ms/step - loss: 0.2613 - accuracy: 0.9223\n",
            "Epoch 19/120\n",
            "1177/1177 [==============================] - 7s 6ms/step - loss: 0.2539 - accuracy: 0.9238\n",
            "Epoch 20/120\n",
            "1177/1177 [==============================] - 7s 6ms/step - loss: 0.2418 - accuracy: 0.9265\n",
            "Epoch 21/120\n",
            "1177/1177 [==============================] - 7s 6ms/step - loss: 0.2347 - accuracy: 0.9290\n",
            "Epoch 22/120\n",
            "1177/1177 [==============================] - 8s 6ms/step - loss: 0.2267 - accuracy: 0.9295\n",
            "Epoch 23/120\n",
            "1177/1177 [==============================] - 7s 6ms/step - loss: 0.2222 - accuracy: 0.9307\n",
            "Epoch 24/120\n",
            "1177/1177 [==============================] - 7s 6ms/step - loss: 0.2145 - accuracy: 0.9332\n",
            "Epoch 25/120\n",
            "1177/1177 [==============================] - 8s 6ms/step - loss: 0.2108 - accuracy: 0.9339\n",
            "Epoch 26/120\n",
            "1177/1177 [==============================] - 7s 6ms/step - loss: 0.2047 - accuracy: 0.9352\n",
            "Epoch 27/120\n",
            "1177/1177 [==============================] - 7s 6ms/step - loss: 0.2022 - accuracy: 0.9363\n",
            "Epoch 28/120\n",
            "1177/1177 [==============================] - 7s 6ms/step - loss: 0.1983 - accuracy: 0.9359\n",
            "Epoch 29/120\n",
            "1177/1177 [==============================] - 8s 7ms/step - loss: 0.1925 - accuracy: 0.9383\n",
            "Epoch 30/120\n",
            "1177/1177 [==============================] - 7s 6ms/step - loss: 0.2076 - accuracy: 0.9361\n",
            "Epoch 31/120\n",
            "1177/1177 [==============================] - 7s 6ms/step - loss: 0.1936 - accuracy: 0.9383\n",
            "Epoch 32/120\n",
            "1177/1177 [==============================] - 7s 6ms/step - loss: 0.2082 - accuracy: 0.9358\n",
            "Epoch 33/120\n",
            "1177/1177 [==============================] - 8s 6ms/step - loss: 0.2090 - accuracy: 0.9336\n",
            "Epoch 34/120\n",
            "1177/1177 [==============================] - 7s 6ms/step - loss: 0.1975 - accuracy: 0.9361\n",
            "Epoch 35/120\n",
            "1177/1177 [==============================] - 7s 6ms/step - loss: 0.2009 - accuracy: 0.9351\n",
            "Epoch 36/120\n",
            "1177/1177 [==============================] - 7s 6ms/step - loss: 0.1926 - accuracy: 0.9365\n",
            "Epoch 37/120\n",
            "1177/1177 [==============================] - 7s 6ms/step - loss: 0.1893 - accuracy: 0.9376\n",
            "Epoch 38/120\n",
            "1177/1177 [==============================] - 7s 6ms/step - loss: 0.1816 - accuracy: 0.9398\n",
            "Epoch 39/120\n",
            "1177/1177 [==============================] - 7s 6ms/step - loss: 0.1764 - accuracy: 0.9409\n",
            "Epoch 40/120\n",
            "1177/1177 [==============================] - 7s 6ms/step - loss: 0.1845 - accuracy: 0.9382\n",
            "Epoch 41/120\n",
            "1177/1177 [==============================] - 7s 6ms/step - loss: 0.1747 - accuracy: 0.9409\n",
            "Epoch 42/120\n",
            "1177/1177 [==============================] - 7s 6ms/step - loss: 0.1726 - accuracy: 0.9423\n",
            "Epoch 43/120\n",
            "1177/1177 [==============================] - 7s 6ms/step - loss: 0.1743 - accuracy: 0.9406\n",
            "Epoch 44/120\n",
            "1177/1177 [==============================] - 7s 6ms/step - loss: 0.1726 - accuracy: 0.9400\n",
            "Epoch 45/120\n",
            "1177/1177 [==============================] - 7s 6ms/step - loss: 0.1734 - accuracy: 0.9406\n",
            "Epoch 46/120\n",
            "1177/1177 [==============================] - 7s 6ms/step - loss: 0.1674 - accuracy: 0.9434\n",
            "Epoch 47/120\n",
            "1177/1177 [==============================] - 7s 6ms/step - loss: 0.1693 - accuracy: 0.9408\n",
            "Epoch 48/120\n",
            "1177/1177 [==============================] - 7s 6ms/step - loss: 0.1855 - accuracy: 0.9379\n",
            "Epoch 49/120\n",
            "1177/1177 [==============================] - 7s 6ms/step - loss: 0.1707 - accuracy: 0.9419\n",
            "Epoch 50/120\n",
            "1177/1177 [==============================] - 7s 6ms/step - loss: 0.1633 - accuracy: 0.9426\n",
            "Epoch 51/120\n",
            "1177/1177 [==============================] - 7s 6ms/step - loss: 0.1638 - accuracy: 0.9432\n",
            "Epoch 52/120\n",
            "1177/1177 [==============================] - 7s 6ms/step - loss: 0.1677 - accuracy: 0.9418\n",
            "Epoch 53/120\n",
            "1177/1177 [==============================] - 7s 6ms/step - loss: 0.1650 - accuracy: 0.9424\n",
            "Epoch 54/120\n",
            "1177/1177 [==============================] - 7s 6ms/step - loss: 0.1627 - accuracy: 0.9425\n",
            "Epoch 55/120\n",
            "1177/1177 [==============================] - 7s 6ms/step - loss: 0.1595 - accuracy: 0.9434\n",
            "Epoch 56/120\n",
            "1177/1177 [==============================] - 7s 6ms/step - loss: 0.1592 - accuracy: 0.9443\n",
            "Epoch 57/120\n",
            "1177/1177 [==============================] - 7s 6ms/step - loss: 0.1604 - accuracy: 0.9442\n",
            "Epoch 58/120\n",
            "1177/1177 [==============================] - 7s 6ms/step - loss: 0.1581 - accuracy: 0.9444\n",
            "Epoch 59/120\n",
            "1177/1177 [==============================] - 7s 6ms/step - loss: 0.1600 - accuracy: 0.9446\n",
            "Epoch 60/120\n",
            "1177/1177 [==============================] - 7s 6ms/step - loss: 0.1626 - accuracy: 0.9430\n",
            "Epoch 61/120\n",
            "1177/1177 [==============================] - 7s 6ms/step - loss: 0.1585 - accuracy: 0.9437\n",
            "Epoch 62/120\n",
            "1177/1177 [==============================] - 7s 6ms/step - loss: 0.1579 - accuracy: 0.9443\n",
            "Epoch 63/120\n",
            "1177/1177 [==============================] - 7s 6ms/step - loss: 0.1588 - accuracy: 0.9434\n",
            "Epoch 64/120\n",
            "1177/1177 [==============================] - 8s 6ms/step - loss: 0.1530 - accuracy: 0.9453\n",
            "Epoch 65/120\n",
            "1177/1177 [==============================] - 7s 6ms/step - loss: 0.1550 - accuracy: 0.9446\n",
            "Epoch 66/120\n",
            "1177/1177 [==============================] - 7s 6ms/step - loss: 0.1522 - accuracy: 0.9452\n",
            "Epoch 67/120\n",
            "1177/1177 [==============================] - 7s 6ms/step - loss: 0.1525 - accuracy: 0.9453\n",
            "Epoch 68/120\n",
            "1177/1177 [==============================] - 7s 6ms/step - loss: 0.1547 - accuracy: 0.9450\n",
            "Epoch 69/120\n",
            "1177/1177 [==============================] - 8s 6ms/step - loss: 0.1537 - accuracy: 0.9446\n",
            "Epoch 70/120\n",
            "1177/1177 [==============================] - 7s 6ms/step - loss: 0.1580 - accuracy: 0.9430\n",
            "Epoch 71/120\n",
            "1177/1177 [==============================] - 8s 6ms/step - loss: 0.1902 - accuracy: 0.9371\n",
            "Epoch 72/120\n",
            "1177/1177 [==============================] - 8s 7ms/step - loss: 0.1789 - accuracy: 0.9385\n",
            "Epoch 73/120\n",
            "1177/1177 [==============================] - 7s 6ms/step - loss: 0.2565 - accuracy: 0.9256\n",
            "Epoch 74/120\n",
            "1177/1177 [==============================] - 8s 6ms/step - loss: 0.1953 - accuracy: 0.9349\n",
            "Epoch 75/120\n",
            "1177/1177 [==============================] - 8s 6ms/step - loss: 0.1562 - accuracy: 0.9446\n",
            "Epoch 76/120\n",
            "1177/1177 [==============================] - 7s 6ms/step - loss: 0.1546 - accuracy: 0.9438\n",
            "Epoch 77/120\n",
            "1177/1177 [==============================] - 7s 6ms/step - loss: 0.1548 - accuracy: 0.9430\n",
            "Epoch 78/120\n",
            "1177/1177 [==============================] - 7s 6ms/step - loss: 0.1694 - accuracy: 0.9396\n",
            "Epoch 79/120\n",
            "1177/1177 [==============================] - 7s 6ms/step - loss: 0.1595 - accuracy: 0.9434\n",
            "Epoch 80/120\n",
            "1177/1177 [==============================] - 7s 6ms/step - loss: 0.1572 - accuracy: 0.9430\n",
            "Epoch 81/120\n",
            "1177/1177 [==============================] - 7s 6ms/step - loss: 0.1540 - accuracy: 0.9448\n",
            "Epoch 82/120\n",
            "1177/1177 [==============================] - 7s 6ms/step - loss: 0.1742 - accuracy: 0.9397\n",
            "Epoch 83/120\n",
            "1177/1177 [==============================] - 7s 6ms/step - loss: 0.1620 - accuracy: 0.9413\n",
            "Epoch 84/120\n",
            "1177/1177 [==============================] - 7s 6ms/step - loss: 0.1527 - accuracy: 0.9445\n",
            "Epoch 85/120\n",
            "1177/1177 [==============================] - 7s 6ms/step - loss: 0.1533 - accuracy: 0.9441\n",
            "Epoch 86/120\n",
            "1177/1177 [==============================] - 7s 6ms/step - loss: 0.1531 - accuracy: 0.9438\n",
            "Epoch 87/120\n",
            "1177/1177 [==============================] - 7s 6ms/step - loss: 0.1522 - accuracy: 0.9437\n",
            "Epoch 88/120\n",
            "1177/1177 [==============================] - 7s 6ms/step - loss: 0.1552 - accuracy: 0.9438\n",
            "Epoch 89/120\n",
            "1177/1177 [==============================] - 7s 6ms/step - loss: 0.1528 - accuracy: 0.9440\n",
            "Epoch 90/120\n",
            "1177/1177 [==============================] - 7s 6ms/step - loss: 0.1502 - accuracy: 0.9443\n",
            "Epoch 91/120\n",
            "1177/1177 [==============================] - 7s 6ms/step - loss: 0.1474 - accuracy: 0.9458\n",
            "Epoch 92/120\n",
            "1177/1177 [==============================] - 7s 6ms/step - loss: 0.1500 - accuracy: 0.9446\n",
            "Epoch 93/120\n",
            "1177/1177 [==============================] - 7s 6ms/step - loss: 0.1479 - accuracy: 0.9454\n",
            "Epoch 94/120\n",
            "1177/1177 [==============================] - 9s 7ms/step - loss: 0.1474 - accuracy: 0.9455\n",
            "Epoch 95/120\n",
            "1177/1177 [==============================] - 7s 6ms/step - loss: 0.1469 - accuracy: 0.9464\n",
            "Epoch 96/120\n",
            "1177/1177 [==============================] - 7s 6ms/step - loss: 0.1466 - accuracy: 0.9453\n",
            "Epoch 97/120\n",
            "1177/1177 [==============================] - 7s 6ms/step - loss: 0.1477 - accuracy: 0.9453\n",
            "Epoch 98/120\n",
            "1177/1177 [==============================] - 7s 6ms/step - loss: 0.1471 - accuracy: 0.9451\n",
            "Epoch 99/120\n",
            "1177/1177 [==============================] - 7s 6ms/step - loss: 0.1485 - accuracy: 0.9438\n",
            "Epoch 100/120\n",
            "1177/1177 [==============================] - 8s 7ms/step - loss: 0.1504 - accuracy: 0.9441\n",
            "Epoch 101/120\n",
            "1177/1177 [==============================] - 7s 6ms/step - loss: 0.1472 - accuracy: 0.9450\n",
            "Epoch 102/120\n",
            "1177/1177 [==============================] - 7s 6ms/step - loss: 0.1455 - accuracy: 0.9454\n",
            "Epoch 103/120\n",
            "1177/1177 [==============================] - 7s 6ms/step - loss: 0.1469 - accuracy: 0.9451\n",
            "Epoch 104/120\n",
            "1177/1177 [==============================] - 7s 6ms/step - loss: 0.1492 - accuracy: 0.9454\n",
            "Epoch 105/120\n",
            "1177/1177 [==============================] - 7s 6ms/step - loss: 0.1476 - accuracy: 0.9456\n",
            "Epoch 106/120\n",
            "1177/1177 [==============================] - 7s 6ms/step - loss: 0.1427 - accuracy: 0.9462\n",
            "Epoch 107/120\n",
            "1177/1177 [==============================] - 7s 6ms/step - loss: 0.1434 - accuracy: 0.9453\n",
            "Epoch 108/120\n",
            "1177/1177 [==============================] - 7s 6ms/step - loss: 0.1447 - accuracy: 0.9464\n",
            "Epoch 109/120\n",
            "1177/1177 [==============================] - 7s 6ms/step - loss: 0.1441 - accuracy: 0.9464\n",
            "Epoch 110/120\n",
            "1177/1177 [==============================] - 7s 6ms/step - loss: 0.1433 - accuracy: 0.9464\n",
            "Epoch 111/120\n",
            "1177/1177 [==============================] - 8s 7ms/step - loss: 0.1487 - accuracy: 0.9449\n",
            "Epoch 112/120\n",
            "1177/1177 [==============================] - 7s 6ms/step - loss: 0.1423 - accuracy: 0.9467\n",
            "Epoch 113/120\n",
            "1177/1177 [==============================] - 7s 6ms/step - loss: 0.1456 - accuracy: 0.9447\n",
            "Epoch 114/120\n",
            "1177/1177 [==============================] - 8s 7ms/step - loss: 0.1500 - accuracy: 0.9448\n",
            "Epoch 115/120\n",
            "1177/1177 [==============================] - 7s 6ms/step - loss: 0.1451 - accuracy: 0.9451\n",
            "Epoch 116/120\n",
            "1177/1177 [==============================] - 7s 6ms/step - loss: 0.3636 - accuracy: 0.9027\n",
            "Epoch 117/120\n",
            "1177/1177 [==============================] - 7s 6ms/step - loss: 0.3221 - accuracy: 0.9069\n",
            "Epoch 118/120\n",
            "1177/1177 [==============================] - 7s 6ms/step - loss: 0.2530 - accuracy: 0.9228\n",
            "Epoch 119/120\n",
            "1177/1177 [==============================] - 7s 6ms/step - loss: 0.2234 - accuracy: 0.9286\n",
            "Epoch 120/120\n",
            "1177/1177 [==============================] - 7s 6ms/step - loss: 0.2118 - accuracy: 0.9316\n"
          ],
          "name": "stdout"
        },
        {
          "output_type": "execute_result",
          "data": {
            "text/plain": [
              "<tensorflow.python.keras.callbacks.History at 0x7fa00b7b9278>"
            ]
          },
          "metadata": {
            "tags": []
          },
          "execution_count": 92
        }
      ]
    },
    {
      "cell_type": "code",
      "metadata": {
        "id": "uYhE3KPpMLKF"
      },
      "source": [
        "poetry_length = 10\n",
        "def generate_poetry(seed_text, n_lines):\n",
        "  for i in range(n_lines):\n",
        "    text = []\n",
        "    for _ in range(poetry_length):\n",
        "      encoded = tokenizer.texts_to_sequences([seed_text])\n",
        "      encoded = pad_sequences(encoded, maxlen=seq_length, padding='pre')\n",
        "\n",
        "      y_pred = np.argmax(model.predict(encoded), axis=-1)\n",
        "\n",
        "      predicted_word = \"\"\n",
        "      for word, index in tokenizer.word_index.items():\n",
        "        if index == y_pred:\n",
        "          predicted_word = word\n",
        "          break\n",
        "\n",
        "      seed_text = seed_text + ' ' + predicted_word\n",
        "      text.append(predicted_word)\n",
        "\n",
        "    seed_text = text[-1]\n",
        "    text = ' '.join(text)\n",
        "    print(text)"
      ],
      "execution_count": 97,
      "outputs": []
    },
    {
      "cell_type": "code",
      "metadata": {
        "id": "a3-8Cm6OMn0p",
        "outputId": "7e896d42-9d10-448c-c8fe-c6c6a6054b56",
        "colab": {
          "base_uri": "https://localhost:8080/",
          "height": 101
        }
      },
      "source": [
        "seed_text = 'i love you'\n",
        "generate_poetry(seed_text, 5)"
      ],
      "execution_count": 98,
      "outputs": [
        {
          "output_type": "stream",
          "text": [
            "treat your girl that i can give you all the\n",
            "beat are gonna rolling in the i have no story\n",
            "to make love to you love to ooh baby love\n",
            "to yeah and i can tell by the way you\n",
            "never had met rolling in the deep are gonna rolling\n"
          ],
          "name": "stdout"
        }
      ]
    },
    {
      "cell_type": "code",
      "metadata": {
        "id": "1FiYj1gAMu0C",
        "outputId": "c954abb1-106c-4686-ff17-93a1ad9597f0",
        "colab": {
          "base_uri": "https://localhost:8080/",
          "height": 101
        }
      },
      "source": [
        "seed_text = 'i have no story'\n",
        "generate_poetry(seed_text, 5)"
      ],
      "execution_count": 99,
      "outputs": [
        {
          "output_type": "stream",
          "text": [
            "to be told but heard one on you and gonna\n",
            "wish you never had met rolling in the deep are\n",
            "gonna rolling in the i have no story to be\n",
            "home hello from the outside at least i can say\n",
            "that maybe you could help me ease my mind i\n"
          ],
          "name": "stdout"
        }
      ]
    },
    {
      "cell_type": "code",
      "metadata": {
        "id": "iiHL8kzhU0j6",
        "outputId": "1a3d5aa0-3a81-4054-9aa8-91167ceaeb78",
        "colab": {
          "base_uri": "https://localhost:8080/",
          "height": 34
        }
      },
      "source": [
        "loss, accuracy = model.evaluate(X, y, verbose=0)\n",
        "print('Accuracy: %f' % (accuracy*100))"
      ],
      "execution_count": 102,
      "outputs": [
        {
          "output_type": "stream",
          "text": [
            "Accuracy: 93.881345\n"
          ],
          "name": "stdout"
        }
      ]
    },
    {
      "cell_type": "code",
      "metadata": {
        "id": "vkfyPeUDM40k"
      },
      "source": [
        ""
      ],
      "execution_count": 102,
      "outputs": []
    },
    {
      "cell_type": "code",
      "metadata": {
        "id": "DoOs5AEnNEM1"
      },
      "source": [
        ""
      ],
      "execution_count": null,
      "outputs": []
    }
  ]
}